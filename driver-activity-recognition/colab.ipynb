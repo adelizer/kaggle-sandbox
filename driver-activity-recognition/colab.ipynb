{
 "cells": [
  {
   "cell_type": "code",
   "execution_count": null,
   "metadata": {
    "collapsed": true
   },
   "outputs": [],
   "source": [
    "from google.colab import drive\n",
    "drive.mount('/content/gdrive')\n",
    "import pickle\n",
    "\n",
    "file_path = \"/content/gdrive/My Drive/kaggle/preprocessed_data.pkl\"\n",
    "\n",
    "def load_data():\n",
    "  with open(file_path, 'rb') as f:\n",
    "      x_train, y_train = pickle.load(f)\n",
    "      return x_train, y_train\n",
    "    \n",
    "    \n",
    "x, y = load_data()\n",
    "print(x.shape)\n",
    "print(y.shape)"
   ]
  }
 ],
 "metadata": {
  "kernelspec": {
   "display_name": "Python 2",
   "language": "python",
   "name": "python2"
  },
  "language_info": {
   "codemirror_mode": {
    "name": "ipython",
    "version": 2
   },
   "file_extension": ".py",
   "mimetype": "text/x-python",
   "name": "python",
   "nbconvert_exporter": "python",
   "pygments_lexer": "ipython2",
   "version": "2.7.6"
  }
 },
 "nbformat": 4,
 "nbformat_minor": 0
}
