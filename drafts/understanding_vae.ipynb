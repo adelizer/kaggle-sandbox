{
  "nbformat": 4,
  "nbformat_minor": 0,
  "metadata": {
    "colab": {
      "name": "understanding-vae.ipynb",
      "version": "0.3.2",
      "provenance": [],
      "collapsed_sections": []
    },
    "kernelspec": {
      "name": "python3",
      "display_name": "Python 3"
    },
    "accelerator": "GPU"
  },
  "cells": [
    {
      "cell_type": "markdown",
      "metadata": {
        "id": "No6GSlexRKqL",
        "colab_type": "text"
      },
      "source": [
        "## Understanding Variational Auto-Encoders\n",
        "\n",
        "A notebook that explores the basic ideas behind VAEs"
      ]
    },
    {
      "cell_type": "code",
      "metadata": {
        "id": "vvQh3_SxfmZ3",
        "colab_type": "code",
        "colab": {}
      },
      "source": [
        "import numpy as np\n",
        "import tensorflow as tf\n",
        "import matplotlib.pyplot as plt\n",
        "from keras.datasets import fashion_mnist\n",
        "%matplotlib inline\n",
        "\n",
        "np.random.seed(0)"
      ],
      "execution_count": 0,
      "outputs": []
    },
    {
      "cell_type": "code",
      "metadata": {
        "id": "aNwc8XrogpG3",
        "colab_type": "code",
        "outputId": "0a5c4c4a-6e3a-421e-fa61-a2dc755df2d6",
        "colab": {
          "base_uri": "https://localhost:8080/",
          "height": 34
        }
      },
      "source": [
        "# First looking at autoencoders\n",
        "(x_train, y_train), (x_test, y_test) = fashion_mnist.load_data()\n",
        "x_train = x_train / 255.\n",
        "x_test = x_test / 255.\n",
        "x_train = np.reshape(x_train, (x_train.shape[0], -1))\n",
        "x_test = np.reshape(x_test, (x_test.shape[0], -1))\n",
        "print(x_train.shape, y_train.shape, x_test.shape, y_test.shape)"
      ],
      "execution_count": 0,
      "outputs": [
        {
          "output_type": "stream",
          "text": [
            "(60000, 784) (60000,) (10000, 784) (10000,)\n"
          ],
          "name": "stdout"
        }
      ]
    },
    {
      "cell_type": "code",
      "metadata": {
        "id": "W7cT36-JldC5",
        "colab_type": "code",
        "colab": {}
      },
      "source": [
        "img1 = np.expand_dims(x_train[0],axis=0)\n",
        "img2 = np.expand_dims(x_train[1], axis=0)\n",
        "plt.imshow(img1.reshape(28,28))\n",
        "plt.figure()\n",
        "plt.imshow(img2.reshape(28,28))\n",
        "\n",
        "training_data = tf.placeholder(tf.float32, [None, x_train.shape[1]])\n",
        "labels = tf.placeholder(tf.float32, [None, x_train.shape[1]])\n",
        "\n",
        "output = training_data + labels\n",
        "\n",
        "with tf.Session() as sess:\n",
        "    print(img1.shape, img2.shape)\n",
        "    print(training_data.shape)\n",
        "    ret = sess.run([output], feed_dict={training_data: img1, labels: img2})\n",
        "    print(ret[0].shape)\n",
        "    plt.figure()\n",
        "    plt.imshow(ret[0].reshape(28,28))"
      ],
      "execution_count": 0,
      "outputs": []
    },
    {
      "cell_type": "code",
      "metadata": {
        "id": "BWUowTEfgvh-",
        "colab_type": "code",
        "colab": {}
      },
      "source": [
        ""
      ],
      "execution_count": 0,
      "outputs": []
    },
    {
      "cell_type": "code",
      "metadata": {
        "id": "KZR8cYq1iA6F",
        "colab_type": "code",
        "colab": {}
      },
      "source": [
        ""
      ],
      "execution_count": 0,
      "outputs": []
    }
  ]
}