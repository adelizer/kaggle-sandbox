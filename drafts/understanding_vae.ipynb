{
  "nbformat": 4,
  "nbformat_minor": 0,
  "metadata": {
    "colab": {
      "name": "understanding-vae.ipynb",
      "version": "0.3.2",
      "provenance": [],
      "collapsed_sections": []
    },
    "kernelspec": {
      "name": "python3",
      "display_name": "Python 3"
    },
    "accelerator": "GPU"
  },
  "cells": [
    {
      "cell_type": "markdown",
      "metadata": {
        "id": "No6GSlexRKqL",
        "colab_type": "text"
      },
      "source": [
        "## Understanding Variational Auto-Encoders\n",
        "\n",
        "A notebook that explores the basic ideas behind VAEs"
      ]
    },
    {
      "cell_type": "code",
      "metadata": {
        "id": "vvQh3_SxfmZ3",
        "colab_type": "code",
        "outputId": "48f5dc0d-15bc-41ce-c983-3aa6d82c0365",
        "colab": {
          "base_uri": "https://localhost:8080/",
          "height": 34
        }
      },
      "source": [
        "import numpy as np\n",
        "import tensorflow as tf\n",
        "import seaborn as sns\n",
        "import matplotlib.pyplot as plt\n",
        "from keras.datasets import fashion_mnist\n",
        "%matplotlib inline\n",
        "\n",
        "np.random.seed(0)"
      ],
      "execution_count": 1,
      "outputs": [
        {
          "output_type": "stream",
          "text": [
            "Using TensorFlow backend.\n"
          ],
          "name": "stderr"
        }
      ]
    },
    {
      "cell_type": "code",
      "metadata": {
        "id": "aNwc8XrogpG3",
        "colab_type": "code",
        "outputId": "251b4880-cbb3-49be-e381-31b56644bdc5",
        "colab": {
          "base_uri": "https://localhost:8080/",
          "height": 34
        }
      },
      "source": [
        "\"\"\"\n",
        "First, lets look at a standard autoencoder.\n",
        "Demonstrated through the fashion mnist dataset\n",
        "\"\"\"\n",
        "(x_train, y_train), (x_test, y_test) = fashion_mnist.load_data()\n",
        "x_train = x_train / 255.\n",
        "x_test = x_test / 255.\n",
        "x_train = np.reshape(x_train, (x_train.shape[0], -1))\n",
        "x_test = np.reshape(x_test, (x_test.shape[0], -1))\n",
        "print(x_train.shape, y_train.shape, x_test.shape, y_test.shape)"
      ],
      "execution_count": 3,
      "outputs": [
        {
          "output_type": "stream",
          "text": [
            "(60000, 784) (60000,) (10000, 784) (10000,)\n"
          ],
          "name": "stdout"
        }
      ]
    },
    {
      "cell_type": "code",
      "metadata": {
        "id": "NJLCsFL1jlnL",
        "colab_type": "code",
        "colab": {}
      },
      "source": [
        "\"\"\"\n",
        "Define the architecture of the network:\n",
        "input layer -> 3 hidden layers -> output layer\n",
        "that means 4 weight matrices and 4 biases\n",
        "\"\"\"\n",
        "\n",
        "n_input = 784  # input layer (28x28 pixels)\n",
        "n_hidden1 = 128  # 1st hidden layer\n",
        "n_hidden2 = 16  # 2nd hidden layer\n",
        "n_hidden3 = 128  # 3rd hidden layer\n",
        "n_output = 784  # output layer (0-9 digits)\n",
        "\n",
        "\n",
        "# define hyperparameters \n",
        "learning_rate = 1e-4\n",
        "n_iterations = 1000\n",
        "batch_size = 128\n",
        "# dropout = 0.5\n",
        "display_freq = 100\n",
        "\n",
        "# The main part: \n",
        "X = tf.placeholder(\"float\", [None, n_input], name='X')\n",
        "Y = tf.placeholder(\"float\", [None, n_output], name='Y')\n",
        "keep_prob = tf.placeholder(tf.float32)\n",
        "\n",
        "weights = {\n",
        "    'w1': tf.Variable(tf.truncated_normal([n_input, n_hidden1], stddev=0.1)),\n",
        "    'w2': tf.Variable(tf.truncated_normal([n_hidden1, n_hidden2], stddev=0.1)),\n",
        "    'w3': tf.Variable(tf.truncated_normal([n_hidden2, n_hidden3], stddev=0.1)),\n",
        "    'out': tf.Variable(tf.truncated_normal([n_hidden3, n_output], stddev=0.1)),\n",
        "}\n",
        "\n",
        "biases = {\n",
        "    'b1': tf.Variable(tf.constant(0.0, shape=[n_hidden1])),\n",
        "    'b2': tf.Variable(tf.constant(0.0, shape=[n_hidden2])),\n",
        "    'b3': tf.Variable(tf.constant(0.0, shape=[n_hidden3])),\n",
        "    'out': tf.Variable(tf.constant(0.0, shape=[n_output]))\n",
        "}\n",
        "\n",
        "# define the graph\n",
        "# TODO: add activation functions\n",
        "layer_1 = tf.nn.relu(tf.add(tf.matmul(X, weights['w1']), biases['b1']))\n",
        "layer_2 = tf.nn.relu(tf.add(tf.matmul(layer_1, weights['w2']), biases['b2']))\n",
        "layer_3 = tf.nn.relu(tf.add(tf.matmul(layer_2, weights['w3']), biases['b3']))\n",
        "# layer_drop = tf.nn.dropout(layer_3, rate=1-keep_prob)\n",
        "output = tf.matmul(layer_3, weights['out']) + biases['out']\n",
        "\n",
        "loss = tf.reduce_mean(\n",
        "                tf.losses.mean_squared_error(labels=Y, predictions=output))\n",
        "train_step = tf.train.AdamOptimizer().minimize(loss)"
      ],
      "execution_count": 0,
      "outputs": []
    },
    {
      "cell_type": "code",
      "metadata": {
        "id": "blSh6PsEXimf",
        "colab_type": "code",
        "colab": {}
      },
      "source": [
        "cost = tf.reduce_mean(tf.cast(tf.losses.mean_squared_error(labels=Y, predictions=output), tf.float32))"
      ],
      "execution_count": 0,
      "outputs": []
    },
    {
      "cell_type": "code",
      "metadata": {
        "id": "mzpo3eUGak2Q",
        "colab_type": "code",
        "colab": {
          "base_uri": "https://localhost:8080/",
          "height": 708
        },
        "outputId": "ae4c81fa-62e1-4f58-b20f-c499b64b4899"
      },
      "source": [
        "with tf.Session() as sess:\n",
        "    init = tf.global_variables_initializer()\n",
        "    sess.run(init)\n",
        "    for j in range(10): # number of epochs\n",
        "        for i in range(0, x_train.shape[0], 32):\n",
        "            x_batch = x_train[i:i+32]\n",
        "            _, mse = sess.run([train_step, cost], feed_dict={X: x_batch, Y: x_batch})\n",
        "        print('epoch {}, MSE={}'.format(j, mse))\n",
        "        \n",
        "    sample_img = np.expand_dims(x_test[0], axis=0)\n",
        "    pred = sess.run(output, feed_dict={X:sample_img})\n",
        "    print(pred.shape)\n",
        "    img = np.reshape(sample_img, (28,28))\n",
        "    pred = np.reshape(pred, (28,28))\n",
        "    plt.imshow(img)\n",
        "    plt.figure()\n",
        "    plt.imshow(pred)\n"
      ],
      "execution_count": 81,
      "outputs": [
        {
          "output_type": "stream",
          "text": [
            "epoch 0, MSE=0.02152159810066223\n",
            "epoch 1, MSE=0.02010122314095497\n",
            "epoch 2, MSE=0.01889711618423462\n",
            "epoch 3, MSE=0.018310699611902237\n",
            "epoch 4, MSE=0.017833715304732323\n",
            "epoch 5, MSE=0.016953712329268456\n",
            "epoch 6, MSE=0.016695812344551086\n",
            "epoch 7, MSE=0.016513291746377945\n",
            "epoch 8, MSE=0.016417106613516808\n",
            "epoch 9, MSE=0.016228588297963142\n",
            "(1, 784)\n"
          ],
          "name": "stdout"
        },
        {
          "output_type": "display_data",
          "data": {
            "image/png": "[encoded data removed]",
            "text/plain": [
              "<Figure size 432x288 with 1 Axes>"
            ]
          },
          "metadata": {
            "tags": []
          }
        },
        {
          "output_type": "display_data",
          "data": {
            "image/png": "[encoded data removed]",
            "text/plain": [
              "<Figure size 432x288 with 1 Axes>"
            ]
          },
          "metadata": {
            "tags": []
          }
        }
      ]
    },
    {
      "cell_type": "code",
      "metadata": {
        "id": "W7cT36-JldC5",
        "colab_type": "code",
        "colab": {}
      },
      "source": [
        "img1 = np.expand_dims(x_train[0],axis=0)\n",
        "img2 = np.expand_dims(x_train[1], axis=0)\n",
        "plt.imshow(img1.reshape(28,28))\n",
        "plt.figure()\n",
        "plt.imshow(img2.reshape(28,28))\n",
        "\n",
        "training_data = tf.placeholder(tf.float32, [None, x_train.shape[1]])\n",
        "labels = tf.placeholder(tf.float32, [None, x_train.shape[1]])\n",
        "\n",
        "output = training_data + labels\n",
        "\n",
        "with tf.Session() as sess:\n",
        "    print(img1.shape, img2.shape)\n",
        "    print(training_data.shape)\n",
        "    ret = sess.run([output], feed_dict={training_data: img1, labels: img2})\n",
        "    print(ret[0].shape)\n",
        "    plt.figure()\n",
        "    plt.imshow(ret[0].reshape(28,28))"
      ],
      "execution_count": 0,
      "outputs": []
    },
    {
      "cell_type": "code",
      "metadata": {
        "id": "BWUowTEfgvh-",
        "colab_type": "code",
        "colab": {
          "base_uri": "https://localhost:8080/",
          "height": 272
        },
        "outputId": "38dff1b9-e595-4534-9ba5-40b987517930"
      },
      "source": [
        "\"\"\"\n",
        "Lets first verify the number of layers and activations needed for auto enc\n",
        "\"\"\"\n",
        "import keras\n",
        "model = keras.Sequential()\n",
        "model.add(keras.layers.Dense(128, input_shape=(x_train.shape[1],), activation='relu'))\n",
        "model.add(keras.layers.Dense(16, activation='relu'))\n",
        "model.add(keras.layers.Dense(128, activation='relu'))\n",
        "model.add(keras.layers.Dense(784))\n",
        "model.compile(loss='mse', optimizer='adam')\n",
        "model.summary()\n",
        "\n"
      ],
      "execution_count": 47,
      "outputs": [
        {
          "output_type": "stream",
          "text": [
            "_________________________________________________________________\n",
            "Layer (type)                 Output Shape              Param #   \n",
            "=================================================================\n",
            "dense_5 (Dense)              (None, 128)               100480    \n",
            "_________________________________________________________________\n",
            "dense_6 (Dense)              (None, 16)                2064      \n",
            "_________________________________________________________________\n",
            "dense_7 (Dense)              (None, 128)               2176      \n",
            "_________________________________________________________________\n",
            "dense_8 (Dense)              (None, 784)               101136    \n",
            "=================================================================\n",
            "Total params: 205,856\n",
            "Trainable params: 205,856\n",
            "Non-trainable params: 0\n",
            "_________________________________________________________________\n"
          ],
          "name": "stdout"
        }
      ]
    },
    {
      "cell_type": "code",
      "metadata": {
        "id": "kDkVgSGqlh54",
        "colab_type": "code",
        "colab": {
          "base_uri": "https://localhost:8080/",
          "height": 408
        },
        "outputId": "a020cbf9-85b4-4e67-d14f-8b3e51bad675"
      },
      "source": [
        "history = model.fit(x_train, x_train, epochs=10, verbose=1,)"
      ],
      "execution_count": 48,
      "outputs": [
        {
          "output_type": "stream",
          "text": [
            "WARNING:tensorflow:From /usr/local/lib/python3.6/dist-packages/tensorflow/python/ops/math_ops.py:3066: to_int32 (from tensorflow.python.ops.math_ops) is deprecated and will be removed in a future version.\n",
            "Instructions for updating:\n",
            "Use tf.cast instead.\n",
            "Epoch 1/10\n",
            "60000/60000 [==============================] - 8s 126us/step - loss: 0.0264\n",
            "Epoch 2/10\n",
            "60000/60000 [==============================] - 6s 107us/step - loss: 0.0205\n",
            "Epoch 3/10\n",
            "60000/60000 [==============================] - 6s 107us/step - loss: 0.0194\n",
            "Epoch 4/10\n",
            "60000/60000 [==============================] - 6s 106us/step - loss: 0.0185\n",
            "Epoch 5/10\n",
            "60000/60000 [==============================] - 6s 107us/step - loss: 0.0181\n",
            "Epoch 6/10\n",
            "60000/60000 [==============================] - 6s 106us/step - loss: 0.0179\n",
            "Epoch 7/10\n",
            "60000/60000 [==============================] - 6s 107us/step - loss: 0.0177\n",
            "Epoch 8/10\n",
            "60000/60000 [==============================] - 6s 108us/step - loss: 0.0175\n",
            "Epoch 9/10\n",
            "60000/60000 [==============================] - 7s 117us/step - loss: 0.0174\n",
            "Epoch 10/10\n",
            "60000/60000 [==============================] - 7s 124us/step - loss: 0.0173\n"
          ],
          "name": "stdout"
        }
      ]
    },
    {
      "cell_type": "code",
      "metadata": {
        "id": "Az98d74EmysM",
        "colab_type": "code",
        "colab": {}
      },
      "source": [
        "pred = model.predict(x_test)"
      ],
      "execution_count": 0,
      "outputs": []
    },
    {
      "cell_type": "code",
      "metadata": {
        "id": "XFayXZFymOib",
        "colab_type": "code",
        "colab": {
          "base_uri": "https://localhost:8080/",
          "height": 538
        },
        "outputId": "07d22b9c-204b-4891-95b0-1a1cd10ed089"
      },
      "source": [
        "idx = np.random.randint(0, x_test.shape[0])\n",
        "img_in = np.reshape(x_test[idx], (28,28))\n",
        "img_out = np.reshape(pred[idx], [28,28])\n",
        "plt.imshow(img_in)\n",
        "plt.figure()\n",
        "plt.imshow(img_out)"
      ],
      "execution_count": 58,
      "outputs": [
        {
          "output_type": "execute_result",
          "data": {
            "text/plain": [
              "<matplotlib.image.AxesImage at 0x7f0d9c585668>"
            ]
          },
          "metadata": {
            "tags": []
          },
          "execution_count": 58
        },
        {
          "output_type": "display_data",
          "data": {
            "image/png": "[encoded data removed]",
            "text/plain": [
              "<Figure size 432x288 with 1 Axes>"
            ]
          },
          "metadata": {
            "tags": []
          }
        },
        {
          "output_type": "display_data",
          "data": {
            "image/png": "[encoded data removed]",
            "text/plain": [
              "<Figure size 432x288 with 1 Axes>"
            ]
          },
          "metadata": {
            "tags": []
          }
        }
      ]
    },
    {
      "cell_type": "code",
      "metadata": {
        "id": "KZR8cYq1iA6F",
        "colab_type": "code",
        "outputId": "4e44432d-1dd2-4db1-c0dc-3d0f326e7a07",
        "colab": {
          "base_uri": "https://localhost:8080/",
          "height": 538
        }
      },
      "source": [
        "\"\"\"\n",
        "Intermission: sampling from a distribution\n",
        "\"\"\"\n",
        "nsamples = 10000\n",
        "y = np.random.np.random.normal(0,1,nsamples)\n",
        "x = np.linspace(-10, 10, nsamples)\n",
        "\n",
        "# plt.plot(y, x, '.')\n",
        "plt.hist(y)\n",
        "plt.figure()\n",
        "sns.kdeplot(data=y, shade=True)"
      ],
      "execution_count": 0,
      "outputs": [
        {
          "output_type": "execute_result",
          "data": {
            "text/plain": [
              "<matplotlib.axes._subplots.AxesSubplot at 0x7f8fa13aa2e8>"
            ]
          },
          "metadata": {
            "tags": []
          },
          "execution_count": 16
        },
        {
          "output_type": "display_data",
          "data": {
            "image/png": "[encoded data removed]",
            "text/plain": [
              "<Figure size 432x288 with 1 Axes>"
            ]
          },
          "metadata": {
            "tags": []
          }
        },
        {
          "output_type": "display_data",
          "data": {
            "image/png": "[encoded data removed]",
            "text/plain": [
              "<Figure size 432x288 with 1 Axes>"
            ]
          },
          "metadata": {
            "tags": []
          }
        }
      ]
    }
  ]
}