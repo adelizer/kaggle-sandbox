{
  "nbformat": 4,
  "nbformat_minor": 0,
  "metadata": {
    "colab": {
      "name": "NN-calibration.ipynb",
      "provenance": [],
      "collapsed_sections": []
    },
    "kernelspec": {
      "name": "python3",
      "display_name": "Python 3"
    },
    "accelerator": "GPU"
  },
  "cells": [
    {
      "cell_type": "markdown",
      "metadata": {
        "id": "a7Y_xeHw67qS",
        "colab_type": "text"
      },
      "source": [
        "This notebook reproduces some of the reulsts obtained in the following paper for calibrating neural networks https://arxiv.org/pdf/1706.04599.pdf\n",
        "\n",
        "For a perfectly calibrated neural network we expect that the confidence should match the accuracy. For example, if we have a 100 examples and we classify each of them with 80% confidence, then the accuracy of predictions should be ~80%\n",
        "\n",
        "$P(\\hat{y} = y | \\hat{p} = p ) = p$, where $p$ is the confidence. \n"
      ]
    },
    {
      "cell_type": "code",
      "metadata": {
        "id": "6fjiMled0UaC",
        "colab_type": "code",
        "outputId": "65cff82d-c8bf-433e-f94a-134312ec9ea2",
        "colab": {
          "base_uri": "https://localhost:8080/",
          "height": 34
        }
      },
      "source": [
        "import os\n",
        "import sys\n",
        "from datetime import datetime\n",
        "\n",
        "import numpy as np\n",
        "import keras\n",
        "import tensorflow as tf\n",
        "import matplotlib.pyplot as plt \n",
        "import pandas as pd\n",
        "import seaborn as sns\n",
        "from tqdm import tqdm\n",
        "\n",
        "%matplotlib inline"
      ],
      "execution_count": 1,
      "outputs": [
        {
          "output_type": "stream",
          "text": [
            "Using TensorFlow backend.\n"
          ],
          "name": "stderr"
        }
      ]
    },
    {
      "cell_type": "code",
      "metadata": {
        "id": "d6YZaR3q0vkd",
        "colab_type": "code",
        "outputId": "c2bed104-9bd6-45cd-9d53-1e8b80f13b8d",
        "colab": {
          "base_uri": "https://localhost:8080/",
          "height": 68
        }
      },
      "source": [
        "\"\"\"\n",
        "Collect data\n",
        "\"\"\"\n",
        "\n",
        "(x_train, y_train), (x_test, y_test) = keras.datasets.cifar10.load_data()\n",
        "x_train = x_train / 255.\n",
        "x_test = x_test / 255.\n",
        "\n",
        "one_hot_y_train = keras.utils.to_categorical(y_train, 10)\n",
        "one_hot_y_test = keras.utils.to_categorical(y_test, 10)\n",
        "\n",
        "print(x_train.shape, one_hot_y_train.shape, x_test.shape, one_hot_y_test.shape)"
      ],
      "execution_count": 2,
      "outputs": [
        {
          "output_type": "stream",
          "text": [
            "Downloading data from https://www.cs.toronto.edu/~kriz/cifar-10-python.tar.gz\n",
            "170500096/170498071 [==============================] - 6s 0us/step\n",
            "(50000, 32, 32, 3) (50000, 10) (10000, 32, 32, 3) (10000, 10)\n"
          ],
          "name": "stdout"
        }
      ]
    },
    {
      "cell_type": "code",
      "metadata": {
        "id": "_ZoArlYYIgOM",
        "colab_type": "code",
        "colab": {
          "base_uri": "https://localhost:8080/",
          "height": 442
        },
        "outputId": "62c2f936-7908-41ed-b4bd-3b5beff4a62e"
      },
      "source": [
        "# define a sequential Lenet model\n",
        "lenet = keras.Sequential()\n",
        "lenet.add(keras.layers.Conv2D(6, kernel_size=(5, 5), strides=(1, 1), activation='tanh', input_shape=(32,32,3), padding='same'))\n",
        "lenet.add(keras.layers.AveragePooling2D(pool_size=(2, 2), strides=(1, 1), padding='valid'))\n",
        "lenet.add(keras.layers.Conv2D(16, kernel_size=(5, 5), strides=(1, 1), activation='tanh', padding='valid'))\n",
        "lenet.add(keras.layers.AveragePooling2D(pool_size=(2, 2), strides=(2, 2), padding='valid'))\n",
        "lenet.add(keras.layers.Conv2D(120, kernel_size=(5, 5), strides=(1, 1), activation='tanh', padding='valid'))\n",
        "lenet.add(keras.layers.Flatten())\n",
        "lenet.add(keras.layers.Dense(84, activation='tanh'))\n",
        "lenet.add(keras.layers.Dense(10, activation='softmax'))\n",
        "lenet.compile(loss=keras.losses.categorical_crossentropy, optimizer='SGD', metrics=['accuracy'])\n",
        "print(lenet.summary())"
      ],
      "execution_count": 7,
      "outputs": [
        {
          "output_type": "stream",
          "text": [
            "Model: \"sequential_2\"\n",
            "_________________________________________________________________\n",
            "Layer (type)                 Output Shape              Param #   \n",
            "=================================================================\n",
            "conv2d_4 (Conv2D)            (None, 32, 32, 6)         456       \n",
            "_________________________________________________________________\n",
            "average_pooling2d_3 (Average (None, 31, 31, 6)         0         \n",
            "_________________________________________________________________\n",
            "conv2d_5 (Conv2D)            (None, 27, 27, 16)        2416      \n",
            "_________________________________________________________________\n",
            "average_pooling2d_4 (Average (None, 13, 13, 16)        0         \n",
            "_________________________________________________________________\n",
            "conv2d_6 (Conv2D)            (None, 9, 9, 120)         48120     \n",
            "_________________________________________________________________\n",
            "flatten_2 (Flatten)          (None, 9720)              0         \n",
            "_________________________________________________________________\n",
            "dense_3 (Dense)              (None, 84)                816564    \n",
            "_________________________________________________________________\n",
            "dense_4 (Dense)              (None, 10)                850       \n",
            "=================================================================\n",
            "Total params: 868,406\n",
            "Trainable params: 868,406\n",
            "Non-trainable params: 0\n",
            "_________________________________________________________________\n",
            "None\n"
          ],
          "name": "stdout"
        }
      ]
    },
    {
      "cell_type": "code",
      "metadata": {
        "id": "SltsZY9ZJ8MH",
        "colab_type": "code",
        "colab": {
          "base_uri": "https://localhost:8080/",
          "height": 919
        },
        "outputId": "d13fdcec-1e10-48e4-ddca-1b434ec05549"
      },
      "source": [
        "lenet.fit(x_train, one_hot_y_train, batch_size=32, epochs=30)"
      ],
      "execution_count": 10,
      "outputs": [
        {
          "output_type": "stream",
          "text": [
            "Epoch 1/30\n",
            "50000/50000 [==============================] - 15s 305us/step - loss: 0.3668 - acc: 0.8917\n",
            "Epoch 2/30\n",
            "50000/50000 [==============================] - 15s 307us/step - loss: 0.3342 - acc: 0.9055\n",
            "Epoch 3/30\n",
            "50000/50000 [==============================] - 15s 306us/step - loss: 0.3011 - acc: 0.9172\n",
            "Epoch 4/30\n",
            "50000/50000 [==============================] - 15s 308us/step - loss: 0.2674 - acc: 0.9318\n",
            "Epoch 5/30\n",
            "50000/50000 [==============================] - 15s 305us/step - loss: 0.2359 - acc: 0.9444\n",
            "Epoch 6/30\n",
            "50000/50000 [==============================] - 15s 306us/step - loss: 0.2082 - acc: 0.9549\n",
            "Epoch 7/30\n",
            "50000/50000 [==============================] - 15s 306us/step - loss: 0.1827 - acc: 0.9654\n",
            "Epoch 8/30\n",
            "50000/50000 [==============================] - 16s 312us/step - loss: 0.1584 - acc: 0.9736\n",
            "Epoch 9/30\n",
            "50000/50000 [==============================] - 15s 308us/step - loss: 0.1353 - acc: 0.9805\n",
            "Epoch 10/30\n",
            "50000/50000 [==============================] - 15s 305us/step - loss: 0.1170 - acc: 0.9873\n",
            "Epoch 11/30\n",
            "50000/50000 [==============================] - 15s 307us/step - loss: 0.0999 - acc: 0.9906\n",
            "Epoch 12/30\n",
            "50000/50000 [==============================] - 15s 307us/step - loss: 0.0867 - acc: 0.9934\n",
            "Epoch 13/30\n",
            "50000/50000 [==============================] - 15s 307us/step - loss: 0.0758 - acc: 0.9954\n",
            "Epoch 14/30\n",
            "50000/50000 [==============================] - 15s 306us/step - loss: 0.0665 - acc: 0.9968\n",
            "Epoch 15/30\n",
            "50000/50000 [==============================] - 15s 309us/step - loss: 0.0588 - acc: 0.9975\n",
            "Epoch 16/30\n",
            "50000/50000 [==============================] - 15s 306us/step - loss: 0.0522 - acc: 0.9984\n",
            "Epoch 17/30\n",
            "50000/50000 [==============================] - 15s 305us/step - loss: 0.0469 - acc: 0.9985\n",
            "Epoch 18/30\n",
            " 9824/50000 [====>.........................] - ETA: 12s - loss: 0.0412 - acc: 0.9993"
          ],
          "name": "stdout"
        },
        {
          "output_type": "error",
          "ename": "KeyboardInterrupt",
          "evalue": "ignored",
          "traceback": [
            "\u001b[0;31m---------------------------------------------------------------------------\u001b[0m",
            "\u001b[0;31mKeyboardInterrupt\u001b[0m                         Traceback (most recent call last)",
            "\u001b[0;32m<ipython-input-10-959ba2b1581a>\u001b[0m in \u001b[0;36m<module>\u001b[0;34m()\u001b[0m\n\u001b[0;32m----> 1\u001b[0;31m \u001b[0mlenet\u001b[0m\u001b[0;34m.\u001b[0m\u001b[0mfit\u001b[0m\u001b[0;34m(\u001b[0m\u001b[0mx_train\u001b[0m\u001b[0;34m,\u001b[0m \u001b[0mone_hot_y_train\u001b[0m\u001b[0;34m,\u001b[0m \u001b[0mbatch_size\u001b[0m\u001b[0;34m=\u001b[0m\u001b[0;36m32\u001b[0m\u001b[0;34m,\u001b[0m \u001b[0mepochs\u001b[0m\u001b[0;34m=\u001b[0m\u001b[0;36m30\u001b[0m\u001b[0;34m)\u001b[0m\u001b[0;34m\u001b[0m\u001b[0;34m\u001b[0m\u001b[0m\n\u001b[0m",
            "\u001b[0;32m/usr/local/lib/python3.6/dist-packages/keras/engine/training.py\u001b[0m in \u001b[0;36mfit\u001b[0;34m(self, x, y, batch_size, epochs, verbose, callbacks, validation_split, validation_data, shuffle, class_weight, sample_weight, initial_epoch, steps_per_epoch, validation_steps, validation_freq, max_queue_size, workers, use_multiprocessing, **kwargs)\u001b[0m\n\u001b[1;32m   1176\u001b[0m                                         \u001b[0msteps_per_epoch\u001b[0m\u001b[0;34m=\u001b[0m\u001b[0msteps_per_epoch\u001b[0m\u001b[0;34m,\u001b[0m\u001b[0;34m\u001b[0m\u001b[0;34m\u001b[0m\u001b[0m\n\u001b[1;32m   1177\u001b[0m                                         \u001b[0mvalidation_steps\u001b[0m\u001b[0;34m=\u001b[0m\u001b[0mvalidation_steps\u001b[0m\u001b[0;34m,\u001b[0m\u001b[0;34m\u001b[0m\u001b[0;34m\u001b[0m\u001b[0m\n\u001b[0;32m-> 1178\u001b[0;31m                                         validation_freq=validation_freq)\n\u001b[0m\u001b[1;32m   1179\u001b[0m \u001b[0;34m\u001b[0m\u001b[0m\n\u001b[1;32m   1180\u001b[0m     def evaluate(self,\n",
            "\u001b[0;32m/usr/local/lib/python3.6/dist-packages/keras/engine/training_arrays.py\u001b[0m in \u001b[0;36mfit_loop\u001b[0;34m(model, fit_function, fit_inputs, out_labels, batch_size, epochs, verbose, callbacks, val_function, val_inputs, shuffle, callback_metrics, initial_epoch, steps_per_epoch, validation_steps, validation_freq)\u001b[0m\n\u001b[1;32m    202\u001b[0m                     \u001b[0mins_batch\u001b[0m\u001b[0;34m[\u001b[0m\u001b[0mi\u001b[0m\u001b[0;34m]\u001b[0m \u001b[0;34m=\u001b[0m \u001b[0mins_batch\u001b[0m\u001b[0;34m[\u001b[0m\u001b[0mi\u001b[0m\u001b[0;34m]\u001b[0m\u001b[0;34m.\u001b[0m\u001b[0mtoarray\u001b[0m\u001b[0;34m(\u001b[0m\u001b[0;34m)\u001b[0m\u001b[0;34m\u001b[0m\u001b[0;34m\u001b[0m\u001b[0m\n\u001b[1;32m    203\u001b[0m \u001b[0;34m\u001b[0m\u001b[0m\n\u001b[0;32m--> 204\u001b[0;31m                 \u001b[0mouts\u001b[0m \u001b[0;34m=\u001b[0m \u001b[0mfit_function\u001b[0m\u001b[0;34m(\u001b[0m\u001b[0mins_batch\u001b[0m\u001b[0;34m)\u001b[0m\u001b[0;34m\u001b[0m\u001b[0;34m\u001b[0m\u001b[0m\n\u001b[0m\u001b[1;32m    205\u001b[0m                 \u001b[0mouts\u001b[0m \u001b[0;34m=\u001b[0m \u001b[0mto_list\u001b[0m\u001b[0;34m(\u001b[0m\u001b[0mouts\u001b[0m\u001b[0;34m)\u001b[0m\u001b[0;34m\u001b[0m\u001b[0;34m\u001b[0m\u001b[0m\n\u001b[1;32m    206\u001b[0m                 \u001b[0;32mfor\u001b[0m \u001b[0ml\u001b[0m\u001b[0;34m,\u001b[0m \u001b[0mo\u001b[0m \u001b[0;32min\u001b[0m \u001b[0mzip\u001b[0m\u001b[0;34m(\u001b[0m\u001b[0mout_labels\u001b[0m\u001b[0;34m,\u001b[0m \u001b[0mouts\u001b[0m\u001b[0;34m)\u001b[0m\u001b[0;34m:\u001b[0m\u001b[0;34m\u001b[0m\u001b[0;34m\u001b[0m\u001b[0m\n",
            "\u001b[0;32m/usr/local/lib/python3.6/dist-packages/keras/backend/tensorflow_backend.py\u001b[0m in \u001b[0;36m__call__\u001b[0;34m(self, inputs)\u001b[0m\n\u001b[1;32m   2977\u001b[0m                     \u001b[0;32mreturn\u001b[0m \u001b[0mself\u001b[0m\u001b[0;34m.\u001b[0m\u001b[0m_legacy_call\u001b[0m\u001b[0;34m(\u001b[0m\u001b[0minputs\u001b[0m\u001b[0;34m)\u001b[0m\u001b[0;34m\u001b[0m\u001b[0;34m\u001b[0m\u001b[0m\n\u001b[1;32m   2978\u001b[0m \u001b[0;34m\u001b[0m\u001b[0m\n\u001b[0;32m-> 2979\u001b[0;31m             \u001b[0;32mreturn\u001b[0m \u001b[0mself\u001b[0m\u001b[0;34m.\u001b[0m\u001b[0m_call\u001b[0m\u001b[0;34m(\u001b[0m\u001b[0minputs\u001b[0m\u001b[0;34m)\u001b[0m\u001b[0;34m\u001b[0m\u001b[0;34m\u001b[0m\u001b[0m\n\u001b[0m\u001b[1;32m   2980\u001b[0m         \u001b[0;32melse\u001b[0m\u001b[0;34m:\u001b[0m\u001b[0;34m\u001b[0m\u001b[0;34m\u001b[0m\u001b[0m\n\u001b[1;32m   2981\u001b[0m             \u001b[0;32mif\u001b[0m \u001b[0mpy_any\u001b[0m\u001b[0;34m(\u001b[0m\u001b[0mis_tensor\u001b[0m\u001b[0;34m(\u001b[0m\u001b[0mx\u001b[0m\u001b[0;34m)\u001b[0m \u001b[0;32mfor\u001b[0m \u001b[0mx\u001b[0m \u001b[0;32min\u001b[0m \u001b[0minputs\u001b[0m\u001b[0;34m)\u001b[0m\u001b[0;34m:\u001b[0m\u001b[0;34m\u001b[0m\u001b[0;34m\u001b[0m\u001b[0m\n",
            "\u001b[0;32m/usr/local/lib/python3.6/dist-packages/keras/backend/tensorflow_backend.py\u001b[0m in \u001b[0;36m_call\u001b[0;34m(self, inputs)\u001b[0m\n\u001b[1;32m   2935\u001b[0m             \u001b[0mfetched\u001b[0m \u001b[0;34m=\u001b[0m \u001b[0mself\u001b[0m\u001b[0;34m.\u001b[0m\u001b[0m_callable_fn\u001b[0m\u001b[0;34m(\u001b[0m\u001b[0;34m*\u001b[0m\u001b[0marray_vals\u001b[0m\u001b[0;34m,\u001b[0m \u001b[0mrun_metadata\u001b[0m\u001b[0;34m=\u001b[0m\u001b[0mself\u001b[0m\u001b[0;34m.\u001b[0m\u001b[0mrun_metadata\u001b[0m\u001b[0;34m)\u001b[0m\u001b[0;34m\u001b[0m\u001b[0;34m\u001b[0m\u001b[0m\n\u001b[1;32m   2936\u001b[0m         \u001b[0;32melse\u001b[0m\u001b[0;34m:\u001b[0m\u001b[0;34m\u001b[0m\u001b[0;34m\u001b[0m\u001b[0m\n\u001b[0;32m-> 2937\u001b[0;31m             \u001b[0mfetched\u001b[0m \u001b[0;34m=\u001b[0m \u001b[0mself\u001b[0m\u001b[0;34m.\u001b[0m\u001b[0m_callable_fn\u001b[0m\u001b[0;34m(\u001b[0m\u001b[0;34m*\u001b[0m\u001b[0marray_vals\u001b[0m\u001b[0;34m)\u001b[0m\u001b[0;34m\u001b[0m\u001b[0;34m\u001b[0m\u001b[0m\n\u001b[0m\u001b[1;32m   2938\u001b[0m         \u001b[0;32mreturn\u001b[0m \u001b[0mfetched\u001b[0m\u001b[0;34m[\u001b[0m\u001b[0;34m:\u001b[0m\u001b[0mlen\u001b[0m\u001b[0;34m(\u001b[0m\u001b[0mself\u001b[0m\u001b[0;34m.\u001b[0m\u001b[0moutputs\u001b[0m\u001b[0;34m)\u001b[0m\u001b[0;34m]\u001b[0m\u001b[0;34m\u001b[0m\u001b[0;34m\u001b[0m\u001b[0m\n\u001b[1;32m   2939\u001b[0m \u001b[0;34m\u001b[0m\u001b[0m\n",
            "\u001b[0;32m/usr/local/lib/python3.6/dist-packages/tensorflow_core/python/client/session.py\u001b[0m in \u001b[0;36m__call__\u001b[0;34m(self, *args, **kwargs)\u001b[0m\n\u001b[1;32m   1470\u001b[0m         ret = tf_session.TF_SessionRunCallable(self._session._session,\n\u001b[1;32m   1471\u001b[0m                                                \u001b[0mself\u001b[0m\u001b[0;34m.\u001b[0m\u001b[0m_handle\u001b[0m\u001b[0;34m,\u001b[0m \u001b[0margs\u001b[0m\u001b[0;34m,\u001b[0m\u001b[0;34m\u001b[0m\u001b[0;34m\u001b[0m\u001b[0m\n\u001b[0;32m-> 1472\u001b[0;31m                                                run_metadata_ptr)\n\u001b[0m\u001b[1;32m   1473\u001b[0m         \u001b[0;32mif\u001b[0m \u001b[0mrun_metadata\u001b[0m\u001b[0;34m:\u001b[0m\u001b[0;34m\u001b[0m\u001b[0;34m\u001b[0m\u001b[0m\n\u001b[1;32m   1474\u001b[0m           \u001b[0mproto_data\u001b[0m \u001b[0;34m=\u001b[0m \u001b[0mtf_session\u001b[0m\u001b[0;34m.\u001b[0m\u001b[0mTF_GetBuffer\u001b[0m\u001b[0;34m(\u001b[0m\u001b[0mrun_metadata_ptr\u001b[0m\u001b[0;34m)\u001b[0m\u001b[0;34m\u001b[0m\u001b[0;34m\u001b[0m\u001b[0m\n",
            "\u001b[0;31mKeyboardInterrupt\u001b[0m: "
          ]
        }
      ]
    },
    {
      "cell_type": "code",
      "metadata": {
        "id": "Zm40aYeLQJ_c",
        "colab_type": "code",
        "outputId": "47774ef3-3f31-4c93-961d-d522ee93e1a6",
        "colab": {
          "base_uri": "https://localhost:8080/",
          "height": 51
        }
      },
      "source": [
        "lenet_predictions = lenet.predict(x_test)\n",
        "lenet_score = lenet.evaluate(x_test, one_hot_y_test)\n",
        "print(lenet_score)"
      ],
      "execution_count": 11,
      "outputs": [
        {
          "output_type": "stream",
          "text": [
            "10000/10000 [==============================] - 1s 121us/step\n",
            "[1.6591233617782593, 0.591]\n"
          ],
          "name": "stdout"
        }
      ]
    },
    {
      "cell_type": "code",
      "metadata": {
        "id": "FWi6YFbIxrmh",
        "colab_type": "code",
        "colab": {
          "base_uri": "https://localhost:8080/",
          "height": 34
        },
        "outputId": "3ef42da8-66b6-46fa-d37f-29596bfc4209"
      },
      "source": [
        "lenet_predictions.shape"
      ],
      "execution_count": 14,
      "outputs": [
        {
          "output_type": "execute_result",
          "data": {
            "text/plain": [
              "(10000, 10)"
            ]
          },
          "metadata": {
            "tags": []
          },
          "execution_count": 14
        }
      ]
    },
    {
      "cell_type": "code",
      "metadata": {
        "id": "TXmPylASvKxX",
        "colab_type": "code",
        "colab": {
          "base_uri": "https://localhost:8080/",
          "height": 221
        },
        "outputId": "f013476f-ef9e-44de-8851-5e7814e701f4"
      },
      "source": [
        "# Create a dataframe with the predictions and the ground truth values\n",
        "df = pd.DataFrame()\n",
        "class_prediction = np.argmax(lenet_predictions, axis=1)\n",
        "class_confidence = np.max(lenet_predictions, axis=1)\n",
        "print(\"Min-max confidence: \", np.min(class_confidence), np.max(class_confidence))\n",
        "df['predictions'] = class_prediction\n",
        "df['gt'] = y_test\n",
        "df['scores'] = class_confidence\n",
        "df['correct'] = df['gt'] == df['predictions']\n",
        "df.head()"
      ],
      "execution_count": 20,
      "outputs": [
        {
          "output_type": "stream",
          "text": [
            "Min-max confidence:  0.2134445 1.0\n"
          ],
          "name": "stdout"
        },
        {
          "output_type": "execute_result",
          "data": {
            "text/html": [
              "<div>\n",
              "<style scoped>\n",
              "    .dataframe tbody tr th:only-of-type {\n",
              "        vertical-align: middle;\n",
              "    }\n",
              "\n",
              "    .dataframe tbody tr th {\n",
              "        vertical-align: top;\n",
              "    }\n",
              "\n",
              "    .dataframe thead th {\n",
              "        text-align: right;\n",
              "    }\n",
              "</style>\n",
              "<table border=\"1\" class=\"dataframe\">\n",
              "  <thead>\n",
              "    <tr style=\"text-align: right;\">\n",
              "      <th></th>\n",
              "      <th>predictions</th>\n",
              "      <th>gt</th>\n",
              "      <th>scores</th>\n",
              "      <th>correct</th>\n",
              "    </tr>\n",
              "  </thead>\n",
              "  <tbody>\n",
              "    <tr>\n",
              "      <th>0</th>\n",
              "      <td>3</td>\n",
              "      <td>3</td>\n",
              "      <td>0.975125</td>\n",
              "      <td>True</td>\n",
              "    </tr>\n",
              "    <tr>\n",
              "      <th>1</th>\n",
              "      <td>1</td>\n",
              "      <td>8</td>\n",
              "      <td>0.875034</td>\n",
              "      <td>False</td>\n",
              "    </tr>\n",
              "    <tr>\n",
              "      <th>2</th>\n",
              "      <td>8</td>\n",
              "      <td>8</td>\n",
              "      <td>0.925611</td>\n",
              "      <td>True</td>\n",
              "    </tr>\n",
              "    <tr>\n",
              "      <th>3</th>\n",
              "      <td>0</td>\n",
              "      <td>0</td>\n",
              "      <td>0.917477</td>\n",
              "      <td>True</td>\n",
              "    </tr>\n",
              "    <tr>\n",
              "      <th>4</th>\n",
              "      <td>4</td>\n",
              "      <td>6</td>\n",
              "      <td>0.976642</td>\n",
              "      <td>False</td>\n",
              "    </tr>\n",
              "  </tbody>\n",
              "</table>\n",
              "</div>"
            ],
            "text/plain": [
              "   predictions  gt    scores  correct\n",
              "0            3   3  0.975125     True\n",
              "1            1   8  0.875034    False\n",
              "2            8   8  0.925611     True\n",
              "3            0   0  0.917477     True\n",
              "4            4   6  0.976642    False"
            ]
          },
          "metadata": {
            "tags": []
          },
          "execution_count": 20
        }
      ]
    },
    {
      "cell_type": "code",
      "metadata": {
        "id": "pCHAk5FMzUyH",
        "colab_type": "code",
        "colab": {
          "base_uri": "https://localhost:8080/",
          "height": 119
        },
        "outputId": "6bc07456-1b7f-4035-dea6-e6b7bafbe978"
      },
      "source": [
        "i = 0.5\n",
        "min_conf = i\n",
        "max_conf = i+0.1\n",
        "temp_df = df.loc[(df.scores >= min_conf) & (df.scores < max_conf)]\n",
        "fc, tc = temp_df.correct.value_counts().sort_index().tolist()\n",
        "print(df.correct.value_counts())\n",
        "print(fc, tc)\n",
        "print(tc / (tc + fc))\n",
        "print(len(temp_df))"
      ],
      "execution_count": 50,
      "outputs": [
        {
          "output_type": "stream",
          "text": [
            "True     5910\n",
            "False    4090\n",
            "Name: correct, dtype: int64\n",
            "617 346\n",
            "0.3592938733125649\n",
            "963\n"
          ],
          "name": "stdout"
        }
      ]
    },
    {
      "cell_type": "code",
      "metadata": {
        "id": "WZEDJyG32XYU",
        "colab_type": "code",
        "colab": {
          "base_uri": "https://localhost:8080/",
          "height": 283
        },
        "outputId": "ecc13b0a-1e9a-419c-a817-636b11d7302d"
      },
      "source": [
        "ret = plot_miscalibration(df)\n"
      ],
      "execution_count": 74,
      "outputs": [
        {
          "output_type": "display_data",
          "data": {
            "image/png": "[encoded data removed]",
            "text/plain": [
              "<Figure size 432x288 with 1 Axes>"
            ]
          },
          "metadata": {
            "tags": []
          }
        }
      ]
    },
    {
      "cell_type": "code",
      "metadata": {
        "id": "EfxJleZq4NqK",
        "colab_type": "code",
        "colab": {
          "base_uri": "https://localhost:8080/",
          "height": 34
        },
        "outputId": "918ab07c-346b-4cd8-aa9b-50cfccefa9b1"
      },
      "source": [
        "print(np.sum(ret[:, 3])/ len(y_test)) "
      ],
      "execution_count": 59,
      "outputs": [
        {
          "output_type": "stream",
          "text": [
            "0.2305009536653757\n"
          ],
          "name": "stdout"
        }
      ]
    },
    {
      "cell_type": "code",
      "metadata": {
        "id": "7C8fdge1y7aD",
        "colab_type": "code",
        "colab": {}
      },
      "source": [
        "\n",
        "def plot_miscalibration(df):\n",
        "    bins = np.linspace(0,1,11)[:-1]\n",
        "    ret = []\n",
        "    for i in bins:\n",
        "        min_conf = i\n",
        "        max_conf = i+0.1\n",
        "        temp_df = df.loc[(df.scores >= min_conf) & (df.scores < max_conf)]\n",
        "        n_samples = len(temp_df)\n",
        "        if n_samples > 0:\n",
        "            bin_conf = temp_df.scores.mean()\n",
        "            fc, tc = temp_df.correct.value_counts().sort_index().tolist()\n",
        "            bin_acc = tc / n_samples\n",
        "        else:\n",
        "            bin_conf = 0\n",
        "            bin_acc = 0\n",
        "        bin_error = np.abs(bin_conf - bin_acc)\n",
        "        weighted_bin_error = n_samples * bin_error\n",
        "        ret.append([bin_conf, bin_acc, bin_error, weighted_bin_error, n_samples])\n",
        "    ret =  np.array(ret)\n",
        "    plt.bar(ret[:,0], ret[:,1] + ret[:,2], width=0.1, color='C3')\n",
        "    plt.bar(ret[:,0], ret[:,1], width=0.1, color='C0')\n",
        "    plt.plot([0,1],'--C2')\n",
        "    plt.xlim([0,1])\n",
        "    plt.ylim([0,1])\n",
        "    plt.xlabel('Confidence bins')\n",
        "    plt.ylabel('Accuracy')\n",
        "    plt.grid()\n",
        "    return ret"
      ],
      "execution_count": 0,
      "outputs": []
    },
    {
      "cell_type": "code",
      "metadata": {
        "id": "DNkYtYIqQyw1",
        "colab_type": "code",
        "outputId": "b52c3aed-8903-4f0e-b4a8-e915299fe60b",
        "colab": {
          "base_uri": "https://localhost:8080/",
          "height": 453
        }
      },
      "source": [
        "ECE = plot_discrepancy(lenet_predictions, y_test)\n",
        "np.save('lenet_predictions', lenet_predictions)\n",
        "print(\"ECE: \", ECE)"
      ],
      "execution_count": 0,
      "outputs": [
        {
          "output_type": "stream",
          "text": [
            "Min-max confidence:  0.26938424 1.0\n",
            "0.27895716 0.3333333333333333\n",
            "0.36445746 0.13513513513513514\n",
            "0.46214193 0.3474576271186441\n",
            "0.54844326 0.3271276595744681\n",
            "0.64787436 0.38786279683377306\n",
            "0.7505153 0.3844282238442822\n",
            "0.8537652 0.45151033386327505\n",
            "0.99164075 0.8091214117062259\n",
            "ECE:  0.028122764123180037\n"
          ],
          "name": "stdout"
        },
        {
          "output_type": "display_data",
          "data": {
            "image/png": "[encoded data removed]",
            "text/plain": [
              "<Figure size 432x288 with 1 Axes>"
            ]
          },
          "metadata": {
            "tags": []
          }
        }
      ]
    },
    {
      "cell_type": "code",
      "metadata": {
        "id": "M68s7RE2PoUO",
        "colab_type": "code",
        "colab": {}
      },
      "source": [
        "\"\"\"\n",
        "Define a function that accepts predictions and ground truths, then plots the \n",
        "confidence vs. accuracy. This plot is also known as a reliability diagram.\n",
        "\n",
        "Instead of assessing the calibration by looking at reliability diagrams, we can\n",
        "use a single scalar number, which is the Expected Calibration Error ECE\n",
        "\"\"\"\n",
        "def plot_discrepancy(prediction, ground_truth):\n",
        "    class_prediction = np.argmax(prediction, axis=1)\n",
        "    class_confidence = np.max(prediction, axis=1)\n",
        "    print(\"Min-max confidence: \", np.min(class_confidence), np.max(class_confidence))\n",
        "    error = (class_prediction - ground_truth.flatten())\n",
        "    indicies_sum = 0\n",
        "    all_acc = []\n",
        "    all_conf = []\n",
        "    ECE = 0\n",
        "    # create 10 bins\n",
        "    for i in range(0,10):\n",
        "        # indices for the min-max softmax that lies within certain range (B_m)\n",
        "        min_conf = i*0.1\n",
        "        max_conf = (i+1) * 0.1\n",
        "        indices = np.argwhere((class_confidence >= min_conf) &(class_confidence  <= max_conf)).flatten()\n",
        "        if len(indices) != 0:\n",
        "            confidence_bm = class_confidence[indices]\n",
        "            correct_predictions = np.argwhere(np.argwhere(error[indices] == 0))\n",
        "            if len(correct_predictions) != 0:\n",
        "                accuracy_bm = len(correct_predictions) / len(indices)\n",
        "                all_acc.append(accuracy_bm)\n",
        "                all_conf.append(np.mean(confidence_bm))\n",
        "                print(np.mean(confidence_bm), accuracy_bm)\n",
        "                ECE += np.abs(np.mean(confidence_bm) - accuracy_bm) / len(indices)\n",
        "            \n",
        "    plt.bar(all_conf, all_acc, width=0.1)\n",
        "    plt.grid()\n",
        "    plt.xlabel('confidence')\n",
        "    plt.ylabel('accuracy')\n",
        "    return ECE\n"
      ],
      "execution_count": 0,
      "outputs": []
    },
    {
      "cell_type": "code",
      "metadata": {
        "id": "Sa7j72zV1T0Z",
        "colab_type": "code",
        "colab": {}
      },
      "source": [
        "keras.backend.clear_session()\n",
        "model = keras.applications.VGG16(include_top=False, weights='imagenet', input_shape=(32, 32, 3), classes=10)\n",
        "output = model.output\n",
        "pred = keras.layers.Flatten()(output)\n",
        "pred = keras.layers.Dense(10, activation='softmax')(pred)\n",
        "\n",
        "vgg = keras.models.Model(inputs=model.input, outputs=[pred])\n",
        "vgg.compile(optimizer='adam', loss='categorical_crossentropy', metrics=['accuracy'])"
      ],
      "execution_count": 0,
      "outputs": []
    },
    {
      "cell_type": "code",
      "metadata": {
        "id": "hB-HWRTV3D6j",
        "colab_type": "code",
        "colab": {}
      },
      "source": [
        "history = vgg.fit(x_train, one_hot_y_train, epochs=50)"
      ],
      "execution_count": 0,
      "outputs": []
    },
    {
      "cell_type": "code",
      "metadata": {
        "id": "6Q-nw2dVH4cz",
        "colab_type": "code",
        "outputId": "b43def70-131b-4cc7-89fe-782fcb0d3923",
        "colab": {
          "base_uri": "https://localhost:8080/",
          "height": 51
        }
      },
      "source": [
        "score = vgg.evaluate(x_test, one_hot_y_test)\n",
        "print(score)"
      ],
      "execution_count": 0,
      "outputs": [
        {
          "output_type": "stream",
          "text": [
            "10000/10000 [==============================] - 6s 582us/step\n",
            "[1.0678949194908143, 0.7996]\n"
          ],
          "name": "stdout"
        }
      ]
    },
    {
      "cell_type": "code",
      "metadata": {
        "id": "mNbNQA3zCQz2",
        "colab_type": "code",
        "outputId": "07775dce-70e8-466a-e2ff-aa72fcd05fae",
        "colab": {
          "base_uri": "https://localhost:8080/",
          "height": 453
        }
      },
      "source": [
        "vgg_predictions = vgg.predict(x_test)\n",
        "plot_discrepancy(vgg_predictions, y_test)"
      ],
      "execution_count": 0,
      "outputs": [
        {
          "output_type": "stream",
          "text": [
            "Min-max confidence:  0.23916952 1.0\n",
            "0.27656728 0.4\n",
            "0.35325637 0.25316455696202533\n",
            "0.45805773 0.3050847457627119\n",
            "0.5479865 0.3238095238095238\n",
            "0.65205085 0.3954983922829582\n",
            "0.7534384 0.42650602409638555\n",
            "0.85503286 0.5209923664122137\n",
            "0.9923689 0.8861549761292692\n"
          ],
          "name": "stdout"
        },
        {
          "output_type": "execute_result",
          "data": {
            "text/plain": [
              "0.01744938446823449"
            ]
          },
          "metadata": {
            "tags": []
          },
          "execution_count": 10
        },
        {
          "output_type": "display_data",
          "data": {
            "image/png": "[encoded data removed]",
            "text/plain": [
              "<Figure size 432x288 with 1 Axes>"
            ]
          },
          "metadata": {
            "tags": []
          }
        }
      ]
    },
    {
      "cell_type": "code",
      "metadata": {
        "id": "Jx5GycLJCeXX",
        "colab_type": "code",
        "outputId": "0cb1fb44-1106-4f0e-f59a-05bc4c96531f",
        "colab": {
          "base_uri": "https://localhost:8080/",
          "height": 85
        }
      },
      "source": [
        "print(\"Predictions shape: \", pred.shape)\n",
        "print(\"softmax output for first test samples: \\n\", pred[0])"
      ],
      "execution_count": 0,
      "outputs": [
        {
          "output_type": "stream",
          "text": [
            "Predictions shape:  (10000, 10)\n",
            "softmax output for first test samples: \n",
            " [2.1020765e-06 5.7894169e-05 1.5895067e-06 9.9923861e-01 1.6379404e-08\n",
            " 3.1021945e-04 6.8256741e-05 1.7916864e-05 1.9540475e-06 3.0148731e-04]\n"
          ],
          "name": "stdout"
        }
      ]
    },
    {
      "cell_type": "code",
      "metadata": {
        "id": "7zUf-CSLC0ho",
        "colab_type": "code",
        "outputId": "0e505cd7-6ee7-47df-c1a4-d4b9d1109a93",
        "colab": {
          "base_uri": "https://localhost:8080/",
          "height": 51
        }
      },
      "source": [
        "pred_idx = np.argmax(pred, axis=1)\n",
        "max_conf = np.max(pred, axis=1)\n",
        "print(pred_idx.shape, max_conf.shape)\n",
        "print(np.min(max_conf), np.max(max_conf))"
      ],
      "execution_count": 0,
      "outputs": [
        {
          "output_type": "stream",
          "text": [
            "(10000,) (10000,)\n",
            "0.24877599 1.0\n"
          ],
          "name": "stdout"
        }
      ]
    },
    {
      "cell_type": "code",
      "metadata": {
        "id": "4sHlVu3VEK9t",
        "colab_type": "code",
        "outputId": "4dabcd2e-2c88-45d3-da39-0dc64e6a24f1",
        "colab": {
          "base_uri": "https://localhost:8080/",
          "height": 286
        }
      },
      "source": [
        "# check\n",
        "plt.plot(max_pred[np.argwhere((max_pred > 0.4) &(max_pred  < 0.5))])"
      ],
      "execution_count": 0,
      "outputs": [
        {
          "output_type": "execute_result",
          "data": {
            "text/plain": [
              "[<matplotlib.lines.Line2D at 0x7f076db53240>]"
            ]
          },
          "metadata": {
            "tags": []
          },
          "execution_count": 31
        },
        {
          "output_type": "display_data",
          "data": {
            "image/png": "[encoded data removed]",
            "text/plain": [
              "<Figure size 432x288 with 1 Axes>"
            ]
          },
          "metadata": {
            "tags": []
          }
        }
      ]
    },
    {
      "cell_type": "code",
      "metadata": {
        "id": "n7YtTzKlG-Tn",
        "colab_type": "code",
        "outputId": "53fafac5-c905-4fbd-da64-816b2d354943",
        "colab": {
          "base_uri": "https://localhost:8080/",
          "height": 136
        }
      },
      "source": [
        "diff = pred_idx - y_test.flatten()\n",
        "indices = np.argwhere((max_pred > (0.2)) &(max_pred  < (0.3))).flatten()\n",
        "print(indices)\n",
        "print(pred_idx[indices])\n",
        "print(y_test.flatten()[indices])\n",
        "print(diff[indices])\n",
        "print(len(np.argwhere(diff[indices] == 0)))\n",
        "print(len(np.argwhere(diff == 0)))"
      ],
      "execution_count": 0,
      "outputs": [
        {
          "output_type": "stream",
          "text": [
            "[ 366  376 1493 1736 2136 2232 2804 2840 3263 3391 3789 4190 5166 5517\n",
            " 5869 6574 6729 6859 6904 6997 8006 9114]\n",
            "[9 9 9 2 9 0 7 6 9 9 7 5 0 1 7 4 0 3 5 2 9 0]\n",
            "[1 0 1 5 0 0 3 3 1 3 9 3 9 1 7 0 0 3 5 8 9 8]\n",
            "[ 8  9  8 -3  9  0  4  3  8  6 -2  2 -9  0  0  4  0  0  0 -6  0 -8]\n",
            "7\n",
            "8072\n"
          ],
          "name": "stdout"
        }
      ]
    },
    {
      "cell_type": "code",
      "metadata": {
        "id": "zD5sTdSMDJJN",
        "colab_type": "code",
        "outputId": "48a05d05-04c6-46f1-c41b-26571e52795f",
        "colab": {
          "base_uri": "https://localhost:8080/",
          "height": 357
        }
      },
      "source": [
        "# create 10 bins\n",
        "hist = []\n",
        "indicies_sum = 0\n",
        "for i in range(0,10):\n",
        "    print(\"Calculating predictions within confidence range {} - {}\".format((i*0.1), ((i+1)*0.1)))\n",
        "    # indices for the max softmax that lies within certain range\n",
        "    indices = np.argwhere((max_pred >= (i*0.1)) &(max_pred  <= (0.1*(i+1)))).flatten()\n",
        "    indicies_sum += len(indices)\n",
        "    correct_predictions = np.argwhere(np.argwhere(diff[indices] == 0))\n",
        "    print(\"Number of correct predictions for the specified confidence range\", len(correct_predictions))\n",
        "    hist.append(len(correct_predictions))"
      ],
      "execution_count": 0,
      "outputs": [
        {
          "output_type": "stream",
          "text": [
            "Calculating predictions within confidence range 0.0 - 0.1\n",
            "Number of correct predictions for the specified confidence range 0\n",
            "Calculating predictions within confidence range 0.1 - 0.2\n",
            "Number of correct predictions for the specified confidence range 0\n",
            "Calculating predictions within confidence range 0.2 - 0.30000000000000004\n",
            "Number of correct predictions for the specified confidence range 7\n",
            "Calculating predictions within confidence range 0.30000000000000004 - 0.4\n",
            "Number of correct predictions for the specified confidence range 26\n",
            "Calculating predictions within confidence range 0.4 - 0.5\n",
            "Number of correct predictions for the specified confidence range 65\n",
            "Calculating predictions within confidence range 0.5 - 0.6000000000000001\n",
            "Number of correct predictions for the specified confidence range 98\n",
            "Calculating predictions within confidence range 0.6000000000000001 - 0.7000000000000001\n",
            "Number of correct predictions for the specified confidence range 140\n",
            "Calculating predictions within confidence range 0.7000000000000001 - 0.8\n",
            "Number of correct predictions for the specified confidence range 183\n",
            "Calculating predictions within confidence range 0.8 - 0.9\n",
            "Number of correct predictions for the specified confidence range 267\n",
            "Calculating predictions within confidence range 0.9 - 1.0\n",
            "Number of correct predictions for the specified confidence range 7282\n"
          ],
          "name": "stdout"
        }
      ]
    },
    {
      "cell_type": "code",
      "metadata": {
        "id": "48_R8rOBGah3",
        "colab_type": "code",
        "outputId": "b0676be4-c8aa-45a0-fc60-550cb87d11df",
        "colab": {
          "base_uri": "https://localhost:8080/",
          "height": 85
        }
      },
      "source": [
        "a = np.array([2,2])\n",
        "b = np.array([3,0])\n",
        "print(np.linalg.norm(a,2))\n",
        "print(np.linalg.norm(b,2))\n",
        "print(np.linalg.norm(b,2) * np.linalg.norm(a,2) * np.cos(np.deg2rad(45)))\n",
        "print(np.matmul(a, b))"
      ],
      "execution_count": 0,
      "outputs": [
        {
          "output_type": "stream",
          "text": [
            "2.8284271247461903\n",
            "3.0\n",
            "6.000000000000001\n",
            "6\n"
          ],
          "name": "stdout"
        }
      ]
    }
  ]
}