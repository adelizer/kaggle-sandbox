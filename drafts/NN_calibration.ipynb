{
  "nbformat": 4,
  "nbformat_minor": 0,
  "metadata": {
    "colab": {
      "name": "NN-calibration.ipynb",
      "provenance": [],
      "collapsed_sections": []
    },
    "kernelspec": {
      "name": "python3",
      "display_name": "Python 3"
    },
    "accelerator": "GPU"
  },
  "cells": [
    {
      "cell_type": "markdown",
      "metadata": {
        "id": "a7Y_xeHw67qS",
        "colab_type": "text"
      },
      "source": [
        "This notebook reproduces some of the reulsts obtained in the following paper for calibrating neural networks https://arxiv.org/pdf/1706.04599.pdf\n",
        "\n",
        "For a perfectly calibrated neural network we expect that the confidence should match the accuracy. For example, if we have a 100 examples and we classify each of them with 80% confidence, then the accuracy of predictions should be ~80%\n",
        "\n",
        "$P(\\hat{y} = y | \\hat{p} = p ) = p$, where $p$ is the confidence. \n"
      ]
    },
    {
      "cell_type": "code",
      "metadata": {
        "id": "6fjiMled0UaC",
        "colab_type": "code",
        "colab": {
          "base_uri": "https://localhost:8080/",
          "height": 34
        },
        "outputId": "627b008d-47ca-47a6-f0df-7345089d6b87"
      },
      "source": [
        "import os\n",
        "import sys\n",
        "from datetime import datetime\n",
        "\n",
        "import numpy as np\n",
        "import keras\n",
        "import tensorflow as tf\n",
        "import matplotlib.pyplot as plt \n",
        "import pandas as pd\n",
        "import seaborn as sns\n",
        "from tqdm import tqdm\n",
        "\n",
        "%matplotlib inline"
      ],
      "execution_count": 1,
      "outputs": [
        {
          "output_type": "stream",
          "text": [
            "Using TensorFlow backend.\n"
          ],
          "name": "stderr"
        }
      ]
    },
    {
      "cell_type": "code",
      "metadata": {
        "id": "d6YZaR3q0vkd",
        "colab_type": "code",
        "colab": {
          "base_uri": "https://localhost:8080/",
          "height": 68
        },
        "outputId": "93094eb4-0299-44b1-a5d2-dac0df13d8d2"
      },
      "source": [
        "\"\"\"\n",
        "Collect data\n",
        "\"\"\"\n",
        "\n",
        "(x_train, y_train), (x_test, y_test) = keras.datasets.cifar10.load_data()\n",
        "x_train = x_train / 255.\n",
        "x_test = x_test / 255.\n",
        "\n",
        "one_hot_y_train = keras.utils.to_categorical(y_train, 10)\n",
        "one_hot_y_test = keras.utils.to_categorical(y_test, 10)\n",
        "\n",
        "print(x_train.shape, one_hot_y_train.shape, x_test.shape, one_hot_y_test.shape)"
      ],
      "execution_count": 2,
      "outputs": [
        {
          "output_type": "stream",
          "text": [
            "Downloading data from https://www.cs.toronto.edu/~kriz/cifar-10-python.tar.gz\n",
            "170500096/170498071 [==============================] - 6s 0us/step\n",
            "(50000, 32, 32, 3) (50000, 10) (10000, 32, 32, 3) (10000, 10)\n"
          ],
          "name": "stdout"
        }
      ]
    },
    {
      "cell_type": "code",
      "metadata": {
        "id": "_ZoArlYYIgOM",
        "colab_type": "code",
        "colab": {
          "base_uri": "https://localhost:8080/",
          "height": 442
        },
        "outputId": "b95dcd86-20c6-4424-a175-6b4fe95ba93f"
      },
      "source": [
        "lenet = keras.Sequential()\n",
        "\n",
        "lenet.add(keras.layers.Conv2D(filters=32, kernel_size=(5, 5), activation='relu', input_shape=(32,32,3)))\n",
        "lenet.add(keras.layers.MaxPooling2D(pool_size=(2,2), strides=(2,2)))\n",
        "lenet.add(keras.layers.Conv2D(filters=64, kernel_size=(5, 5), activation='relu'))\n",
        "lenet.add(keras.layers.MaxPooling2D(pool_size=(2,2), strides=(2,2)))\n",
        "lenet.add(keras.layers.Flatten())\n",
        "lenet.add(keras.layers.Dense(256, activation='relu'))\n",
        "lenet.add(keras.layers.Dense(10, activation = 'softmax'))\n",
        "\n",
        "lenet.compile(optimizer='adam', loss='categorical_crossentropy', metrics=['accuracy'])\n",
        "print(lenet.summary())"
      ],
      "execution_count": 30,
      "outputs": [
        {
          "output_type": "stream",
          "text": [
            "WARNING:tensorflow:From /usr/local/lib/python3.6/dist-packages/keras/backend/tensorflow_backend.py:4267: The name tf.nn.max_pool is deprecated. Please use tf.nn.max_pool2d instead.\n",
            "\n",
            "Model: \"sequential_2\"\n",
            "_________________________________________________________________\n",
            "Layer (type)                 Output Shape              Param #   \n",
            "=================================================================\n",
            "conv2d_3 (Conv2D)            (None, 28, 28, 32)        2432      \n",
            "_________________________________________________________________\n",
            "max_pooling2d_1 (MaxPooling2 (None, 14, 14, 32)        0         \n",
            "_________________________________________________________________\n",
            "conv2d_4 (Conv2D)            (None, 10, 10, 64)        51264     \n",
            "_________________________________________________________________\n",
            "max_pooling2d_2 (MaxPooling2 (None, 5, 5, 64)          0         \n",
            "_________________________________________________________________\n",
            "flatten_2 (Flatten)          (None, 1600)              0         \n",
            "_________________________________________________________________\n",
            "dense_4 (Dense)              (None, 256)               409856    \n",
            "_________________________________________________________________\n",
            "dense_5 (Dense)              (None, 10)                2570      \n",
            "=================================================================\n",
            "Total params: 466,122\n",
            "Trainable params: 466,122\n",
            "Non-trainable params: 0\n",
            "_________________________________________________________________\n",
            "None\n"
          ],
          "name": "stdout"
        }
      ]
    },
    {
      "cell_type": "code",
      "metadata": {
        "id": "SltsZY9ZJ8MH",
        "colab_type": "code",
        "colab": {}
      },
      "source": [
        "lenet.fit(x_train, one_hot_y_train, epochs=50)"
      ],
      "execution_count": 0,
      "outputs": []
    },
    {
      "cell_type": "code",
      "metadata": {
        "id": "Zm40aYeLQJ_c",
        "colab_type": "code",
        "colab": {
          "base_uri": "https://localhost:8080/",
          "height": 51
        },
        "outputId": "be243f1d-a04f-469c-e44b-730f81ece3e7"
      },
      "source": [
        "lenet_predictions = lenet.predict(x_test)\n",
        "lenet_score = lenet.evaluate(x_test, one_hot_y_test)\n",
        "print(lenet_score)"
      ],
      "execution_count": 32,
      "outputs": [
        {
          "output_type": "stream",
          "text": [
            "10000/10000 [==============================] - 1s 118us/step\n",
            "[3.2567567756652833, 0.6631]\n"
          ],
          "name": "stdout"
        }
      ]
    },
    {
      "cell_type": "code",
      "metadata": {
        "id": "DNkYtYIqQyw1",
        "colab_type": "code",
        "colab": {
          "base_uri": "https://localhost:8080/",
          "height": 317
        },
        "outputId": "0a17e52a-6c82-46a3-a4eb-0830439f074b"
      },
      "source": [
        "plot_discrepancy(lenet_predictions, y_test)"
      ],
      "execution_count": 33,
      "outputs": [
        {
          "output_type": "stream",
          "text": [
            "Min-max confidence:  0.34855354 1.0\n",
            "check:  0.663\n"
          ],
          "name": "stdout"
        },
        {
          "output_type": "display_data",
          "data": {
            "image/png": "[encoded data removed]",
            "text/plain": [
              "<Figure size 432x288 with 1 Axes>"
            ]
          },
          "metadata": {
            "tags": []
          }
        }
      ]
    },
    {
      "cell_type": "code",
      "metadata": {
        "id": "M68s7RE2PoUO",
        "colab_type": "code",
        "colab": {}
      },
      "source": [
        "\"\"\"\n",
        "Define a function that accepts predictions and ground truths, then plots the \n",
        "confidence vs. accuracy\n",
        "\"\"\"\n",
        "def plot_discrepancy(prediction, ground_truth):\n",
        "    class_prediction = np.argmax(prediction, axis=1)\n",
        "    class_confidence = np.max(prediction, axis=1)\n",
        "    print(\"Min-max confidence: \", np.min(class_confidence), np.max(class_confidence))\n",
        "    error = (class_prediction - ground_truth.flatten())\n",
        "    # create 10 bins\n",
        "    hist = []\n",
        "    indicies_sum = 0\n",
        "    for i in range(0,10):\n",
        "        # indices for the max softmax that lies within certain range\n",
        "        indices = np.argwhere((class_confidence >= (i*0.1)) &(class_confidence  <= (0.1*(i+1)))).flatten()\n",
        "        indicies_sum += len(indices)\n",
        "        correct_predictions = np.argwhere(np.argwhere(error[indices] == 0))\n",
        "        hist.append(len(correct_predictions))\n",
        "    print(\"check: \", np.sum(hist) / len(prediction))\n",
        "    hist = np.array(hist) / len(prediction)\n",
        "    plt.bar(np.linspace(0, 1, 10), hist, width=0.1)\n",
        "    plt.grid()\n",
        "    plt.xlabel('confidence')\n",
        "    plt.ylabel('accuracy')"
      ],
      "execution_count": 0,
      "outputs": []
    },
    {
      "cell_type": "code",
      "metadata": {
        "id": "Sa7j72zV1T0Z",
        "colab_type": "code",
        "colab": {}
      },
      "source": [
        "model = keras.applications.VGG16(include_top=False, weights='imagenet', input_shape=(32, 32, 3), classes=10)"
      ],
      "execution_count": 0,
      "outputs": []
    },
    {
      "cell_type": "code",
      "metadata": {
        "id": "lJfl41kB2ITe",
        "colab_type": "code",
        "colab": {}
      },
      "source": [
        "output = model.output\n",
        "pred = keras.layers.Flatten()(output)\n",
        "pred = keras.layers.Dense(10, activation='softmax')(pred)\n",
        "\n",
        "new_model = keras.models.Model(inputs=model.input, outputs=[pred])\n",
        "new_model.compile(optimizer='adam', loss='categorical_crossentropy', metrics=['accuracy'])"
      ],
      "execution_count": 0,
      "outputs": []
    },
    {
      "cell_type": "code",
      "metadata": {
        "id": "hB-HWRTV3D6j",
        "colab_type": "code",
        "colab": {}
      },
      "source": [
        "history = new_model.fit(x_train, y_train, epochs=50)"
      ],
      "execution_count": 0,
      "outputs": []
    },
    {
      "cell_type": "code",
      "metadata": {
        "id": "6Q-nw2dVH4cz",
        "colab_type": "code",
        "colab": {
          "base_uri": "https://localhost:8080/",
          "height": 51
        },
        "outputId": "5ef1d2f1-cd55-4a93-c3a8-9262a334a968"
      },
      "source": [
        "score = new_model.evaluate(x_test, keras.utils.to_categorical(y_test))\n",
        "print(score)"
      ],
      "execution_count": 57,
      "outputs": [
        {
          "output_type": "stream",
          "text": [
            "10000/10000 [==============================] - 3s 285us/step\n",
            "[1.1007668595790863, 0.8072]\n"
          ],
          "name": "stdout"
        }
      ]
    },
    {
      "cell_type": "code",
      "metadata": {
        "id": "mNbNQA3zCQz2",
        "colab_type": "code",
        "colab": {}
      },
      "source": [
        "pred = new_model.predict(x_test)"
      ],
      "execution_count": 0,
      "outputs": []
    },
    {
      "cell_type": "code",
      "metadata": {
        "id": "Jx5GycLJCeXX",
        "colab_type": "code",
        "colab": {
          "base_uri": "https://localhost:8080/",
          "height": 85
        },
        "outputId": "0cb1fb44-1106-4f0e-f59a-05bc4c96531f"
      },
      "source": [
        "print(\"Predictions shape: \", pred.shape)\n",
        "print(\"softmax output for first test samples: \\n\", pred[0])"
      ],
      "execution_count": 19,
      "outputs": [
        {
          "output_type": "stream",
          "text": [
            "Predictions shape:  (10000, 10)\n",
            "softmax output for first test samples: \n",
            " [2.1020765e-06 5.7894169e-05 1.5895067e-06 9.9923861e-01 1.6379404e-08\n",
            " 3.1021945e-04 6.8256741e-05 1.7916864e-05 1.9540475e-06 3.0148731e-04]\n"
          ],
          "name": "stdout"
        }
      ]
    },
    {
      "cell_type": "code",
      "metadata": {
        "id": "7zUf-CSLC0ho",
        "colab_type": "code",
        "colab": {
          "base_uri": "https://localhost:8080/",
          "height": 51
        },
        "outputId": "0e505cd7-6ee7-47df-c1a4-d4b9d1109a93"
      },
      "source": [
        "pred_idx = np.argmax(pred, axis=1)\n",
        "max_conf = np.max(pred, axis=1)\n",
        "print(pred_idx.shape, max_conf.shape)\n",
        "print(np.min(max_conf), np.max(max_conf))"
      ],
      "execution_count": 60,
      "outputs": [
        {
          "output_type": "stream",
          "text": [
            "(10000,) (10000,)\n",
            "0.24877599 1.0\n"
          ],
          "name": "stdout"
        }
      ]
    },
    {
      "cell_type": "code",
      "metadata": {
        "id": "4sHlVu3VEK9t",
        "colab_type": "code",
        "colab": {
          "base_uri": "https://localhost:8080/",
          "height": 286
        },
        "outputId": "4dabcd2e-2c88-45d3-da39-0dc64e6a24f1"
      },
      "source": [
        "# check\n",
        "plt.plot(max_pred[np.argwhere((max_pred > 0.4) &(max_pred  < 0.5))])"
      ],
      "execution_count": 31,
      "outputs": [
        {
          "output_type": "execute_result",
          "data": {
            "text/plain": [
              "[<matplotlib.lines.Line2D at 0x7f076db53240>]"
            ]
          },
          "metadata": {
            "tags": []
          },
          "execution_count": 31
        },
        {
          "output_type": "display_data",
          "data": {
            "image/png": "[encoded data removed]",
            "text/plain": [
              "<Figure size 432x288 with 1 Axes>"
            ]
          },
          "metadata": {
            "tags": []
          }
        }
      ]
    },
    {
      "cell_type": "code",
      "metadata": {
        "id": "n7YtTzKlG-Tn",
        "colab_type": "code",
        "colab": {
          "base_uri": "https://localhost:8080/",
          "height": 136
        },
        "outputId": "53fafac5-c905-4fbd-da64-816b2d354943"
      },
      "source": [
        "diff = pred_idx - y_test.flatten()\n",
        "indices = np.argwhere((max_pred > (0.2)) &(max_pred  < (0.3))).flatten()\n",
        "print(indices)\n",
        "print(pred_idx[indices])\n",
        "print(y_test.flatten()[indices])\n",
        "print(diff[indices])\n",
        "print(len(np.argwhere(diff[indices] == 0)))\n",
        "print(len(np.argwhere(diff == 0)))"
      ],
      "execution_count": 81,
      "outputs": [
        {
          "output_type": "stream",
          "text": [
            "[ 366  376 1493 1736 2136 2232 2804 2840 3263 3391 3789 4190 5166 5517\n",
            " 5869 6574 6729 6859 6904 6997 8006 9114]\n",
            "[9 9 9 2 9 0 7 6 9 9 7 5 0 1 7 4 0 3 5 2 9 0]\n",
            "[1 0 1 5 0 0 3 3 1 3 9 3 9 1 7 0 0 3 5 8 9 8]\n",
            "[ 8  9  8 -3  9  0  4  3  8  6 -2  2 -9  0  0  4  0  0  0 -6  0 -8]\n",
            "7\n",
            "8072\n"
          ],
          "name": "stdout"
        }
      ]
    },
    {
      "cell_type": "code",
      "metadata": {
        "id": "zD5sTdSMDJJN",
        "colab_type": "code",
        "colab": {
          "base_uri": "https://localhost:8080/",
          "height": 357
        },
        "outputId": "48a05d05-04c6-46f1-c41b-26571e52795f"
      },
      "source": [
        "# create 10 bins\n",
        "hist = []\n",
        "indicies_sum = 0\n",
        "for i in range(0,10):\n",
        "    print(\"Calculating predictions within confidence range {} - {}\".format((i*0.1), ((i+1)*0.1)))\n",
        "    # indices for the max softmax that lies within certain range\n",
        "    indices = np.argwhere((max_pred >= (i*0.1)) &(max_pred  <= (0.1*(i+1)))).flatten()\n",
        "    indicies_sum += len(indices)\n",
        "    correct_predictions = np.argwhere(np.argwhere(diff[indices] == 0))\n",
        "    print(\"Number of correct predictions for the specified confidence range\", len(correct_predictions))\n",
        "    hist.append(len(correct_predictions))"
      ],
      "execution_count": 92,
      "outputs": [
        {
          "output_type": "stream",
          "text": [
            "Calculating predictions within confidence range 0.0 - 0.1\n",
            "Number of correct predictions for the specified confidence range 0\n",
            "Calculating predictions within confidence range 0.1 - 0.2\n",
            "Number of correct predictions for the specified confidence range 0\n",
            "Calculating predictions within confidence range 0.2 - 0.30000000000000004\n",
            "Number of correct predictions for the specified confidence range 7\n",
            "Calculating predictions within confidence range 0.30000000000000004 - 0.4\n",
            "Number of correct predictions for the specified confidence range 26\n",
            "Calculating predictions within confidence range 0.4 - 0.5\n",
            "Number of correct predictions for the specified confidence range 65\n",
            "Calculating predictions within confidence range 0.5 - 0.6000000000000001\n",
            "Number of correct predictions for the specified confidence range 98\n",
            "Calculating predictions within confidence range 0.6000000000000001 - 0.7000000000000001\n",
            "Number of correct predictions for the specified confidence range 140\n",
            "Calculating predictions within confidence range 0.7000000000000001 - 0.8\n",
            "Number of correct predictions for the specified confidence range 183\n",
            "Calculating predictions within confidence range 0.8 - 0.9\n",
            "Number of correct predictions for the specified confidence range 267\n",
            "Calculating predictions within confidence range 0.9 - 1.0\n",
            "Number of correct predictions for the specified confidence range 7282\n"
          ],
          "name": "stdout"
        }
      ]
    },
    {
      "cell_type": "code",
      "metadata": {
        "id": "48_R8rOBGah3",
        "colab_type": "code",
        "colab": {
          "base_uri": "https://localhost:8080/",
          "height": 51
        },
        "outputId": "cb1a4883-22c5-4278-b130-fa58c8eccf14"
      },
      "source": [
        "# Comparing the total number of correct predictions to the outcome of .evaluate\n",
        "print(np.sum(hist) / y_test.shape[0])\n",
        "print(score[1])"
      ],
      "execution_count": 89,
      "outputs": [
        {
          "output_type": "stream",
          "text": [
            "0.8068\n",
            "0.8072\n"
          ],
          "name": "stdout"
        }
      ]
    },
    {
      "cell_type": "code",
      "metadata": {
        "id": "fozUUs27FQEB",
        "colab_type": "code",
        "colab": {
          "base_uri": "https://localhost:8080/",
          "height": 303
        },
        "outputId": "3c98eda5-6f2b-49ae-aad8-213bfeb45e9f"
      },
      "source": [
        "x = np.linspace(0, 1, 10)\n",
        "print(len(x), len(hist))\n",
        "plt.bar(x, hist, width=0.1)"
      ],
      "execution_count": 90,
      "outputs": [
        {
          "output_type": "stream",
          "text": [
            "10 10\n"
          ],
          "name": "stdout"
        },
        {
          "output_type": "execute_result",
          "data": {
            "text/plain": [
              "<BarContainer object of 10 artists>"
            ]
          },
          "metadata": {
            "tags": []
          },
          "execution_count": 90
        },
        {
          "output_type": "display_data",
          "data": {
            "image/png": "[encoded data removed]",
            "text/plain": [
              "<Figure size 432x288 with 1 Axes>"
            ]
          },
          "metadata": {
            "tags": []
          }
        }
      ]
    }
  ]
}