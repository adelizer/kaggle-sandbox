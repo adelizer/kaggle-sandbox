{
  "nbformat": 4,
  "nbformat_minor": 0,
  "metadata": {
    "colab": {
      "name": "NN-calibration.ipynb",
      "provenance": [],
      "collapsed_sections": []
    },
    "kernelspec": {
      "name": "python3",
      "display_name": "Python 3"
    },
    "accelerator": "GPU"
  },
  "cells": [
    {
      "cell_type": "markdown",
      "metadata": {
        "id": "a7Y_xeHw67qS",
        "colab_type": "text"
      },
      "source": [
        "This notebook reproduces some of the reulsts obtained in the following paper for calibrating neural networks https://arxiv.org/pdf/1706.04599.pdf\n",
        "\n",
        "For a perfectly calibrated neural network we expect that the confidence should match the accuracy. For example, if we have a 100 examples and we classify each of them with 80% confidence, then the accuracy of predictions should be ~80%\n",
        "\n",
        "$P(\\hat{y} = y | \\hat{p} = p ) = p$, where $p$ is the confidence. \n"
      ]
    },
    {
      "cell_type": "code",
      "metadata": {
        "id": "6fjiMled0UaC",
        "colab_type": "code",
        "outputId": "2a60b098-813c-4087-cfc5-ed0234307ee7",
        "colab": {
          "base_uri": "https://localhost:8080/",
          "height": 34
        }
      },
      "source": [
        "import os\n",
        "import sys\n",
        "from datetime import datetime\n",
        "\n",
        "import numpy as np\n",
        "import keras\n",
        "import tensorflow as tf\n",
        "import matplotlib.pyplot as plt \n",
        "import pandas as pd\n",
        "import seaborn as sns\n",
        "from tqdm import tqdm\n",
        "\n",
        "%matplotlib inline"
      ],
      "execution_count": 1,
      "outputs": [
        {
          "output_type": "stream",
          "text": [
            "Using TensorFlow backend.\n"
          ],
          "name": "stderr"
        }
      ]
    },
    {
      "cell_type": "code",
      "metadata": {
        "id": "d6YZaR3q0vkd",
        "colab_type": "code",
        "outputId": "5812223a-8510-4209-94d7-53e6ea1e9e18",
        "colab": {
          "base_uri": "https://localhost:8080/",
          "height": 68
        }
      },
      "source": [
        "\"\"\"\n",
        "Collect data\n",
        "\"\"\"\n",
        "\n",
        "(x_train, y_train), (x_test, y_test) = keras.datasets.cifar10.load_data()\n",
        "x_train = x_train / 255.\n",
        "x_test = x_test / 255.\n",
        "\n",
        "one_hot_y_train = keras.utils.to_categorical(y_train, 10)\n",
        "one_hot_y_test = keras.utils.to_categorical(y_test, 10)\n",
        "\n",
        "print(x_train.shape, one_hot_y_train.shape, x_test.shape, one_hot_y_test.shape)"
      ],
      "execution_count": 2,
      "outputs": [
        {
          "output_type": "stream",
          "text": [
            "Downloading data from https://www.cs.toronto.edu/~kriz/cifar-10-python.tar.gz\n",
            "170500096/170498071 [==============================] - 6s 0us/step\n",
            "(50000, 32, 32, 3) (50000, 10) (10000, 32, 32, 3) (10000, 10)\n"
          ],
          "name": "stdout"
        }
      ]
    },
    {
      "cell_type": "code",
      "metadata": {
        "id": "_ZoArlYYIgOM",
        "colab_type": "code",
        "colab": {
          "base_uri": "https://localhost:8080/",
          "height": 680
        },
        "outputId": "b0d832ca-4ed9-4f83-e689-75de0c4497d5"
      },
      "source": [
        "# define a sequential Lenet model\n",
        "lenet = keras.Sequential()\n",
        "lenet.add(keras.layers.Conv2D(6, kernel_size=(5, 5), strides=(1, 1), activation='tanh', input_shape=(32,32,3), padding='same'))\n",
        "lenet.add(keras.layers.AveragePooling2D(pool_size=(2, 2), strides=(1, 1), padding='valid'))\n",
        "lenet.add(keras.layers.Conv2D(16, kernel_size=(5, 5), strides=(1, 1), activation='tanh', padding='valid'))\n",
        "lenet.add(keras.layers.AveragePooling2D(pool_size=(2, 2), strides=(2, 2), padding='valid'))\n",
        "lenet.add(keras.layers.Conv2D(120, kernel_size=(5, 5), strides=(1, 1), activation='tanh', padding='valid'))\n",
        "lenet.add(keras.layers.Flatten())\n",
        "lenet.add(keras.layers.Dense(84, activation='tanh'))\n",
        "lenet.add(keras.layers.Dense(10))\n",
        "lenet.add(keras.layers.Activation('softmax'))\n",
        "lenet.compile(loss=keras.losses.categorical_crossentropy, optimizer='SGD', metrics=['accuracy'])\n",
        "print(lenet.summary())"
      ],
      "execution_count": 3,
      "outputs": [
        {
          "output_type": "stream",
          "text": [
            "WARNING:tensorflow:From /usr/local/lib/python3.6/dist-packages/keras/backend/tensorflow_backend.py:66: The name tf.get_default_graph is deprecated. Please use tf.compat.v1.get_default_graph instead.\n",
            "\n",
            "WARNING:tensorflow:From /usr/local/lib/python3.6/dist-packages/keras/backend/tensorflow_backend.py:541: The name tf.placeholder is deprecated. Please use tf.compat.v1.placeholder instead.\n",
            "\n",
            "WARNING:tensorflow:From /usr/local/lib/python3.6/dist-packages/keras/backend/tensorflow_backend.py:4432: The name tf.random_uniform is deprecated. Please use tf.random.uniform instead.\n",
            "\n",
            "WARNING:tensorflow:From /usr/local/lib/python3.6/dist-packages/keras/backend/tensorflow_backend.py:4271: The name tf.nn.avg_pool is deprecated. Please use tf.nn.avg_pool2d instead.\n",
            "\n",
            "WARNING:tensorflow:From /usr/local/lib/python3.6/dist-packages/keras/optimizers.py:793: The name tf.train.Optimizer is deprecated. Please use tf.compat.v1.train.Optimizer instead.\n",
            "\n",
            "WARNING:tensorflow:From /usr/local/lib/python3.6/dist-packages/keras/backend/tensorflow_backend.py:3576: The name tf.log is deprecated. Please use tf.math.log instead.\n",
            "\n",
            "Model: \"sequential_1\"\n",
            "_________________________________________________________________\n",
            "Layer (type)                 Output Shape              Param #   \n",
            "=================================================================\n",
            "conv2d_1 (Conv2D)            (None, 32, 32, 6)         456       \n",
            "_________________________________________________________________\n",
            "average_pooling2d_1 (Average (None, 31, 31, 6)         0         \n",
            "_________________________________________________________________\n",
            "conv2d_2 (Conv2D)            (None, 27, 27, 16)        2416      \n",
            "_________________________________________________________________\n",
            "average_pooling2d_2 (Average (None, 13, 13, 16)        0         \n",
            "_________________________________________________________________\n",
            "conv2d_3 (Conv2D)            (None, 9, 9, 120)         48120     \n",
            "_________________________________________________________________\n",
            "flatten_1 (Flatten)          (None, 9720)              0         \n",
            "_________________________________________________________________\n",
            "dense_1 (Dense)              (None, 84)                816564    \n",
            "_________________________________________________________________\n",
            "dense_2 (Dense)              (None, 10)                850       \n",
            "_________________________________________________________________\n",
            "activation_1 (Activation)    (None, 10)                0         \n",
            "=================================================================\n",
            "Total params: 868,406\n",
            "Trainable params: 868,406\n",
            "Non-trainable params: 0\n",
            "_________________________________________________________________\n",
            "None\n"
          ],
          "name": "stdout"
        }
      ]
    },
    {
      "cell_type": "code",
      "metadata": {
        "id": "SltsZY9ZJ8MH",
        "colab_type": "code",
        "colab": {
          "base_uri": "https://localhost:8080/",
          "height": 374
        },
        "outputId": "4522f292-e487-483c-bb1e-283fc3e90151"
      },
      "source": [
        "lenet.fit(x_train, one_hot_y_train, batch_size=32, epochs=10)\n",
        "\n"
      ],
      "execution_count": 5,
      "outputs": [
        {
          "output_type": "stream",
          "text": [
            "Epoch 1/10\n",
            "50000/50000 [==============================] - 16s 312us/step - loss: 1.0521 - acc: 0.6298\n",
            "Epoch 2/10\n",
            "50000/50000 [==============================] - 15s 308us/step - loss: 1.0176 - acc: 0.6440\n",
            "Epoch 3/10\n",
            "50000/50000 [==============================] - 16s 310us/step - loss: 0.9810 - acc: 0.6579\n",
            "Epoch 4/10\n",
            "50000/50000 [==============================] - 15s 310us/step - loss: 0.9506 - acc: 0.6697\n",
            "Epoch 5/10\n",
            "50000/50000 [==============================] - 15s 310us/step - loss: 0.9165 - acc: 0.6836\n",
            "Epoch 6/10\n",
            "50000/50000 [==============================] - 16s 312us/step - loss: 0.8851 - acc: 0.6932\n",
            "Epoch 7/10\n",
            "50000/50000 [==============================] - 16s 314us/step - loss: 0.8530 - acc: 0.7065\n",
            "Epoch 8/10\n",
            "50000/50000 [==============================] - 16s 311us/step - loss: 0.8214 - acc: 0.7174\n",
            "Epoch 9/10\n",
            "50000/50000 [==============================] - 16s 314us/step - loss: 0.7896 - acc: 0.7275\n",
            "Epoch 10/10\n",
            "50000/50000 [==============================] - 16s 313us/step - loss: 0.7562 - acc: 0.7424\n"
          ],
          "name": "stdout"
        },
        {
          "output_type": "execute_result",
          "data": {
            "text/plain": [
              "<keras.callbacks.History at 0x7fd794a4f438>"
            ]
          },
          "metadata": {
            "tags": []
          },
          "execution_count": 5
        }
      ]
    },
    {
      "cell_type": "code",
      "metadata": {
        "id": "Zm40aYeLQJ_c",
        "colab_type": "code",
        "outputId": "a1ca75f1-eeaa-449e-96e7-951cff3d50b3",
        "colab": {
          "base_uri": "https://localhost:8080/",
          "height": 51
        }
      },
      "source": [
        "lenet_predictions = lenet.predict(x_test)\n",
        "lenet_score = lenet.evaluate(x_test, one_hot_y_test)\n",
        "print(lenet_score)"
      ],
      "execution_count": 6,
      "outputs": [
        {
          "output_type": "stream",
          "text": [
            "10000/10000 [==============================] - 1s 126us/step\n",
            "[1.2220160154342652, 0.5907]\n"
          ],
          "name": "stdout"
        }
      ]
    },
    {
      "cell_type": "code",
      "metadata": {
        "id": "FWi6YFbIxrmh",
        "colab_type": "code",
        "colab": {
          "base_uri": "https://localhost:8080/",
          "height": 34
        },
        "outputId": "182c4b3c-06ae-44ce-dc12-35a693e34fa9"
      },
      "source": [
        "lenet_predictions.shape"
      ],
      "execution_count": 7,
      "outputs": [
        {
          "output_type": "execute_result",
          "data": {
            "text/plain": [
              "(10000, 10)"
            ]
          },
          "metadata": {
            "tags": []
          },
          "execution_count": 7
        }
      ]
    },
    {
      "cell_type": "code",
      "metadata": {
        "id": "TXmPylASvKxX",
        "colab_type": "code",
        "colab": {
          "base_uri": "https://localhost:8080/",
          "height": 221
        },
        "outputId": "48e8dee4-0724-4ae2-e917-3bdf15f74914"
      },
      "source": [
        "# Create a dataframe with the predictions and the ground truth values\n",
        "df = pd.DataFrame()\n",
        "class_prediction = np.argmax(lenet_predictions, axis=1)\n",
        "class_confidence = np.max(lenet_predictions, axis=1)\n",
        "print(\"Min-max confidence: \", np.min(class_confidence), np.max(class_confidence))\n",
        "df['predictions'] = class_prediction\n",
        "df['gt'] = y_test\n",
        "df['scores'] = class_confidence\n",
        "df['correct'] = df['gt'] == df['predictions']\n",
        "df.head()"
      ],
      "execution_count": 8,
      "outputs": [
        {
          "output_type": "stream",
          "text": [
            "Min-max confidence:  0.19107568 0.9998115\n"
          ],
          "name": "stdout"
        },
        {
          "output_type": "execute_result",
          "data": {
            "text/html": [
              "<div>\n",
              "<style scoped>\n",
              "    .dataframe tbody tr th:only-of-type {\n",
              "        vertical-align: middle;\n",
              "    }\n",
              "\n",
              "    .dataframe tbody tr th {\n",
              "        vertical-align: top;\n",
              "    }\n",
              "\n",
              "    .dataframe thead th {\n",
              "        text-align: right;\n",
              "    }\n",
              "</style>\n",
              "<table border=\"1\" class=\"dataframe\">\n",
              "  <thead>\n",
              "    <tr style=\"text-align: right;\">\n",
              "      <th></th>\n",
              "      <th>predictions</th>\n",
              "      <th>gt</th>\n",
              "      <th>scores</th>\n",
              "      <th>correct</th>\n",
              "    </tr>\n",
              "  </thead>\n",
              "  <tbody>\n",
              "    <tr>\n",
              "      <th>0</th>\n",
              "      <td>3</td>\n",
              "      <td>3</td>\n",
              "      <td>0.707687</td>\n",
              "      <td>True</td>\n",
              "    </tr>\n",
              "    <tr>\n",
              "      <th>1</th>\n",
              "      <td>1</td>\n",
              "      <td>8</td>\n",
              "      <td>0.488621</td>\n",
              "      <td>False</td>\n",
              "    </tr>\n",
              "    <tr>\n",
              "      <th>2</th>\n",
              "      <td>1</td>\n",
              "      <td>8</td>\n",
              "      <td>0.814998</td>\n",
              "      <td>False</td>\n",
              "    </tr>\n",
              "    <tr>\n",
              "      <th>3</th>\n",
              "      <td>0</td>\n",
              "      <td>0</td>\n",
              "      <td>0.958441</td>\n",
              "      <td>True</td>\n",
              "    </tr>\n",
              "    <tr>\n",
              "      <th>4</th>\n",
              "      <td>3</td>\n",
              "      <td>6</td>\n",
              "      <td>0.431724</td>\n",
              "      <td>False</td>\n",
              "    </tr>\n",
              "  </tbody>\n",
              "</table>\n",
              "</div>"
            ],
            "text/plain": [
              "   predictions  gt    scores  correct\n",
              "0            3   3  0.707687     True\n",
              "1            1   8  0.488621    False\n",
              "2            1   8  0.814998    False\n",
              "3            0   0  0.958441     True\n",
              "4            3   6  0.431724    False"
            ]
          },
          "metadata": {
            "tags": []
          },
          "execution_count": 8
        }
      ]
    },
    {
      "cell_type": "code",
      "metadata": {
        "id": "pCHAk5FMzUyH",
        "colab_type": "code",
        "colab": {
          "base_uri": "https://localhost:8080/",
          "height": 232
        },
        "outputId": "07455d41-c4dc-4fce-a12d-e08db6a928d3"
      },
      "source": [
        "i = 0.1\n",
        "min_conf = i\n",
        "max_conf = i+0.1\n",
        "temp_df = df.loc[(df.scores >= min_conf) & (df.scores < max_conf)]\n",
        "fc, tc = temp_df.correct.value_counts().sort_index().tolist()\n",
        "print(df.correct.value_counts())\n",
        "print(fc, tc)\n",
        "print(tc / (tc + fc))\n",
        "print(len(temp_df))"
      ],
      "execution_count": 23,
      "outputs": [
        {
          "output_type": "error",
          "ename": "ValueError",
          "evalue": "ignored",
          "traceback": [
            "\u001b[0;31m---------------------------------------------------------------------------\u001b[0m",
            "\u001b[0;31mValueError\u001b[0m                                Traceback (most recent call last)",
            "\u001b[0;32m<ipython-input-23-246fb2cbb86e>\u001b[0m in \u001b[0;36m<module>\u001b[0;34m()\u001b[0m\n\u001b[1;32m      3\u001b[0m \u001b[0mmax_conf\u001b[0m \u001b[0;34m=\u001b[0m \u001b[0mi\u001b[0m\u001b[0;34m+\u001b[0m\u001b[0;36m0.1\u001b[0m\u001b[0;34m\u001b[0m\u001b[0;34m\u001b[0m\u001b[0m\n\u001b[1;32m      4\u001b[0m \u001b[0mtemp_df\u001b[0m \u001b[0;34m=\u001b[0m \u001b[0mdf\u001b[0m\u001b[0;34m.\u001b[0m\u001b[0mloc\u001b[0m\u001b[0;34m[\u001b[0m\u001b[0;34m(\u001b[0m\u001b[0mdf\u001b[0m\u001b[0;34m.\u001b[0m\u001b[0mscores\u001b[0m \u001b[0;34m>=\u001b[0m \u001b[0mmin_conf\u001b[0m\u001b[0;34m)\u001b[0m \u001b[0;34m&\u001b[0m \u001b[0;34m(\u001b[0m\u001b[0mdf\u001b[0m\u001b[0;34m.\u001b[0m\u001b[0mscores\u001b[0m \u001b[0;34m<\u001b[0m \u001b[0mmax_conf\u001b[0m\u001b[0;34m)\u001b[0m\u001b[0;34m]\u001b[0m\u001b[0;34m\u001b[0m\u001b[0;34m\u001b[0m\u001b[0m\n\u001b[0;32m----> 5\u001b[0;31m \u001b[0mfc\u001b[0m\u001b[0;34m,\u001b[0m \u001b[0mtc\u001b[0m \u001b[0;34m=\u001b[0m \u001b[0mtemp_df\u001b[0m\u001b[0;34m.\u001b[0m\u001b[0mcorrect\u001b[0m\u001b[0;34m.\u001b[0m\u001b[0mvalue_counts\u001b[0m\u001b[0;34m(\u001b[0m\u001b[0;34m)\u001b[0m\u001b[0;34m.\u001b[0m\u001b[0msort_index\u001b[0m\u001b[0;34m(\u001b[0m\u001b[0;34m)\u001b[0m\u001b[0;34m.\u001b[0m\u001b[0mtolist\u001b[0m\u001b[0;34m(\u001b[0m\u001b[0;34m)\u001b[0m\u001b[0;34m\u001b[0m\u001b[0;34m\u001b[0m\u001b[0m\n\u001b[0m\u001b[1;32m      6\u001b[0m \u001b[0mprint\u001b[0m\u001b[0;34m(\u001b[0m\u001b[0mdf\u001b[0m\u001b[0;34m.\u001b[0m\u001b[0mcorrect\u001b[0m\u001b[0;34m.\u001b[0m\u001b[0mvalue_counts\u001b[0m\u001b[0;34m(\u001b[0m\u001b[0;34m)\u001b[0m\u001b[0;34m)\u001b[0m\u001b[0;34m\u001b[0m\u001b[0;34m\u001b[0m\u001b[0m\n\u001b[1;32m      7\u001b[0m \u001b[0mprint\u001b[0m\u001b[0;34m(\u001b[0m\u001b[0mfc\u001b[0m\u001b[0;34m,\u001b[0m \u001b[0mtc\u001b[0m\u001b[0;34m)\u001b[0m\u001b[0;34m\u001b[0m\u001b[0;34m\u001b[0m\u001b[0m\n",
            "\u001b[0;31mValueError\u001b[0m: not enough values to unpack (expected 2, got 1)"
          ]
        }
      ]
    },
    {
      "cell_type": "code",
      "metadata": {
        "id": "9iT-5Zo2cNvC",
        "colab_type": "code",
        "colab": {
          "base_uri": "https://localhost:8080/",
          "height": 34
        },
        "outputId": "48e1f3cb-5d66-4f66-ded6-84f2fbf539db"
      },
      "source": [
        "temp_df.correct.value_counts().index[0]"
      ],
      "execution_count": 37,
      "outputs": [
        {
          "output_type": "execute_result",
          "data": {
            "text/plain": [
              "False"
            ]
          },
          "metadata": {
            "tags": []
          },
          "execution_count": 37
        }
      ]
    },
    {
      "cell_type": "code",
      "metadata": {
        "id": "WZEDJyG32XYU",
        "colab_type": "code",
        "colab": {
          "base_uri": "https://localhost:8080/",
          "height": 283
        },
        "outputId": "92c5bd84-14a3-4080-f132-fd0764afd56b"
      },
      "source": [
        "ret = plot_miscalibration(df)"
      ],
      "execution_count": 39,
      "outputs": [
        {
          "output_type": "display_data",
          "data": {
            "image/png": "[encoded data removed]",
            "text/plain": [
              "<Figure size 432x288 with 1 Axes>"
            ]
          },
          "metadata": {
            "tags": []
          }
        }
      ]
    },
    {
      "cell_type": "code",
      "metadata": {
        "id": "EfxJleZq4NqK",
        "colab_type": "code",
        "colab": {
          "base_uri": "https://localhost:8080/",
          "height": 34
        },
        "outputId": "c4e8682f-ad2a-45b6-af18-faf1053ce860"
      },
      "source": [
        "a = temp_df.correct.value_counts()\n",
        "a.index[0]"
      ],
      "execution_count": 34,
      "outputs": [
        {
          "output_type": "execute_result",
          "data": {
            "text/plain": [
              "False"
            ]
          },
          "metadata": {
            "tags": []
          },
          "execution_count": 34
        }
      ]
    },
    {
      "cell_type": "code",
      "metadata": {
        "id": "7C8fdge1y7aD",
        "colab_type": "code",
        "colab": {}
      },
      "source": [
        "\n",
        "def plot_miscalibration(df):\n",
        "    bins = np.linspace(0,1,11)[:-1]\n",
        "    ret = []\n",
        "    for i in bins:\n",
        "        min_conf = i\n",
        "        max_conf = i+0.1\n",
        "        temp_df = df.loc[(df.scores >= min_conf) & (df.scores < max_conf)]\n",
        "        n_samples = len(temp_df)\n",
        "        if n_samples > 0:\n",
        "            bin_conf = temp_df.scores.mean()\n",
        "            if temp_df.correct.nunique() > 1:\n",
        "                fc, tc = temp_df.correct.value_counts().sort_index().tolist()\n",
        "            elif temp_df.correct.value_counts().index[0]:\n",
        "                tc = temp_df.correct.value_counts().sort_index().tolist()\n",
        "            else:\n",
        "                tc = 0\n",
        "            bin_acc = tc / n_samples\n",
        "        else:\n",
        "            bin_conf = 0\n",
        "            bin_acc = 0\n",
        "        bin_error = np.abs(bin_conf - bin_acc)\n",
        "        weighted_bin_error = n_samples * bin_error\n",
        "        ret.append([bin_conf, bin_acc, bin_error, weighted_bin_error, n_samples])\n",
        "    ret =  np.array(ret)\n",
        "    plt.bar(ret[:,0], ret[:,1] + ret[:,2], width=0.1, color='C3')\n",
        "    plt.bar(ret[:,0], ret[:,1], width=0.1, color='C0')\n",
        "    plt.plot([0,1],'--C2')\n",
        "    plt.xlim([0,1])\n",
        "    plt.ylim([0,1])\n",
        "    plt.xlabel('Confidence bins')\n",
        "    plt.ylabel('Accuracy')\n",
        "    plt.grid()\n",
        "    return ret"
      ],
      "execution_count": 0,
      "outputs": []
    },
    {
      "cell_type": "code",
      "metadata": {
        "id": "Pq6dKlzydI0e",
        "colab_type": "code",
        "colab": {
          "base_uri": "https://localhost:8080/",
          "height": 34
        },
        "outputId": "f26c39a7-747f-47da-9f21-1b5cee457d5a"
      },
      "source": [
        "logits = lenet.layers[-2].output\n",
        "new_model = keras.Model(inputs=lenet.input, outputs=logits)\n",
        "logits_pred = new_model.predict(x_test)"
      ],
      "execution_count": 45,
      "outputs": [
        {
          "output_type": "stream",
          "text": [
            "(10000, 10)\n"
          ],
          "name": "stdout"
        }
      ]
    },
    {
      "cell_type": "code",
      "metadata": {
        "id": "Iytixk8bdxYF",
        "colab_type": "code",
        "colab": {
          "base_uri": "https://localhost:8080/",
          "height": 34
        },
        "outputId": "4427b31b-f185-496d-f3ee-bb68042fb18b"
      },
      "source": [
        "print(logits_pred.shape, one_hot_y_test.shape)\n",
        "t = TemperatureScaling()\n",
        "t.fit(logits_pred, one_hot_y_test)\n",
        "calib_out = t.predict(logits_pred)\n"
      ],
      "execution_count": 54,
      "outputs": [
        {
          "output_type": "stream",
          "text": [
            "(10000, 10) (10000, 10)\n"
          ],
          "name": "stdout"
        }
      ]
    },
    {
      "cell_type": "code",
      "metadata": {
        "id": "XC8W3ZQieldf",
        "colab_type": "code",
        "colab": {
          "base_uri": "https://localhost:8080/",
          "height": 221
        },
        "outputId": "227c8862-3caf-4351-b635-ee6f8ea529da"
      },
      "source": [
        "df = pd.DataFrame()\n",
        "class_prediction = np.argmax(calib_out, axis=1)\n",
        "class_confidence = np.max(calib_out, axis=1)\n",
        "print(\"Min-max confidence: \", np.min(class_confidence), np.max(class_confidence))\n",
        "df['predictions'] = class_prediction\n",
        "df['gt'] = y_test\n",
        "df['scores'] = class_confidence\n",
        "df['correct'] = df['gt'] == df['predictions']\n",
        "df.head()"
      ],
      "execution_count": 56,
      "outputs": [
        {
          "output_type": "stream",
          "text": [
            "Min-max confidence:  0.16658059 0.99726176\n"
          ],
          "name": "stdout"
        },
        {
          "output_type": "execute_result",
          "data": {
            "text/html": [
              "<div>\n",
              "<style scoped>\n",
              "    .dataframe tbody tr th:only-of-type {\n",
              "        vertical-align: middle;\n",
              "    }\n",
              "\n",
              "    .dataframe tbody tr th {\n",
              "        vertical-align: top;\n",
              "    }\n",
              "\n",
              "    .dataframe thead th {\n",
              "        text-align: right;\n",
              "    }\n",
              "</style>\n",
              "<table border=\"1\" class=\"dataframe\">\n",
              "  <thead>\n",
              "    <tr style=\"text-align: right;\">\n",
              "      <th></th>\n",
              "      <th>predictions</th>\n",
              "      <th>gt</th>\n",
              "      <th>scores</th>\n",
              "      <th>correct</th>\n",
              "    </tr>\n",
              "  </thead>\n",
              "  <tbody>\n",
              "    <tr>\n",
              "      <th>0</th>\n",
              "      <td>3</td>\n",
              "      <td>3</td>\n",
              "      <td>0.555484</td>\n",
              "      <td>True</td>\n",
              "    </tr>\n",
              "    <tr>\n",
              "      <th>1</th>\n",
              "      <td>1</td>\n",
              "      <td>8</td>\n",
              "      <td>0.443187</td>\n",
              "      <td>False</td>\n",
              "    </tr>\n",
              "    <tr>\n",
              "      <th>2</th>\n",
              "      <td>1</td>\n",
              "      <td>8</td>\n",
              "      <td>0.720760</td>\n",
              "      <td>False</td>\n",
              "    </tr>\n",
              "    <tr>\n",
              "      <th>3</th>\n",
              "      <td>0</td>\n",
              "      <td>0</td>\n",
              "      <td>0.880043</td>\n",
              "      <td>True</td>\n",
              "    </tr>\n",
              "    <tr>\n",
              "      <th>4</th>\n",
              "      <td>3</td>\n",
              "      <td>6</td>\n",
              "      <td>0.375117</td>\n",
              "      <td>False</td>\n",
              "    </tr>\n",
              "  </tbody>\n",
              "</table>\n",
              "</div>"
            ],
            "text/plain": [
              "   predictions  gt    scores  correct\n",
              "0            3   3  0.555484     True\n",
              "1            1   8  0.443187    False\n",
              "2            1   8  0.720760    False\n",
              "3            0   0  0.880043     True\n",
              "4            3   6  0.375117    False"
            ]
          },
          "metadata": {
            "tags": []
          },
          "execution_count": 56
        }
      ]
    },
    {
      "cell_type": "code",
      "metadata": {
        "id": "ps-g2museyQx",
        "colab_type": "code",
        "colab": {
          "base_uri": "https://localhost:8080/",
          "height": 283
        },
        "outputId": "b298d1aa-25dd-461f-e84c-eca0dafbea95"
      },
      "source": [
        "ret = plot_miscalibration(df)"
      ],
      "execution_count": 57,
      "outputs": [
        {
          "output_type": "display_data",
          "data": {
            "image/png": "[encoded data removed]",
            "text/plain": [
              "<Figure size 432x288 with 1 Axes>"
            ]
          },
          "metadata": {
            "tags": []
          }
        }
      ]
    },
    {
      "cell_type": "code",
      "metadata": {
        "id": "jAwQe1ydas7p",
        "colab_type": "code",
        "colab": {}
      },
      "source": [
        "from scipy.optimize import minimize \n",
        "from sklearn.metrics import log_loss\n",
        "import pandas as pd\n",
        "import time\n",
        "from sklearn.metrics import log_loss, brier_score_loss\n",
        "from keras.losses import categorical_crossentropy\n",
        "from os.path import join\n",
        "import sklearn.metrics as metrics\n",
        "\n",
        "def softmax(x):\n",
        "    \"\"\"\n",
        "    Compute softmax values for each sets of scores in x.\n",
        "    \n",
        "    Parameters:\n",
        "        x (numpy.ndarray): array containing m samples with n-dimensions (m,n)\n",
        "    Returns:\n",
        "        x_softmax (numpy.ndarray) softmaxed values for initial (m,n) array\n",
        "    \"\"\"\n",
        "    e_x = np.exp(x - np.max(x))\n",
        "    return e_x / e_x.sum(axis=1, keepdims=1)\n",
        "\n",
        "class TemperatureScaling():\n",
        "    \n",
        "    def __init__(self, temp = 1, maxiter = 50, solver = \"BFGS\"):\n",
        "        \"\"\"\n",
        "        Initialize class\n",
        "        \n",
        "        Params:\n",
        "            temp (float): starting temperature, default 1\n",
        "            maxiter (int): maximum iterations done by optimizer, however 8 iterations have been maximum.\n",
        "        \"\"\"\n",
        "        self.temp = temp\n",
        "        self.maxiter = maxiter\n",
        "        self.solver = solver\n",
        "    \n",
        "    def _loss_fun(self, x, probs, true):\n",
        "        # Calculates the loss using log-loss (cross-entropy loss)\n",
        "        scaled_probs = self.predict(probs, x)    \n",
        "        loss = log_loss(y_true=true, y_pred=scaled_probs)\n",
        "        return loss\n",
        "    \n",
        "    # Find the temperature\n",
        "    def fit(self, logits, true):\n",
        "        \"\"\"\n",
        "        Trains the model and finds optimal temperature\n",
        "        \n",
        "        Params:\n",
        "            logits: the output from neural network for each class (shape [samples, classes])\n",
        "            true: one-hot-encoding of true labels.\n",
        "            \n",
        "        Returns:\n",
        "            the results of optimizer after minimizing is finished.\n",
        "        \"\"\"\n",
        "        \n",
        "        # true = true.flatten() # Flatten y_val\n",
        "        opt = minimize(self._loss_fun, x0 = 1, args=(logits, true), options={'maxiter':self.maxiter}, method = self.solver)\n",
        "        self.temp = opt.x[0]\n",
        "        \n",
        "        return opt\n",
        "        \n",
        "    def predict(self, logits, temp = None):\n",
        "        \"\"\"\n",
        "        Scales logits based on the temperature and returns calibrated probabilities\n",
        "        \n",
        "        Params:\n",
        "            logits: logits values of data (output from neural network) for each class (shape [samples, classes])\n",
        "            temp: if not set use temperatures find by model or previously set.\n",
        "            \n",
        "        Returns:\n",
        "            calibrated probabilities (nd.array with shape [samples, classes])\n",
        "        \"\"\"\n",
        "        \n",
        "        if not temp:\n",
        "            return softmax(logits/self.temp)\n",
        "        else:\n",
        "            return softmax(logits/temp)\n",
        "            "
      ],
      "execution_count": 0,
      "outputs": []
    },
    {
      "cell_type": "code",
      "metadata": {
        "id": "DNkYtYIqQyw1",
        "colab_type": "code",
        "outputId": "b52c3aed-8903-4f0e-b4a8-e915299fe60b",
        "colab": {
          "base_uri": "https://localhost:8080/",
          "height": 453
        }
      },
      "source": [
        "ECE = plot_discrepancy(lenet_predictions, y_test)\n",
        "np.save('lenet_predictions', lenet_predictions)\n",
        "print(\"ECE: \", ECE)"
      ],
      "execution_count": 0,
      "outputs": [
        {
          "output_type": "stream",
          "text": [
            "Min-max confidence:  0.26938424 1.0\n",
            "0.27895716 0.3333333333333333\n",
            "0.36445746 0.13513513513513514\n",
            "0.46214193 0.3474576271186441\n",
            "0.54844326 0.3271276595744681\n",
            "0.64787436 0.38786279683377306\n",
            "0.7505153 0.3844282238442822\n",
            "0.8537652 0.45151033386327505\n",
            "0.99164075 0.8091214117062259\n",
            "ECE:  0.028122764123180037\n"
          ],
          "name": "stdout"
        },
        {
          "output_type": "display_data",
          "data": {
            "image/png": "[encoded data removed]",
            "text/plain": [
              "<Figure size 432x288 with 1 Axes>"
            ]
          },
          "metadata": {
            "tags": []
          }
        }
      ]
    },
    {
      "cell_type": "code",
      "metadata": {
        "id": "M68s7RE2PoUO",
        "colab_type": "code",
        "colab": {}
      },
      "source": [
        "\"\"\"\n",
        "Define a function that accepts predictions and ground truths, then plots the \n",
        "confidence vs. accuracy. This plot is also known as a reliability diagram.\n",
        "\n",
        "Instead of assessing the calibration by looking at reliability diagrams, we can\n",
        "use a single scalar number, which is the Expected Calibration Error ECE\n",
        "\"\"\"\n",
        "def plot_discrepancy(prediction, ground_truth):\n",
        "    class_prediction = np.argmax(prediction, axis=1)\n",
        "    class_confidence = np.max(prediction, axis=1)\n",
        "    print(\"Min-max confidence: \", np.min(class_confidence), np.max(class_confidence))\n",
        "    error = (class_prediction - ground_truth.flatten())\n",
        "    indicies_sum = 0\n",
        "    all_acc = []\n",
        "    all_conf = []\n",
        "    ECE = 0\n",
        "    # create 10 bins\n",
        "    for i in range(0,10):\n",
        "        # indices for the min-max softmax that lies within certain range (B_m)\n",
        "        min_conf = i*0.1\n",
        "        max_conf = (i+1) * 0.1\n",
        "        indices = np.argwhere((class_confidence >= min_conf) &(class_confidence  <= max_conf)).flatten()\n",
        "        if len(indices) != 0:\n",
        "            confidence_bm = class_confidence[indices]\n",
        "            correct_predictions = np.argwhere(np.argwhere(error[indices] == 0))\n",
        "            if len(correct_predictions) != 0:\n",
        "                accuracy_bm = len(correct_predictions) / len(indices)\n",
        "                all_acc.append(accuracy_bm)\n",
        "                all_conf.append(np.mean(confidence_bm))\n",
        "                print(np.mean(confidence_bm), accuracy_bm)\n",
        "                ECE += np.abs(np.mean(confidence_bm) - accuracy_bm) / len(indices)\n",
        "            \n",
        "    plt.bar(all_conf, all_acc, width=0.1)\n",
        "    plt.grid()\n",
        "    plt.xlabel('confidence')\n",
        "    plt.ylabel('accuracy')\n",
        "    return ECE\n"
      ],
      "execution_count": 0,
      "outputs": []
    },
    {
      "cell_type": "code",
      "metadata": {
        "id": "Sa7j72zV1T0Z",
        "colab_type": "code",
        "colab": {}
      },
      "source": [
        "keras.backend.clear_session()\n",
        "model = keras.applications.VGG16(include_top=False, weights='imagenet', input_shape=(32, 32, 3), classes=10)\n",
        "output = model.output\n",
        "pred = keras.layers.Flatten()(output)\n",
        "pred = keras.layers.Dense(10, activation='softmax')(pred)\n",
        "\n",
        "vgg = keras.models.Model(inputs=model.input, outputs=[pred])\n",
        "vgg.compile(optimizer='adam', loss='categorical_crossentropy', metrics=['accuracy'])"
      ],
      "execution_count": 0,
      "outputs": []
    },
    {
      "cell_type": "code",
      "metadata": {
        "id": "hB-HWRTV3D6j",
        "colab_type": "code",
        "colab": {}
      },
      "source": [
        "history = vgg.fit(x_train, one_hot_y_train, epochs=50)"
      ],
      "execution_count": 0,
      "outputs": []
    },
    {
      "cell_type": "code",
      "metadata": {
        "id": "6Q-nw2dVH4cz",
        "colab_type": "code",
        "outputId": "b43def70-131b-4cc7-89fe-782fcb0d3923",
        "colab": {
          "base_uri": "https://localhost:8080/",
          "height": 51
        }
      },
      "source": [
        "score = vgg.evaluate(x_test, one_hot_y_test)\n",
        "print(score)"
      ],
      "execution_count": 0,
      "outputs": [
        {
          "output_type": "stream",
          "text": [
            "10000/10000 [==============================] - 6s 582us/step\n",
            "[1.0678949194908143, 0.7996]\n"
          ],
          "name": "stdout"
        }
      ]
    },
    {
      "cell_type": "code",
      "metadata": {
        "id": "mNbNQA3zCQz2",
        "colab_type": "code",
        "outputId": "07775dce-70e8-466a-e2ff-aa72fcd05fae",
        "colab": {
          "base_uri": "https://localhost:8080/",
          "height": 453
        }
      },
      "source": [
        "vgg_predictions = vgg.predict(x_test)\n",
        "plot_discrepancy(vgg_predictions, y_test)"
      ],
      "execution_count": 0,
      "outputs": [
        {
          "output_type": "stream",
          "text": [
            "Min-max confidence:  0.23916952 1.0\n",
            "0.27656728 0.4\n",
            "0.35325637 0.25316455696202533\n",
            "0.45805773 0.3050847457627119\n",
            "0.5479865 0.3238095238095238\n",
            "0.65205085 0.3954983922829582\n",
            "0.7534384 0.42650602409638555\n",
            "0.85503286 0.5209923664122137\n",
            "0.9923689 0.8861549761292692\n"
          ],
          "name": "stdout"
        },
        {
          "output_type": "execute_result",
          "data": {
            "text/plain": [
              "0.01744938446823449"
            ]
          },
          "metadata": {
            "tags": []
          },
          "execution_count": 10
        },
        {
          "output_type": "display_data",
          "data": {
            "image/png": "[encoded data removed]",
            "text/plain": [
              "<Figure size 432x288 with 1 Axes>"
            ]
          },
          "metadata": {
            "tags": []
          }
        }
      ]
    },
    {
      "cell_type": "code",
      "metadata": {
        "id": "Jx5GycLJCeXX",
        "colab_type": "code",
        "outputId": "0cb1fb44-1106-4f0e-f59a-05bc4c96531f",
        "colab": {
          "base_uri": "https://localhost:8080/",
          "height": 85
        }
      },
      "source": [
        "print(\"Predictions shape: \", pred.shape)\n",
        "print(\"softmax output for first test samples: \\n\", pred[0])"
      ],
      "execution_count": 0,
      "outputs": [
        {
          "output_type": "stream",
          "text": [
            "Predictions shape:  (10000, 10)\n",
            "softmax output for first test samples: \n",
            " [2.1020765e-06 5.7894169e-05 1.5895067e-06 9.9923861e-01 1.6379404e-08\n",
            " 3.1021945e-04 6.8256741e-05 1.7916864e-05 1.9540475e-06 3.0148731e-04]\n"
          ],
          "name": "stdout"
        }
      ]
    },
    {
      "cell_type": "code",
      "metadata": {
        "id": "7zUf-CSLC0ho",
        "colab_type": "code",
        "outputId": "0e505cd7-6ee7-47df-c1a4-d4b9d1109a93",
        "colab": {
          "base_uri": "https://localhost:8080/",
          "height": 51
        }
      },
      "source": [
        "pred_idx = np.argmax(pred, axis=1)\n",
        "max_conf = np.max(pred, axis=1)\n",
        "print(pred_idx.shape, max_conf.shape)\n",
        "print(np.min(max_conf), np.max(max_conf))"
      ],
      "execution_count": 0,
      "outputs": [
        {
          "output_type": "stream",
          "text": [
            "(10000,) (10000,)\n",
            "0.24877599 1.0\n"
          ],
          "name": "stdout"
        }
      ]
    },
    {
      "cell_type": "code",
      "metadata": {
        "id": "4sHlVu3VEK9t",
        "colab_type": "code",
        "outputId": "4dabcd2e-2c88-45d3-da39-0dc64e6a24f1",
        "colab": {
          "base_uri": "https://localhost:8080/",
          "height": 286
        }
      },
      "source": [
        "# check\n",
        "plt.plot(max_pred[np.argwhere((max_pred > 0.4) &(max_pred  < 0.5))])"
      ],
      "execution_count": 0,
      "outputs": [
        {
          "output_type": "execute_result",
          "data": {
            "text/plain": [
              "[<matplotlib.lines.Line2D at 0x7f076db53240>]"
            ]
          },
          "metadata": {
            "tags": []
          },
          "execution_count": 31
        },
        {
          "output_type": "display_data",
          "data": {
            "image/png": "[encoded data removed]",
            "text/plain": [
              "<Figure size 432x288 with 1 Axes>"
            ]
          },
          "metadata": {
            "tags": []
          }
        }
      ]
    },
    {
      "cell_type": "code",
      "metadata": {
        "id": "n7YtTzKlG-Tn",
        "colab_type": "code",
        "outputId": "53fafac5-c905-4fbd-da64-816b2d354943",
        "colab": {
          "base_uri": "https://localhost:8080/",
          "height": 136
        }
      },
      "source": [
        "diff = pred_idx - y_test.flatten()\n",
        "indices = np.argwhere((max_pred > (0.2)) &(max_pred  < (0.3))).flatten()\n",
        "print(indices)\n",
        "print(pred_idx[indices])\n",
        "print(y_test.flatten()[indices])\n",
        "print(diff[indices])\n",
        "print(len(np.argwhere(diff[indices] == 0)))\n",
        "print(len(np.argwhere(diff == 0)))"
      ],
      "execution_count": 0,
      "outputs": [
        {
          "output_type": "stream",
          "text": [
            "[ 366  376 1493 1736 2136 2232 2804 2840 3263 3391 3789 4190 5166 5517\n",
            " 5869 6574 6729 6859 6904 6997 8006 9114]\n",
            "[9 9 9 2 9 0 7 6 9 9 7 5 0 1 7 4 0 3 5 2 9 0]\n",
            "[1 0 1 5 0 0 3 3 1 3 9 3 9 1 7 0 0 3 5 8 9 8]\n",
            "[ 8  9  8 -3  9  0  4  3  8  6 -2  2 -9  0  0  4  0  0  0 -6  0 -8]\n",
            "7\n",
            "8072\n"
          ],
          "name": "stdout"
        }
      ]
    },
    {
      "cell_type": "code",
      "metadata": {
        "id": "zD5sTdSMDJJN",
        "colab_type": "code",
        "outputId": "48a05d05-04c6-46f1-c41b-26571e52795f",
        "colab": {
          "base_uri": "https://localhost:8080/",
          "height": 357
        }
      },
      "source": [
        "# create 10 bins\n",
        "hist = []\n",
        "indicies_sum = 0\n",
        "for i in range(0,10):\n",
        "    print(\"Calculating predictions within confidence range {} - {}\".format((i*0.1), ((i+1)*0.1)))\n",
        "    # indices for the max softmax that lies within certain range\n",
        "    indices = np.argwhere((max_pred >= (i*0.1)) &(max_pred  <= (0.1*(i+1)))).flatten()\n",
        "    indicies_sum += len(indices)\n",
        "    correct_predictions = np.argwhere(np.argwhere(diff[indices] == 0))\n",
        "    print(\"Number of correct predictions for the specified confidence range\", len(correct_predictions))\n",
        "    hist.append(len(correct_predictions))"
      ],
      "execution_count": 0,
      "outputs": [
        {
          "output_type": "stream",
          "text": [
            "Calculating predictions within confidence range 0.0 - 0.1\n",
            "Number of correct predictions for the specified confidence range 0\n",
            "Calculating predictions within confidence range 0.1 - 0.2\n",
            "Number of correct predictions for the specified confidence range 0\n",
            "Calculating predictions within confidence range 0.2 - 0.30000000000000004\n",
            "Number of correct predictions for the specified confidence range 7\n",
            "Calculating predictions within confidence range 0.30000000000000004 - 0.4\n",
            "Number of correct predictions for the specified confidence range 26\n",
            "Calculating predictions within confidence range 0.4 - 0.5\n",
            "Number of correct predictions for the specified confidence range 65\n",
            "Calculating predictions within confidence range 0.5 - 0.6000000000000001\n",
            "Number of correct predictions for the specified confidence range 98\n",
            "Calculating predictions within confidence range 0.6000000000000001 - 0.7000000000000001\n",
            "Number of correct predictions for the specified confidence range 140\n",
            "Calculating predictions within confidence range 0.7000000000000001 - 0.8\n",
            "Number of correct predictions for the specified confidence range 183\n",
            "Calculating predictions within confidence range 0.8 - 0.9\n",
            "Number of correct predictions for the specified confidence range 267\n",
            "Calculating predictions within confidence range 0.9 - 1.0\n",
            "Number of correct predictions for the specified confidence range 7282\n"
          ],
          "name": "stdout"
        }
      ]
    },
    {
      "cell_type": "code",
      "metadata": {
        "id": "48_R8rOBGah3",
        "colab_type": "code",
        "outputId": "b0676be4-c8aa-45a0-fc60-550cb87d11df",
        "colab": {
          "base_uri": "https://localhost:8080/",
          "height": 85
        }
      },
      "source": [
        "a = np.array([2,2])\n",
        "b = np.array([3,0])\n",
        "print(np.linalg.norm(a,2))\n",
        "print(np.linalg.norm(b,2))\n",
        "print(np.linalg.norm(b,2) * np.linalg.norm(a,2) * np.cos(np.deg2rad(45)))\n",
        "print(np.matmul(a, b))"
      ],
      "execution_count": 0,
      "outputs": [
        {
          "output_type": "stream",
          "text": [
            "2.8284271247461903\n",
            "3.0\n",
            "6.000000000000001\n",
            "6\n"
          ],
          "name": "stdout"
        }
      ]
    }
  ]
}