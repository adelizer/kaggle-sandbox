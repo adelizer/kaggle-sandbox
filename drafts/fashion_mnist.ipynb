{
  "nbformat": 4,
  "nbformat_minor": 0,
  "metadata": {
    "colab": {
      "name": "fashion_mnist.ipynb",
      "version": "0.3.2",
      "provenance": [],
      "collapsed_sections": []
    },
    "kernelspec": {
      "name": "python3",
      "display_name": "Python 3"
    }
  },
  "cells": [
    {
      "metadata": {
        "id": "BY3zQaNgSDAX",
        "colab_type": "code",
        "colab": {}
      },
      "cell_type": "code",
      "source": [
        "# setting up  the environment\n",
        "\n",
        "import tensorflow as tf\n",
        "from tensorflow import keras\n",
        "\n",
        "import numpy as np \n",
        "import matplotlib.pyplot as plt\n",
        "\n",
        "fashion_mnist = keras.datasets.fashion_mnist"
      ],
      "execution_count": 0,
      "outputs": []
    },
    {
      "metadata": {
        "id": "PIBl9H0LUCrb",
        "colab_type": "code",
        "outputId": "2b880e2f-4baf-4a2b-d339-4edd103a5f94",
        "colab": {
          "base_uri": "https://localhost:8080/",
          "height": 153
        }
      },
      "cell_type": "code",
      "source": [
        "(x_train, y_train), (x_test, y_test) = fashion_mnist.load_data()"
      ],
      "execution_count": 0,
      "outputs": [
        {
          "output_type": "stream",
          "text": [
            "Downloading data from https://storage.googleapis.com/tensorflow/tf-keras-datasets/train-labels-idx1-ubyte.gz\n",
            "32768/29515 [=================================] - 0s 0us/step\n",
            "Downloading data from https://storage.googleapis.com/tensorflow/tf-keras-datasets/train-images-idx3-ubyte.gz\n",
            "26427392/26421880 [==============================] - 0s 0us/step\n",
            "Downloading data from https://storage.googleapis.com/tensorflow/tf-keras-datasets/t10k-labels-idx1-ubyte.gz\n",
            "8192/5148 [===============================================] - 0s 0us/step\n",
            "Downloading data from https://storage.googleapis.com/tensorflow/tf-keras-datasets/t10k-images-idx3-ubyte.gz\n",
            "4423680/4422102 [==============================] - 0s 0us/step\n"
          ],
          "name": "stdout"
        }
      ]
    },
    {
      "metadata": {
        "id": "VsPpOZHAUiFb",
        "colab_type": "code",
        "outputId": "cf229eb1-07d3-460f-b566-158e41f8faeb",
        "colab": {
          "base_uri": "https://localhost:8080/",
          "height": 347
        }
      },
      "cell_type": "code",
      "source": [
        "class_names = ['T-shirt/top', 'Trouser', 'Pullover', 'Dress', 'Coat', \n",
        "               'Sandal', 'Shirt', 'Sneaker', 'Bag', 'Ankle boot']\n",
        "sample_image = x_train[0]\n",
        "plt.imshow(sample_image)\n",
        "plt.colorbar() # to check the max and min values of the pixles\n",
        "plt.grid(False)\n"
      ],
      "execution_count": 0,
      "outputs": [
        {
          "output_type": "display_data",
          "data": {
            "image/png": "[encoded data removed]",
            "text/plain": [
              "<matplotlib.figure.Figure at 0x7f04c87a6ba8>"
            ]
          },
          "metadata": {
            "tags": []
          }
        }
      ]
    },
    {
      "metadata": {
        "id": "jpvNhq0zWroN",
        "colab_type": "code",
        "colab": {}
      },
      "cell_type": "code",
      "source": [
        "x_train = x_train / 255.\n",
        "x_test = x_test / 255.\n",
        "\n",
        "plt.figure(figsize=(10,10))\n",
        "\n",
        "for i in range(1,26):\n",
        "  plt.subplot(5,5, i)\n",
        "  plt.imshow(x_train[i], cmap=plt.cm.jet)\n",
        "  plt.xticks([]) # to make space for the label\n",
        "  plt.xlabel(class_names[y_train[i]])"
      ],
      "execution_count": 0,
      "outputs": []
    },
    {
      "metadata": {
        "id": "ZRGCZ9BqdAD9",
        "colab_type": "code",
        "outputId": "ce6147de-df82-4f04-d6f2-9fb57d03835d",
        "colab": {
          "base_uri": "https://localhost:8080/",
          "height": 34
        }
      },
      "cell_type": "code",
      "source": [
        "x_train.shape\n"
      ],
      "execution_count": 0,
      "outputs": [
        {
          "output_type": "execute_result",
          "data": {
            "text/plain": [
              "(60000, 28, 28, 1)"
            ]
          },
          "metadata": {
            "tags": []
          },
          "execution_count": 122
        }
      ]
    },
    {
      "metadata": {
        "id": "mozqLcYAZbQh",
        "colab_type": "code",
        "colab": {}
      },
      "cell_type": "code",
      "source": [
        "# this is not a conv model\n",
        "model = keras.Sequential()\n",
        "model.add(keras.layers.Flatten(input_shape=(28,28))) # no parameters to learn. No activation ?\n",
        "model.add(keras.layers.Dense(128, activation=tf.nn.relu))\n",
        "model.add(keras.layers.Dense(10, activation=tf.nn.softmax))\n",
        "model.compile(optimizer=tf.train.AdamOptimizer(),\n",
        "             loss = 'sparse_categorical_crossentropy',\n",
        "             metrics=['accuracy'])"
      ],
      "execution_count": 0,
      "outputs": []
    },
    {
      "metadata": {
        "id": "0GB7YBRWcqOK",
        "colab_type": "code",
        "outputId": "6dc74a86-a0cd-4fdc-ef8c-b09d85d48f92",
        "colab": {
          "base_uri": "https://localhost:8080/",
          "height": 204
        }
      },
      "cell_type": "code",
      "source": [
        "history = model.fit(x_train, y_train, epochs=5, validation_split=0.2)"
      ],
      "execution_count": 0,
      "outputs": [
        {
          "output_type": "stream",
          "text": [
            "Train on 48000 samples, validate on 12000 samples\n",
            "Epoch 1/5\n",
            "48000/48000 [==============================] - 5s 99us/step - loss: 0.5211 - acc: 0.8187 - val_loss: 0.4164 - val_acc: 0.8547\n",
            "Epoch 2/5\n",
            "48000/48000 [==============================] - 4s 84us/step - loss: 0.3871 - acc: 0.8603 - val_loss: 0.4220 - val_acc: 0.8494\n",
            "Epoch 3/5\n",
            "48000/48000 [==============================] - 4s 82us/step - loss: 0.3475 - acc: 0.8733 - val_loss: 0.3601 - val_acc: 0.8682\n",
            "Epoch 4/5\n",
            "48000/48000 [==============================] - 4s 85us/step - loss: 0.3236 - acc: 0.8807 - val_loss: 0.3893 - val_acc: 0.8575\n",
            "Epoch 5/5\n",
            "48000/48000 [==============================] - 4s 85us/step - loss: 0.3013 - acc: 0.8898 - val_loss: 0.3283 - val_acc: 0.8818\n"
          ],
          "name": "stdout"
        }
      ]
    },
    {
      "metadata": {
        "id": "KxINj2rJo_Mv",
        "colab_type": "code",
        "outputId": "78a2e4f1-1e55-4cb5-9646-48c5cd3c5cc6",
        "colab": {
          "base_uri": "https://localhost:8080/",
          "height": 51
        }
      },
      "cell_type": "code",
      "source": [
        "# test one hot encoding\n",
        "# test the model \n",
        "# how to run an image through a layer\n",
        "test_loss, test_acc = model.evaluate(x_test, y_test)\n",
        "\n",
        "print('Test accuracy:', test_acc)"
      ],
      "execution_count": 0,
      "outputs": [
        {
          "output_type": "stream",
          "text": [
            "10000/10000 [==============================] - 0s 30us/step\n",
            "Test accuracy: 0.8737\n"
          ],
          "name": "stdout"
        }
      ]
    },
    {
      "metadata": {
        "id": "ys7QGDDOpzrC",
        "colab_type": "code",
        "colab": {}
      },
      "cell_type": "code",
      "source": [
        "predictions = model.predict(x_test)\n",
        "np.argmax(predictions[0])"
      ],
      "execution_count": 0,
      "outputs": []
    },
    {
      "metadata": {
        "id": "JtBwACbaqQoZ",
        "colab_type": "code",
        "colab": {}
      },
      "cell_type": "code",
      "source": [
        "def plot_image(i, predictions_array, true_label, img):\n",
        "  predictions_array, true_label, img = predictions_array[i], true_label[i], img[i]\n",
        "  plt.grid(False)\n",
        "  plt.xticks([])\n",
        "  plt.imshow(img, cmap=plt.cm.jet)\n",
        "  predicted_label = np.argmax(predictions_array)\n",
        "  if predicted_label == true_label:\n",
        "    color='green'\n",
        "  else:\n",
        "    color='red'\n",
        "  plt.xlabel(\"{} {:2.0f}% ({})\".format(class_names[predicted_label],\n",
        "                                      100*np.max(predictions_array),\n",
        "                                      class_names[true_label]), color=color)\n",
        "\n",
        "  \n",
        "i = 0\n",
        "plt.figure(figsize=(6,3))\n",
        "plt.subplot(1,2,1)\n",
        "plot_image(i, predictions, y_test, x_test)"
      ],
      "execution_count": 0,
      "outputs": []
    },
    {
      "metadata": {
        "id": "X4df_CeWrbT-",
        "colab_type": "code",
        "colab": {}
      },
      "cell_type": "code",
      "source": [
        "print(model)\n",
        "print(model.layers)\n",
        "plt.imshow(x_test[0])\n",
        "pred = model.predict(np.expand_dims(x_test[0], 0))\n",
        "print(pred)\n",
        "print(class_names[np.argmax(pred)])\n"
      ],
      "execution_count": 0,
      "outputs": []
    },
    {
      "metadata": {
        "id": "SwLKxRpnxIXt",
        "colab_type": "code",
        "colab": {}
      },
      "cell_type": "code",
      "source": [
        "# attempting the convolutional neutal network implementation\n",
        "\n",
        "cnn_model = keras.Sequential()\n",
        "\n",
        "cnn_model.add(tf.keras.layers.Convolution2D(filters=64, kernel_size=2,padding='same', activation='relu', input_shape=(28,28,1)))\n",
        "# cnn_model.add(tf.keras.layers.MaxPooling2D(pool_size=2))\n",
        "# cnn_model.add(tf.keras.layers.Dropout(0.3))\n",
        "# cnn_model.add(tf.keras.layers.Conv2D(filters=32, kernel_size=2, padding='same', activation='relu'))"
      ],
      "execution_count": 0,
      "outputs": []
    },
    {
      "metadata": {
        "id": "sE7y1WddSXFF",
        "colab_type": "code",
        "colab": {}
      },
      "cell_type": "code",
      "source": [
        "cnn_model.summary()\n",
        "\n",
        "cnn_model.compile(optimizer=tf.train.AdamOptimizer(),\n",
        "             loss = 'sparse_categorical_crossentropy',\n",
        "             metrics=['accuracy'])"
      ],
      "execution_count": 0,
      "outputs": []
    },
    {
      "metadata": {
        "id": "aNEt1Payclc5",
        "colab_type": "code",
        "colab": {}
      },
      "cell_type": "code",
      "source": [
        "model.predict(np.expand_dims(x_test[0],0))\n",
        "\n",
        "\n",
        "cnn_model.predict(np.expand_dims(x_test[0],0))"
      ],
      "execution_count": 0,
      "outputs": []
    },
    {
      "metadata": {
        "id": "ilor1t0WhNiW",
        "colab_type": "code",
        "outputId": "94534b5d-afb3-46c2-e0c3-cade4736b54e",
        "colab": {
          "base_uri": "https://localhost:8080/",
          "height": 544
        }
      },
      "cell_type": "code",
      "source": [
        "# A trial of NN \n",
        "\n",
        "import tensorflow as tf\n",
        "import numpy as np\n",
        "from tensorflow import keras\n",
        "from sklearn.preprocessing import LabelBinarizer\n",
        "\n",
        "(x_train, y_train), (x_test, y_test) = keras.datasets.fashion_mnist.load_data()\n",
        "\n",
        "print(x_train.shape)\n",
        "x_train = x_train.reshape(x_train.shape[0], 28, 28, 1)\n",
        "x_test = x_test.reshape(x_test.shape[0], 28, 28, 1)\n",
        "\n",
        "print(x_train.shape)\n",
        "input_shape = x_train[0].shape\n",
        "\n",
        "# normalize images\n",
        "def normalize(x):\n",
        "  return x / 255.\n",
        "\n",
        "x_train = normalize(x_train)\n",
        "x_test = normalize(x_test)\n",
        "\n",
        "lb = LabelBinarizer().fit(np.unique(y_train))\n",
        "# y_train = lb.transform(y_train)\n",
        "# y_test = lb.transform(y_test)\n",
        "print(input_shape)\n",
        "model = keras.models.Sequential()\n",
        "model.add(keras.layers.Convolution2D(filters=64, kernel_size=3, padding='same', input_shape=input_shape))\n",
        "model.add(keras.layers.MaxPooling2D(pool_size=2))\n",
        "\n",
        "\n",
        "\n",
        "# model.add(Flatten())\n",
        "\n",
        "# # Fully connected layer\n",
        "# model.add(Dense(512))\n",
        "# model.add(BatchNormalization())\n",
        "# model.add(Activation('relu'))\n",
        "# model.add(Dropout(0.2))\n",
        "# model.add(Dense(10))\n",
        "\n",
        "# model.add(Activation('softmax'))\n",
        "\n",
        "\n",
        "model.add(keras.layers.Flatten())\n",
        "model.add(keras.layers.Dropout(0.3))\n",
        "model.add(keras.layers.Dense(10, activation=tf.nn.softmax))\n",
        "\n",
        "model.summary()\n",
        "\n",
        "model.compile(optimizer=tf.train.AdamOptimizer(),\n",
        "             loss = 'sparse_categorical_crossentropy',\n",
        "             metrics=['accuracy'])\n",
        "\n",
        "history = model.fit(x_train, y_train, epochs=5, validation_split=0.2)\n"
      ],
      "execution_count": 0,
      "outputs": [
        {
          "output_type": "stream",
          "text": [
            "(60000, 28, 28)\n",
            "(60000, 28, 28, 1)\n",
            "(28, 28, 1)\n",
            "_________________________________________________________________\n",
            "Layer (type)                 Output Shape              Param #   \n",
            "=================================================================\n",
            "conv2d_18 (Conv2D)           (None, 28, 28, 64)        640       \n",
            "_________________________________________________________________\n",
            "max_pooling2d_12 (MaxPooling (None, 14, 14, 64)        0         \n",
            "_________________________________________________________________\n",
            "flatten_6 (Flatten)          (None, 12544)             0         \n",
            "_________________________________________________________________\n",
            "dropout_12 (Dropout)         (None, 12544)             0         \n",
            "_________________________________________________________________\n",
            "dense_14 (Dense)             (None, 10)                125450    \n",
            "=================================================================\n",
            "Total params: 126,090\n",
            "Trainable params: 126,090\n",
            "Non-trainable params: 0\n",
            "_________________________________________________________________\n",
            "Train on 48000 samples, validate on 12000 samples\n",
            "Epoch 1/5\n",
            "48000/48000 [==============================] - 59s 1ms/step - loss: 0.4590 - acc: 0.8396 - val_loss: 0.3597 - val_acc: 0.8756\n",
            "Epoch 2/5\n",
            "48000/48000 [==============================] - 59s 1ms/step - loss: 0.3422 - acc: 0.8811 - val_loss: 0.3319 - val_acc: 0.8839\n",
            "Epoch 3/5\n",
            "48000/48000 [==============================] - 59s 1ms/step - loss: 0.3096 - acc: 0.8912 - val_loss: 0.3234 - val_acc: 0.8862\n",
            "Epoch 4/5\n",
            "48000/48000 [==============================] - 60s 1ms/step - loss: 0.2890 - acc: 0.8986 - val_loss: 0.3149 - val_acc: 0.8908\n",
            "Epoch 5/5\n",
            "48000/48000 [==============================] - 58s 1ms/step - loss: 0.2727 - acc: 0.9040 - val_loss: 0.3083 - val_acc: 0.8935\n"
          ],
          "name": "stdout"
        }
      ]
    },
    {
      "metadata": {
        "id": "50ETV0SBXUYl",
        "colab_type": "code",
        "outputId": "2612ad0b-931b-4ebc-8ff8-f8be4bb10def",
        "colab": {
          "base_uri": "https://localhost:8080/",
          "height": 381
        }
      },
      "cell_type": "code",
      "source": [
        "plt.plot(history.epoch, history.history['val_loss'])\n",
        "plt.plot(history.epoch, history.history['loss'])\n",
        "\n",
        "print(history.history.keys())\n",
        "print(history.history['loss'])"
      ],
      "execution_count": 0,
      "outputs": [
        {
          "output_type": "stream",
          "text": [
            "dict_keys(['val_loss', 'val_acc', 'loss', 'acc'])\n",
            "[0.45901730822523434, 0.34216550868252915, 0.3095646214360992, 0.28895502532770234, 0.2727298660253485]\n"
          ],
          "name": "stdout"
        },
        {
          "output_type": "display_data",
          "data": {
            "image/png": "[encoded data removed]",
            "text/plain": [
              "<matplotlib.figure.Figure at 0x7fab0390d710>"
            ]
          },
          "metadata": {
            "tags": []
          }
        }
      ]
    },
    {
      "metadata": {
        "id": "CFX74rf_2QWw",
        "colab_type": "code",
        "outputId": "d0523b66-583b-4464-cbbe-5a5492262d49",
        "colab": {
          "base_uri": "https://localhost:8080/",
          "height": 51
        }
      },
      "cell_type": "code",
      "source": [
        "test_loss, test_acc = model.evaluate(x_test, y_test)\n",
        "\n",
        "print('Test accuracy:', test_acc)"
      ],
      "execution_count": 0,
      "outputs": [
        {
          "output_type": "stream",
          "text": [
            "10000/10000 [==============================] - 3s 335us/step\n",
            "Test accuracy: 0.8903\n"
          ],
          "name": "stdout"
        }
      ]
    },
    {
      "metadata": {
        "id": "AmljuJ2iD0Mb",
        "colab_type": "code",
        "colab": {}
      },
      "cell_type": "code",
      "source": [
        "import matplotlib.pyplot as plt\n",
        "img = x_test[10]\n",
        "layer_dict = dict([(layer.name, layer) for layer in model.layers])\n",
        "layer_name=\"conv2d_17\"\n",
        "layer_output = layer_dict[layer_name].output\n",
        "\n",
        "init_op = tf.initialize_all_variables()\n",
        "\n",
        "with tf.Session() as sess:\n",
        "  \n",
        "  print(layer_output[:,:,:,0])\n",
        "  conv_img = model.predict(np.expand_dims(img,0))\n"
      ],
      "execution_count": 0,
      "outputs": []
    }
  ]
}