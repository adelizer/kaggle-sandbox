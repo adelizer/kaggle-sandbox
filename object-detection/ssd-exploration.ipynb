{
 "cells": [
  {
   "cell_type": "markdown",
   "metadata": {},
   "source": [
    "### SSD exploration"
   ]
  },
  {
   "cell_type": "code",
   "execution_count": 45,
   "metadata": {},
   "outputs": [],
   "source": [
    "\"\"\"\n",
    "This notebook explores parts of the SSD model based on the keras implementation\n",
    "https://github.com/pierluigiferrari/ssd_keras\n",
    "\"\"\"\n",
    "\n",
    "import sys\n",
    "sys.path.append(\"../../ssd_keras/\")\n",
    "\n",
    "import os\n",
    "from datetime import datetime\n",
    "\n",
    "import numpy as np\n",
    "import tensorflow as tf\n",
    "import tensorboard\n",
    "import keras\n",
    "from keras.utils import plot_model\n",
    "from keras import backend as K\n",
    "from keras.models import load_model\n",
    "from keras.preprocessing import image\n",
    "from keras.optimizers import Adam\n",
    "from imageio import imread\n",
    "from matplotlib import pyplot as plt\n",
    "\n",
    "from models.keras_ssd300 import ssd_300\n",
    "from keras_loss_function.keras_ssd_loss import SSDLoss\n",
    "from keras_layers.keras_layer_AnchorBoxes import AnchorBoxes\n",
    "from keras_layers.keras_layer_DecodeDetections import DecodeDetections\n",
    "from keras_layers.keras_layer_DecodeDetectionsFast import DecodeDetectionsFast\n",
    "from keras_layers.keras_layer_L2Normalization import L2Normalization\n",
    "\n",
    "from ssd_encoder_decoder.ssd_output_decoder import decode_detections, decode_detections_fast\n",
    "\n",
    "%matplotlib inline"
   ]
  },
  {
   "cell_type": "code",
   "execution_count": 46,
   "metadata": {},
   "outputs": [],
   "source": [
    "IMAGE_HEIGHT = 300\n",
    "IMAGE_WIDTH = 300"
   ]
  },
  {
   "cell_type": "code",
   "execution_count": 56,
   "metadata": {},
   "outputs": [
    {
     "ename": "AttributeError",
     "evalue": "__enter__",
     "output_type": "error",
     "traceback": [
      "\u001b[0;31m---------------------------------------------------------------------------\u001b[0m",
      "\u001b[0;31mAttributeError\u001b[0m                            Traceback (most recent call last)",
      "\u001b[0;32m<ipython-input-56-0a0d4bcb70e3>\u001b[0m in \u001b[0;36m<module>\u001b[0;34m\u001b[0m\n\u001b[1;32m     32\u001b[0m \u001b[0;34m\u001b[0m\u001b[0m\n\u001b[1;32m     33\u001b[0m \u001b[0;31m# Write the session to explore with tensorboard\u001b[0m\u001b[0;34m\u001b[0m\u001b[0;34m\u001b[0m\u001b[0m\n\u001b[0;32m---> 34\u001b[0;31m \u001b[0;32mwith\u001b[0m \u001b[0mK\u001b[0m\u001b[0;34m.\u001b[0m\u001b[0mget_session\u001b[0m\u001b[0;34m(\u001b[0m\u001b[0;34m)\u001b[0m \u001b[0;32mas\u001b[0m \u001b[0msess\u001b[0m\u001b[0;34m:\u001b[0m\u001b[0;34m\u001b[0m\u001b[0m\n\u001b[0m\u001b[1;32m     35\u001b[0m     \u001b[0mwriter\u001b[0m \u001b[0;34m=\u001b[0m \u001b[0mtf\u001b[0m\u001b[0;34m.\u001b[0m\u001b[0msummary\u001b[0m\u001b[0;34m.\u001b[0m\u001b[0mFileWriter\u001b[0m\u001b[0;34m(\u001b[0m\u001b[0mlogdir\u001b[0m\u001b[0;34m,\u001b[0m \u001b[0msess\u001b[0m\u001b[0;34m.\u001b[0m\u001b[0mgraph\u001b[0m\u001b[0;34m)\u001b[0m\u001b[0;34m\u001b[0m\u001b[0m\n\u001b[1;32m     36\u001b[0m     \u001b[0mwriter\u001b[0m\u001b[0;34m.\u001b[0m\u001b[0mclose\u001b[0m\u001b[0;34m(\u001b[0m\u001b[0;34m)\u001b[0m\u001b[0;34m\u001b[0m\u001b[0m\n",
      "\u001b[0;31mAttributeError\u001b[0m: __enter__"
     ]
    }
   ],
   "source": [
    "logdir = \"logs/\" + datetime.now().strftime(\"%Y%m%d-%H%M%S\")  # define a log directory\n",
    "K.clear_session()  # Clear previous models from memory.\n",
    "\n",
    "model = ssd_300(image_size=(IMAGE_HEIGHT, IMAGE_WIDTH, 3),\n",
    "                n_classes=20,\n",
    "                mode='inference',\n",
    "                l2_regularization=0.0005,\n",
    "                scales=[0.1, 0.2, 0.37, 0.54, 0.71, 0.88, 1.05],\n",
    "                # The scales for MS COCO are [0.07, 0.15, 0.33, 0.51, 0.69, 0.87, 1.05]\n",
    "                aspect_ratios_per_layer=[[1.0, 2.0, 0.5],\n",
    "                                         [1.0, 2.0, 0.5, 3.0, 1.0 / 3.0],\n",
    "                                         [1.0, 2.0, 0.5, 3.0, 1.0 / 3.0],\n",
    "                                         [1.0, 2.0, 0.5, 3.0, 1.0 / 3.0],\n",
    "                                         [1.0, 2.0, 0.5],\n",
    "                                         [1.0, 2.0, 0.5]],\n",
    "                two_boxes_for_ar1=True,\n",
    "                steps=[8, 16, 32, 64, 100, 300],\n",
    "                offsets=[0.5, 0.5, 0.5, 0.5, 0.5, 0.5],\n",
    "                clip_boxes=False,\n",
    "                variances=[0.1, 0.1, 0.2, 0.2],\n",
    "                normalize_coords=True,\n",
    "                subtract_mean=[123, 117, 104],\n",
    "                swap_channels=[2, 1, 0],\n",
    "                confidence_thresh=0.5,\n",
    "                iou_threshold=0.45,\n",
    "                top_k=200,\n",
    "                nms_max_output_size=400)\n",
    "\n",
    "adam = Adam(lr=0.001, beta_1=0.9, beta_2=0.999, epsilon=1e-08, decay=0.0)\n",
    "ssd_loss = SSDLoss(neg_pos_ratio=3, alpha=1.0)\n",
    "model.compile(optimizer=adam, loss=ssd_loss.compute_loss)\n",
    "\n",
    "# Write the session to explore with tensorboard\n",
    "with K.get_session() as sess:\n",
    "    writer = tf.summary.FileWriter(logdir, sess.graph)\n",
    "    writer.close()\n",
    "\n",
    "# plot_model(model, 'ssd_300.png', show_shapes=True, show_layer_names=True)\n",
    "print(model.summary())"
   ]
  },
  {
   "cell_type": "code",
   "execution_count": 48,
   "metadata": {},
   "outputs": [
    {
     "name": "stdout",
     "output_type": "stream",
     "text": [
      "{'outbound_layer': 'pool4', 'inbound_layers': ['conv4_3'], 'node_indices': [0], 'tensor_indices': [0]}\n",
      "{'outbound_layer': 'conv4_3_norm', 'inbound_layers': ['conv4_3'], 'node_indices': [0], 'tensor_indices': [0]}\n",
      "{'outbound_layer': 'conv4_3_norm_mbox_conf', 'inbound_layers': ['conv4_3_norm'], 'node_indices': [0], 'tensor_indices': [0]}\n",
      "{'outbound_layer': 'conv4_3_norm_mbox_loc', 'inbound_layers': ['conv4_3_norm'], 'node_indices': [0], 'tensor_indices': [0]}\n",
      "conv4_3 output:  (?, 38, 38, 512)\n",
      "conf:  (?, 38, 38, 84)\n",
      "loc:  (?, 38, 38, 16)\n"
     ]
    }
   ],
   "source": [
    "\"\"\"\n",
    "The model uses VGG16 network as a feature extractor. \n",
    "Predictions are generated using multiple feature maps.\n",
    "Starting from the layer Conv4_3 SSD produces prediction from 6 layers\n",
    "\"\"\"\n",
    "conv4_3 = model.get_layer('conv4_3')\n",
    "next_layers = conv4_3._outbound_nodes\n",
    "[print(l.get_config()) for l in next_layers]\n",
    "\n",
    "conv4_3_norm = model.get_layer('conv4_3_norm')\n",
    "\n",
    "next_layers = conv4_3_norm._outbound_nodes\n",
    "[print(l.get_config()) for l in next_layers]\n",
    "\n",
    "print(\"conv4_3 output: \", conv4_3.output.shape)\n",
    "print(\"conf: \", model.get_layer('conv4_3_norm_mbox_conf').output.shape)\n",
    "print(\"loc: \", model.get_layer('conv4_3_norm_mbox_loc').output.shape)"
   ]
  },
  {
   "cell_type": "code",
   "execution_count": 19,
   "metadata": {},
   "outputs": [],
   "source": [
    "\"\"\"\n",
    "The first layer generating predictions is Conv4_3.\n",
    "For each location of the grid cells there are 4 different predictions. \n",
    "Which are split along two branches, one for confidence scores and one for bounding boxes\n",
    "\"\"\""
   ]
  },
  {
   "cell_type": "code",
   "execution_count": 60,
   "metadata": {},
   "outputs": [],
   "source": [
    "\"\"\"\n",
    "Since the network is not able to generate absolute predictions, \n",
    "Constant values for the anchor boxes are used as constants in the implementations\n",
    "\"\"\"\n",
    "prior = model.get_layer('conv4_3_norm_mbox_priorbox')\n",
    "prior_model = keras.Model(inputs=model.inputs, outputs=prior.output)\n",
    "dummy_img = np.random.rand(1, 300, 300, 3)\n",
    "anchor_boxes = prior_model.predict(dummy_img)"
   ]
  },
  {
   "cell_type": "code",
   "execution_count": 61,
   "metadata": {},
   "outputs": [
    {
     "name": "stdout",
     "output_type": "stream",
     "text": [
      "(1, 38, 38, 4, 8)\n"
     ]
    }
   ],
   "source": [
    "print(anchor_boxes.shape)"
   ]
  }
 ],
 "metadata": {
  "kernelspec": {
   "display_name": "Python 3",
   "language": "python",
   "name": "python3"
  },
  "language_info": {
   "codemirror_mode": {
    "name": "ipython",
    "version": 3
   },
   "file_extension": ".py",
   "mimetype": "text/x-python",
   "name": "python",
   "nbconvert_exporter": "python",
   "pygments_lexer": "ipython3",
   "version": "3.6.5"
  }
 },
 "nbformat": 4,
 "nbformat_minor": 2
}
