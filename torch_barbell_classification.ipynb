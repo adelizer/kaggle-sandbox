{
  "nbformat": 4,
  "nbformat_minor": 0,
  "metadata": {
    "colab": {
      "name": "torch-barbell-classification.ipynb",
      "provenance": [],
      "collapsed_sections": []
    },
    "kernelspec": {
      "name": "python3",
      "display_name": "Python 3"
    },
    "language_info": {
      "name": "python"
    },
    "accelerator": "GPU"
  },
  "cells": [
    {
      "cell_type": "code",
      "execution_count": null,
      "metadata": {
        "colab": {
          "base_uri": "https://localhost:8080/"
        },
        "id": "Q6naQXOtkUGg",
        "outputId": "ad344b7d-b27d-466d-f6a3-4e0db80d7764"
      },
      "outputs": [
        {
          "output_type": "stream",
          "name": "stdout",
          "text": [
            "PyTorch has version 1.10.0+cu111\n"
          ]
        }
      ],
      "source": [
        "import torch\n",
        "import os\n",
        "print(\"PyTorch has version {}\".format(torch.__version__))"
      ]
    },
    {
      "cell_type": "code",
      "source": [
        "%%capture\n",
        "# Install torch geometric\n",
        "!pip install torch-scatter -f https://pytorch-geometric.com/whl/torch-1.10.0+cu111.html\n",
        "!pip install torch-sparse -f https://pytorch-geometric.com/whl/torch-1.10.0+cu111.html\n",
        "!pip install torch-geometric\n",
        "!pip install ogb"
      ],
      "metadata": {
        "id": "j9a5NtVpkZGo"
      },
      "execution_count": null,
      "outputs": []
    },
    {
      "cell_type": "code",
      "source": [
        "import torch_geometric \n",
        "import torch_scatter\n",
        "import torch_sparse\n",
        "torch_geometric.__version__, torch_scatter.__version__, torch_sparse.__version__"
      ],
      "metadata": {
        "colab": {
          "base_uri": "https://localhost:8080/"
        },
        "id": "8yoXiz7ZCyE0",
        "outputId": "40885050-5152-44eb-f315-97cf0e6f9f0e"
      },
      "execution_count": null,
      "outputs": [
        {
          "output_type": "execute_result",
          "data": {
            "text/plain": [
              "('2.0.3', '2.0.9', '0.6.12')"
            ]
          },
          "metadata": {},
          "execution_count": 3
        }
      ]
    },
    {
      "cell_type": "code",
      "source": [
        "import numpy as np\n",
        "from tqdm import tqdm\n",
        "import pandas as pd\n",
        "import networkx as nx\n",
        "import matplotlib.pyplot as plt\n",
        "import seaborn as sns\n",
        "\n",
        "from bokeh.io import show\n",
        "from bokeh.models import Circle, MultiLine, Range1d\n",
        "from bokeh.palettes import Oranges8, Blues8, Reds8, Purples8, Viridis8\n",
        "from bokeh.plotting import figure, from_networkx\n",
        "from bokeh.transform import linear_cmap\n",
        "from bokeh.io import output_notebook\n",
        "\n",
        "import tensorflow as tf\n",
        "pd.set_option('display.max_columns', None)\n",
        "pd.set_option('display.float_format', lambda x: '%.4f' % x)"
      ],
      "metadata": {
        "id": "2PWjflQ-kZFL"
      },
      "execution_count": null,
      "outputs": []
    },
    {
      "cell_type": "code",
      "source": [
        "output_notebook() "
      ],
      "metadata": {
        "id": "eR9GL7JpkZDK"
      },
      "execution_count": null,
      "outputs": []
    },
    {
      "cell_type": "code",
      "source": [
        "graph = nx.barbell_graph(100, 3)\n",
        "options = {\n",
        "    'node_size': 200,\n",
        "    'width': 1,\n",
        "}\n",
        "nx.draw_networkx(graph, **options)"
      ],
      "metadata": {
        "colab": {
          "base_uri": "https://localhost:8080/",
          "height": 248
        },
        "id": "wVhcxEidkZAC",
        "outputId": "5d3de829-c462-4696-8698-cd2bbd69c85a"
      },
      "execution_count": null,
      "outputs": [
        {
          "output_type": "display_data",
          "data": {
            "image/png": "[encoded data removed]",
            "text/plain": [
              "<Figure size 432x288 with 1 Axes>"
            ]
          },
          "metadata": {}
        }
      ]
    },
    {
      "cell_type": "code",
      "source": [
        "print(\"Total number of graph nodes:\", graph.number_of_nodes())\n",
        "print(\"Total number of graph edges:\", graph.number_of_edges())"
      ],
      "metadata": {
        "colab": {
          "base_uri": "https://localhost:8080/"
        },
        "id": "sZKd1Ta-kY9I",
        "outputId": "faa6e40a-7dd4-494e-ecd1-9933ee70f23e"
      },
      "execution_count": null,
      "outputs": [
        {
          "output_type": "stream",
          "name": "stdout",
          "text": [
            "Total number of graph nodes: 203\n",
            "Total number of graph edges: 9904\n"
          ]
        }
      ]
    },
    {
      "cell_type": "code",
      "source": [
        "src = []\n",
        "dst = []\n",
        "for i, j in graph.edges:\n",
        "    src.append(i)\n",
        "    dst.append(j)"
      ],
      "metadata": {
        "id": "i8ZIbeZvkY4g"
      },
      "execution_count": null,
      "outputs": []
    },
    {
      "cell_type": "code",
      "source": [
        "anchor_nodes = [4, 120]\n",
        "\n",
        "degree = []\n",
        "clustering = []\n",
        "dst_anchor_1 = []\n",
        "dst_anchor_2 = []\n",
        "for node in graph.nodes:\n",
        "    degree.append(graph.degree(node))\n",
        "    clustering.append(nx.clustering(graph, node))\n",
        "    dst_anchor_1.append(nx.shortest_path_length(graph, source=node, target=anchor_nodes[0]))\n",
        "    dst_anchor_2.append(nx.shortest_path_length(graph, source=node, target=anchor_nodes[1]))\n",
        "features = pd.DataFrame({\"degree\": degree,\n",
        "                         \"clustering\": clustering,\n",
        "                         \"dst_anchor_1\": dst_anchor_1,\n",
        "                         \"dst_anchor_2\": dst_anchor_2})"
      ],
      "metadata": {
        "id": "G8SlldeyksxK"
      },
      "execution_count": null,
      "outputs": []
    },
    {
      "cell_type": "code",
      "source": [
        "features = features.reset_index()"
      ],
      "metadata": {
        "id": "RJKZURqxmvb9"
      },
      "execution_count": null,
      "outputs": []
    },
    {
      "cell_type": "code",
      "source": [
        "features[\"label\"] = features[\"index\"].apply(lambda x: x<graph.number_of_nodes()//2).astype(np.int32)\n",
        "features[\"train_mask\"] = False\n",
        "n_train = 40\n",
        "train_nodes = np.random.randint(0, features.shape[0]/2, n_train//2).tolist() + np.random.randint(features.shape[0]/2, features.shape[0], n_train//2).tolist()\n",
        "features.loc[train_nodes, \"train_mask\"] = True\n",
        "features[\"test_mask\"] = ~features[\"train_mask\"]\n",
        "features = features.sample(frac=1)"
      ],
      "metadata": {
        "id": "Kk2OYk5Fksvz"
      },
      "execution_count": null,
      "outputs": []
    },
    {
      "cell_type": "code",
      "source": [
        "features.head()"
      ],
      "metadata": {
        "colab": {
          "base_uri": "https://localhost:8080/",
          "height": 206
        },
        "id": "MOZztYdC1oM1",
        "outputId": "5f75da30-aa21-462a-abc6-64c0fe07e1cc"
      },
      "execution_count": null,
      "outputs": [
        {
          "output_type": "execute_result",
          "data": {
            "text/html": [
              "\n",
              "  <div id=\"df-9e721c9d-3e9d-4d09-8691-5135190aa4a5\">\n",
              "    <div class=\"colab-df-container\">\n",
              "      <div>\n",
              "<style scoped>\n",
              "    .dataframe tbody tr th:only-of-type {\n",
              "        vertical-align: middle;\n",
              "    }\n",
              "\n",
              "    .dataframe tbody tr th {\n",
              "        vertical-align: top;\n",
              "    }\n",
              "\n",
              "    .dataframe thead th {\n",
              "        text-align: right;\n",
              "    }\n",
              "</style>\n",
              "<table border=\"1\" class=\"dataframe\">\n",
              "  <thead>\n",
              "    <tr style=\"text-align: right;\">\n",
              "      <th></th>\n",
              "      <th>index</th>\n",
              "      <th>degree</th>\n",
              "      <th>clustering</th>\n",
              "      <th>dst_anchor_1</th>\n",
              "      <th>dst_anchor_2</th>\n",
              "      <th>label</th>\n",
              "      <th>train_mask</th>\n",
              "      <th>test_mask</th>\n",
              "    </tr>\n",
              "  </thead>\n",
              "  <tbody>\n",
              "    <tr>\n",
              "      <th>123</th>\n",
              "      <td>123</td>\n",
              "      <td>99</td>\n",
              "      <td>1.0000</td>\n",
              "      <td>6</td>\n",
              "      <td>1</td>\n",
              "      <td>0</td>\n",
              "      <td>True</td>\n",
              "      <td>False</td>\n",
              "    </tr>\n",
              "    <tr>\n",
              "      <th>129</th>\n",
              "      <td>129</td>\n",
              "      <td>99</td>\n",
              "      <td>1.0000</td>\n",
              "      <td>6</td>\n",
              "      <td>1</td>\n",
              "      <td>0</td>\n",
              "      <td>False</td>\n",
              "      <td>True</td>\n",
              "    </tr>\n",
              "    <tr>\n",
              "      <th>165</th>\n",
              "      <td>165</td>\n",
              "      <td>99</td>\n",
              "      <td>1.0000</td>\n",
              "      <td>6</td>\n",
              "      <td>1</td>\n",
              "      <td>0</td>\n",
              "      <td>False</td>\n",
              "      <td>True</td>\n",
              "    </tr>\n",
              "    <tr>\n",
              "      <th>136</th>\n",
              "      <td>136</td>\n",
              "      <td>99</td>\n",
              "      <td>1.0000</td>\n",
              "      <td>6</td>\n",
              "      <td>1</td>\n",
              "      <td>0</td>\n",
              "      <td>True</td>\n",
              "      <td>False</td>\n",
              "    </tr>\n",
              "    <tr>\n",
              "      <th>42</th>\n",
              "      <td>42</td>\n",
              "      <td>99</td>\n",
              "      <td>1.0000</td>\n",
              "      <td>1</td>\n",
              "      <td>6</td>\n",
              "      <td>1</td>\n",
              "      <td>False</td>\n",
              "      <td>True</td>\n",
              "    </tr>\n",
              "  </tbody>\n",
              "</table>\n",
              "</div>\n",
              "      <button class=\"colab-df-convert\" onclick=\"convertToInteractive('df-9e721c9d-3e9d-4d09-8691-5135190aa4a5')\"\n",
              "              title=\"Convert this dataframe to an interactive table.\"\n",
              "              style=\"display:none;\">\n",
              "        \n",
              "  <svg xmlns=\"http://www.w3.org/2000/svg\" height=\"24px\"viewBox=\"0 0 24 24\"\n",
              "       width=\"24px\">\n",
              "    <path d=\"M0 0h24v24H0V0z\" fill=\"none\"/>\n",
              "    <path d=\"M18.56 5.44l.94 2.06.94-2.06 2.06-.94-2.06-.94-.94-2.06-.94 2.06-2.06.94zm-11 1L8.5 8.5l.94-2.06 2.06-.94-2.06-.94L8.5 2.5l-.94 2.06-2.06.94zm10 10l.94 2.06.94-2.06 2.06-.94-2.06-.94-.94-2.06-.94 2.06-2.06.94z\"/><path d=\"M17.41 7.96l-1.37-1.37c-.4-.4-.92-.59-1.43-.59-.52 0-1.04.2-1.43.59L10.3 9.45l-7.72 7.72c-.78.78-.78 2.05 0 2.83L4 21.41c.39.39.9.59 1.41.59.51 0 1.02-.2 1.41-.59l7.78-7.78 2.81-2.81c.8-.78.8-2.07 0-2.86zM5.41 20L4 18.59l7.72-7.72 1.47 1.35L5.41 20z\"/>\n",
              "  </svg>\n",
              "      </button>\n",
              "      \n",
              "  <style>\n",
              "    .colab-df-container {\n",
              "      display:flex;\n",
              "      flex-wrap:wrap;\n",
              "      gap: 12px;\n",
              "    }\n",
              "\n",
              "    .colab-df-convert {\n",
              "      background-color: #E8F0FE;\n",
              "      border: none;\n",
              "      border-radius: 50%;\n",
              "      cursor: pointer;\n",
              "      display: none;\n",
              "      fill: #1967D2;\n",
              "      height: 32px;\n",
              "      padding: 0 0 0 0;\n",
              "      width: 32px;\n",
              "    }\n",
              "\n",
              "    .colab-df-convert:hover {\n",
              "      background-color: #E2EBFA;\n",
              "      box-shadow: 0px 1px 2px rgba(60, 64, 67, 0.3), 0px 1px 3px 1px rgba(60, 64, 67, 0.15);\n",
              "      fill: #174EA6;\n",
              "    }\n",
              "\n",
              "    [theme=dark] .colab-df-convert {\n",
              "      background-color: #3B4455;\n",
              "      fill: #D2E3FC;\n",
              "    }\n",
              "\n",
              "    [theme=dark] .colab-df-convert:hover {\n",
              "      background-color: #434B5C;\n",
              "      box-shadow: 0px 1px 3px 1px rgba(0, 0, 0, 0.15);\n",
              "      filter: drop-shadow(0px 1px 2px rgba(0, 0, 0, 0.3));\n",
              "      fill: #FFFFFF;\n",
              "    }\n",
              "  </style>\n",
              "\n",
              "      <script>\n",
              "        const buttonEl =\n",
              "          document.querySelector('#df-9e721c9d-3e9d-4d09-8691-5135190aa4a5 button.colab-df-convert');\n",
              "        buttonEl.style.display =\n",
              "          google.colab.kernel.accessAllowed ? 'block' : 'none';\n",
              "\n",
              "        async function convertToInteractive(key) {\n",
              "          const element = document.querySelector('#df-9e721c9d-3e9d-4d09-8691-5135190aa4a5');\n",
              "          const dataTable =\n",
              "            await google.colab.kernel.invokeFunction('convertToInteractive',\n",
              "                                                     [key], {});\n",
              "          if (!dataTable) return;\n",
              "\n",
              "          const docLinkHtml = 'Like what you see? Visit the ' +\n",
              "            '<a target=\"_blank\" href=https://colab.research.google.com/notebooks/data_table.ipynb>data table notebook</a>'\n",
              "            + ' to learn more about interactive tables.';\n",
              "          element.innerHTML = '';\n",
              "          dataTable['output_type'] = 'display_data';\n",
              "          await google.colab.output.renderOutput(dataTable, element);\n",
              "          const docLink = document.createElement('div');\n",
              "          docLink.innerHTML = docLinkHtml;\n",
              "          element.appendChild(docLink);\n",
              "        }\n",
              "      </script>\n",
              "    </div>\n",
              "  </div>\n",
              "  "
            ],
            "text/plain": [
              "     index  degree  clustering  dst_anchor_1  dst_anchor_2  label  train_mask  \\\n",
              "123    123      99      1.0000             6             1      0        True   \n",
              "129    129      99      1.0000             6             1      0       False   \n",
              "165    165      99      1.0000             6             1      0       False   \n",
              "136    136      99      1.0000             6             1      0        True   \n",
              "42      42      99      1.0000             1             6      1       False   \n",
              "\n",
              "     test_mask  \n",
              "123      False  \n",
              "129       True  \n",
              "165       True  \n",
              "136      False  \n",
              "42        True  "
            ]
          },
          "metadata": {},
          "execution_count": 12
        }
      ]
    },
    {
      "cell_type": "code",
      "source": [
        "features.sort_values(\"index\")"
      ],
      "metadata": {
        "colab": {
          "base_uri": "https://localhost:8080/",
          "height": 423
        },
        "id": "Ie_iow8wS1IO",
        "outputId": "57b1dfc4-70ee-4a7b-8609-0d1e33092389"
      },
      "execution_count": null,
      "outputs": [
        {
          "output_type": "execute_result",
          "data": {
            "text/html": [
              "\n",
              "  <div id=\"df-52bbfd76-fbc7-4e9c-8440-3aec86555c2f\">\n",
              "    <div class=\"colab-df-container\">\n",
              "      <div>\n",
              "<style scoped>\n",
              "    .dataframe tbody tr th:only-of-type {\n",
              "        vertical-align: middle;\n",
              "    }\n",
              "\n",
              "    .dataframe tbody tr th {\n",
              "        vertical-align: top;\n",
              "    }\n",
              "\n",
              "    .dataframe thead th {\n",
              "        text-align: right;\n",
              "    }\n",
              "</style>\n",
              "<table border=\"1\" class=\"dataframe\">\n",
              "  <thead>\n",
              "    <tr style=\"text-align: right;\">\n",
              "      <th></th>\n",
              "      <th>index</th>\n",
              "      <th>degree</th>\n",
              "      <th>clustering</th>\n",
              "      <th>dst_anchor_1</th>\n",
              "      <th>dst_anchor_2</th>\n",
              "      <th>label</th>\n",
              "      <th>train_mask</th>\n",
              "      <th>test_mask</th>\n",
              "    </tr>\n",
              "  </thead>\n",
              "  <tbody>\n",
              "    <tr>\n",
              "      <th>0</th>\n",
              "      <td>0</td>\n",
              "      <td>99</td>\n",
              "      <td>1.0000</td>\n",
              "      <td>1</td>\n",
              "      <td>6</td>\n",
              "      <td>1</td>\n",
              "      <td>False</td>\n",
              "      <td>True</td>\n",
              "    </tr>\n",
              "    <tr>\n",
              "      <th>1</th>\n",
              "      <td>1</td>\n",
              "      <td>99</td>\n",
              "      <td>1.0000</td>\n",
              "      <td>1</td>\n",
              "      <td>6</td>\n",
              "      <td>1</td>\n",
              "      <td>False</td>\n",
              "      <td>True</td>\n",
              "    </tr>\n",
              "    <tr>\n",
              "      <th>2</th>\n",
              "      <td>2</td>\n",
              "      <td>99</td>\n",
              "      <td>1.0000</td>\n",
              "      <td>1</td>\n",
              "      <td>6</td>\n",
              "      <td>1</td>\n",
              "      <td>False</td>\n",
              "      <td>True</td>\n",
              "    </tr>\n",
              "    <tr>\n",
              "      <th>3</th>\n",
              "      <td>3</td>\n",
              "      <td>99</td>\n",
              "      <td>1.0000</td>\n",
              "      <td>1</td>\n",
              "      <td>6</td>\n",
              "      <td>1</td>\n",
              "      <td>False</td>\n",
              "      <td>True</td>\n",
              "    </tr>\n",
              "    <tr>\n",
              "      <th>4</th>\n",
              "      <td>4</td>\n",
              "      <td>99</td>\n",
              "      <td>1.0000</td>\n",
              "      <td>0</td>\n",
              "      <td>6</td>\n",
              "      <td>1</td>\n",
              "      <td>False</td>\n",
              "      <td>True</td>\n",
              "    </tr>\n",
              "    <tr>\n",
              "      <th>...</th>\n",
              "      <td>...</td>\n",
              "      <td>...</td>\n",
              "      <td>...</td>\n",
              "      <td>...</td>\n",
              "      <td>...</td>\n",
              "      <td>...</td>\n",
              "      <td>...</td>\n",
              "      <td>...</td>\n",
              "    </tr>\n",
              "    <tr>\n",
              "      <th>198</th>\n",
              "      <td>198</td>\n",
              "      <td>99</td>\n",
              "      <td>1.0000</td>\n",
              "      <td>6</td>\n",
              "      <td>1</td>\n",
              "      <td>0</td>\n",
              "      <td>False</td>\n",
              "      <td>True</td>\n",
              "    </tr>\n",
              "    <tr>\n",
              "      <th>199</th>\n",
              "      <td>199</td>\n",
              "      <td>99</td>\n",
              "      <td>1.0000</td>\n",
              "      <td>6</td>\n",
              "      <td>1</td>\n",
              "      <td>0</td>\n",
              "      <td>True</td>\n",
              "      <td>False</td>\n",
              "    </tr>\n",
              "    <tr>\n",
              "      <th>200</th>\n",
              "      <td>200</td>\n",
              "      <td>99</td>\n",
              "      <td>1.0000</td>\n",
              "      <td>6</td>\n",
              "      <td>1</td>\n",
              "      <td>0</td>\n",
              "      <td>False</td>\n",
              "      <td>True</td>\n",
              "    </tr>\n",
              "    <tr>\n",
              "      <th>201</th>\n",
              "      <td>201</td>\n",
              "      <td>99</td>\n",
              "      <td>1.0000</td>\n",
              "      <td>6</td>\n",
              "      <td>1</td>\n",
              "      <td>0</td>\n",
              "      <td>False</td>\n",
              "      <td>True</td>\n",
              "    </tr>\n",
              "    <tr>\n",
              "      <th>202</th>\n",
              "      <td>202</td>\n",
              "      <td>99</td>\n",
              "      <td>1.0000</td>\n",
              "      <td>6</td>\n",
              "      <td>1</td>\n",
              "      <td>0</td>\n",
              "      <td>False</td>\n",
              "      <td>True</td>\n",
              "    </tr>\n",
              "  </tbody>\n",
              "</table>\n",
              "<p>203 rows × 8 columns</p>\n",
              "</div>\n",
              "      <button class=\"colab-df-convert\" onclick=\"convertToInteractive('df-52bbfd76-fbc7-4e9c-8440-3aec86555c2f')\"\n",
              "              title=\"Convert this dataframe to an interactive table.\"\n",
              "              style=\"display:none;\">\n",
              "        \n",
              "  <svg xmlns=\"http://www.w3.org/2000/svg\" height=\"24px\"viewBox=\"0 0 24 24\"\n",
              "       width=\"24px\">\n",
              "    <path d=\"M0 0h24v24H0V0z\" fill=\"none\"/>\n",
              "    <path d=\"M18.56 5.44l.94 2.06.94-2.06 2.06-.94-2.06-.94-.94-2.06-.94 2.06-2.06.94zm-11 1L8.5 8.5l.94-2.06 2.06-.94-2.06-.94L8.5 2.5l-.94 2.06-2.06.94zm10 10l.94 2.06.94-2.06 2.06-.94-2.06-.94-.94-2.06-.94 2.06-2.06.94z\"/><path d=\"M17.41 7.96l-1.37-1.37c-.4-.4-.92-.59-1.43-.59-.52 0-1.04.2-1.43.59L10.3 9.45l-7.72 7.72c-.78.78-.78 2.05 0 2.83L4 21.41c.39.39.9.59 1.41.59.51 0 1.02-.2 1.41-.59l7.78-7.78 2.81-2.81c.8-.78.8-2.07 0-2.86zM5.41 20L4 18.59l7.72-7.72 1.47 1.35L5.41 20z\"/>\n",
              "  </svg>\n",
              "      </button>\n",
              "      \n",
              "  <style>\n",
              "    .colab-df-container {\n",
              "      display:flex;\n",
              "      flex-wrap:wrap;\n",
              "      gap: 12px;\n",
              "    }\n",
              "\n",
              "    .colab-df-convert {\n",
              "      background-color: #E8F0FE;\n",
              "      border: none;\n",
              "      border-radius: 50%;\n",
              "      cursor: pointer;\n",
              "      display: none;\n",
              "      fill: #1967D2;\n",
              "      height: 32px;\n",
              "      padding: 0 0 0 0;\n",
              "      width: 32px;\n",
              "    }\n",
              "\n",
              "    .colab-df-convert:hover {\n",
              "      background-color: #E2EBFA;\n",
              "      box-shadow: 0px 1px 2px rgba(60, 64, 67, 0.3), 0px 1px 3px 1px rgba(60, 64, 67, 0.15);\n",
              "      fill: #174EA6;\n",
              "    }\n",
              "\n",
              "    [theme=dark] .colab-df-convert {\n",
              "      background-color: #3B4455;\n",
              "      fill: #D2E3FC;\n",
              "    }\n",
              "\n",
              "    [theme=dark] .colab-df-convert:hover {\n",
              "      background-color: #434B5C;\n",
              "      box-shadow: 0px 1px 3px 1px rgba(0, 0, 0, 0.15);\n",
              "      filter: drop-shadow(0px 1px 2px rgba(0, 0, 0, 0.3));\n",
              "      fill: #FFFFFF;\n",
              "    }\n",
              "  </style>\n",
              "\n",
              "      <script>\n",
              "        const buttonEl =\n",
              "          document.querySelector('#df-52bbfd76-fbc7-4e9c-8440-3aec86555c2f button.colab-df-convert');\n",
              "        buttonEl.style.display =\n",
              "          google.colab.kernel.accessAllowed ? 'block' : 'none';\n",
              "\n",
              "        async function convertToInteractive(key) {\n",
              "          const element = document.querySelector('#df-52bbfd76-fbc7-4e9c-8440-3aec86555c2f');\n",
              "          const dataTable =\n",
              "            await google.colab.kernel.invokeFunction('convertToInteractive',\n",
              "                                                     [key], {});\n",
              "          if (!dataTable) return;\n",
              "\n",
              "          const docLinkHtml = 'Like what you see? Visit the ' +\n",
              "            '<a target=\"_blank\" href=https://colab.research.google.com/notebooks/data_table.ipynb>data table notebook</a>'\n",
              "            + ' to learn more about interactive tables.';\n",
              "          element.innerHTML = '';\n",
              "          dataTable['output_type'] = 'display_data';\n",
              "          await google.colab.output.renderOutput(dataTable, element);\n",
              "          const docLink = document.createElement('div');\n",
              "          docLink.innerHTML = docLinkHtml;\n",
              "          element.appendChild(docLink);\n",
              "        }\n",
              "      </script>\n",
              "    </div>\n",
              "  </div>\n",
              "  "
            ],
            "text/plain": [
              "     index  degree  clustering  dst_anchor_1  dst_anchor_2  label  train_mask  \\\n",
              "0        0      99      1.0000             1             6      1       False   \n",
              "1        1      99      1.0000             1             6      1       False   \n",
              "2        2      99      1.0000             1             6      1       False   \n",
              "3        3      99      1.0000             1             6      1       False   \n",
              "4        4      99      1.0000             0             6      1       False   \n",
              "..     ...     ...         ...           ...           ...    ...         ...   \n",
              "198    198      99      1.0000             6             1      0       False   \n",
              "199    199      99      1.0000             6             1      0        True   \n",
              "200    200      99      1.0000             6             1      0       False   \n",
              "201    201      99      1.0000             6             1      0       False   \n",
              "202    202      99      1.0000             6             1      0       False   \n",
              "\n",
              "     test_mask  \n",
              "0         True  \n",
              "1         True  \n",
              "2         True  \n",
              "3         True  \n",
              "4         True  \n",
              "..         ...  \n",
              "198       True  \n",
              "199      False  \n",
              "200       True  \n",
              "201       True  \n",
              "202       True  \n",
              "\n",
              "[203 rows x 8 columns]"
            ]
          },
          "metadata": {},
          "execution_count": 13
        }
      ]
    },
    {
      "cell_type": "code",
      "source": [
        "features[\"train_mask\"].sum(), features[\"test_mask\"].sum()"
      ],
      "metadata": {
        "colab": {
          "base_uri": "https://localhost:8080/"
        },
        "id": "cLM-L0j1QTji",
        "outputId": "2d29ff94-1ae4-4a2c-c0e7-2f7bd2e8c1b0"
      },
      "execution_count": null,
      "outputs": [
        {
          "output_type": "execute_result",
          "data": {
            "text/plain": [
              "(37, 166)"
            ]
          },
          "metadata": {},
          "execution_count": 15
        }
      ]
    },
    {
      "cell_type": "code",
      "source": [
        "from torch_geometric.datasets import Planetoid\n",
        "\n",
        "dataset = Planetoid(root='/tmp/Cora', name='Cora')\n",
        "data = dataset[0]\n",
        "data.edge_index.dtype, data.x.dtype, data.y.dtype, data.train_mask.dtype"
      ],
      "metadata": {
        "colab": {
          "base_uri": "https://localhost:8080/"
        },
        "id": "X6HeF_p9Ci9Y",
        "outputId": "b40601fd-ee6d-4049-ba15-142d3ad6c049"
      },
      "execution_count": null,
      "outputs": [
        {
          "output_type": "stream",
          "name": "stderr",
          "text": [
            "Downloading https://github.com/kimiyoung/planetoid/raw/master/data/ind.cora.x\n",
            "Downloading https://github.com/kimiyoung/planetoid/raw/master/data/ind.cora.tx\n",
            "Downloading https://github.com/kimiyoung/planetoid/raw/master/data/ind.cora.allx\n",
            "Downloading https://github.com/kimiyoung/planetoid/raw/master/data/ind.cora.y\n",
            "Downloading https://github.com/kimiyoung/planetoid/raw/master/data/ind.cora.ty\n",
            "Downloading https://github.com/kimiyoung/planetoid/raw/master/data/ind.cora.ally\n",
            "Downloading https://github.com/kimiyoung/planetoid/raw/master/data/ind.cora.graph\n",
            "Downloading https://github.com/kimiyoung/planetoid/raw/master/data/ind.cora.test.index\n",
            "Processing...\n",
            "Done!\n"
          ]
        },
        {
          "output_type": "execute_result",
          "data": {
            "text/plain": [
              "(torch.int64, torch.float32, torch.int64, torch.bool)"
            ]
          },
          "metadata": {},
          "execution_count": 16
        }
      ]
    },
    {
      "cell_type": "code",
      "source": [
        "from torch_geometric.data import Data\n",
        "edge_index = torch.Tensor([src, dst]).to(torch.int64)\n",
        "data = Data(x=torch.Tensor(features[[\"degree\", \"clustering\", \"dst_anchor_1\", \"dst_anchor_2\"]].values),\n",
        "            edge_index=edge_index,\n",
        "            y=torch.Tensor(features[\"label\"].values).to(torch.int64),\n",
        "            train_mask=torch.Tensor(features[\"train_mask\"].values).to(torch.bool),\n",
        "            test_mask=torch.Tensor(features[\"test_mask\"].values).to(torch.bool))\n",
        "data"
      ],
      "metadata": {
        "id": "AxVP_-mPkstr",
        "colab": {
          "base_uri": "https://localhost:8080/"
        },
        "outputId": "5aa6182f-f03b-4338-bcbe-f6dbc0f08513"
      },
      "execution_count": null,
      "outputs": [
        {
          "output_type": "execute_result",
          "data": {
            "text/plain": [
              "Data(x=[203, 4], edge_index=[2, 9904], y=[203], train_mask=[203], test_mask=[203])"
            ]
          },
          "metadata": {},
          "execution_count": 17
        }
      ]
    },
    {
      "cell_type": "code",
      "source": [
        "data.edge_index.dtype, data.x.dtype, data.y.dtype, data.train_mask.dtype"
      ],
      "metadata": {
        "colab": {
          "base_uri": "https://localhost:8080/"
        },
        "id": "NTeDXg8yDArl",
        "outputId": "63206d18-0282-4cb7-a72f-c1751eb2dcc8"
      },
      "execution_count": null,
      "outputs": [
        {
          "output_type": "execute_result",
          "data": {
            "text/plain": [
              "(torch.int64, torch.float32, torch.int64, torch.bool)"
            ]
          },
          "metadata": {},
          "execution_count": 18
        }
      ]
    },
    {
      "cell_type": "code",
      "source": [
        "import torch_geometric.nn as pyg_nn\n",
        "import torch.nn as nn\n",
        "import torch.nn.functional as F \n",
        "from torch_geometric.nn import GATConv, GCNConv, SAGEConv\n",
        "from sklearn.metrics import accuracy_score\n",
        "import torch_geometric.utils as pyg_utils\n",
        "torch.manual_seed(123)\n",
        "import random\n",
        "random.seed(123)\n",
        "np.random.seed(123)"
      ],
      "metadata": {
        "id": "LXnbqX_Sksry"
      },
      "execution_count": null,
      "outputs": []
    },
    {
      "cell_type": "code",
      "source": [
        "class GNN(torch.nn.Module):\n",
        "    def __init__(self):\n",
        "        super(GNN, self).__init__()\n",
        "        self.hid = 16\n",
        "        self.in_head = 1\n",
        "        self.out_head = 1\n",
        "        hidden_dim = 4\n",
        "\n",
        "        self.lin1 = nn.Linear(in_features=data.x.shape[1], out_features=hidden_dim)\n",
        "        self.lin2 = nn.Linear(in_features=hidden_dim, out_features=1)\n",
        "        \n",
        "        self.conv1 = GATConv(in_channels=hidden_dim, out_channels=hidden_dim)\n",
        "        \n",
        "    def forward(self, x, edge_index):  \n",
        "        edge_index, _ = pyg_utils.add_self_loops(edge_index, num_nodes=x.size(0))              \n",
        "        x = self.lin1(x)\n",
        "        x = F.relu(x)\n",
        "        x = self.conv1(x, edge_index)\n",
        "        x = F.relu(x)\n",
        "        x = self.lin2(x)\n",
        "        \n",
        "        return torch.sigmoid(x)"
      ],
      "metadata": {
        "id": "sxvx4NW2ksp5"
      },
      "execution_count": null,
      "outputs": []
    },
    {
      "cell_type": "code",
      "source": [
        "model = GNN()\n",
        "def init_weights(m):\n",
        "    if isinstance(m, nn.Linear):\n",
        "        torch.nn.init.xavier_uniform(m.weight)\n",
        "        m.bias.data.fill_(0.01)\n",
        "\n",
        "model.apply(init_weights)\n",
        "model(data.x, data.edge_index).shape"
      ],
      "metadata": {
        "id": "ZshYfopdksoA",
        "colab": {
          "base_uri": "https://localhost:8080/"
        },
        "outputId": "aead8447-a836-447f-c873-07f89b94b3e0"
      },
      "execution_count": null,
      "outputs": [
        {
          "output_type": "stream",
          "name": "stderr",
          "text": [
            "/usr/local/lib/python3.7/dist-packages/ipykernel_launcher.py:4: UserWarning: nn.init.xavier_uniform is now deprecated in favor of nn.init.xavier_uniform_.\n",
            "  after removing the cwd from sys.path.\n"
          ]
        },
        {
          "output_type": "execute_result",
          "data": {
            "text/plain": [
              "torch.Size([203, 1])"
            ]
          },
          "metadata": {},
          "execution_count": 21
        }
      ]
    },
    {
      "cell_type": "code",
      "source": [
        "data.y[data.train_mask].shape"
      ],
      "metadata": {
        "colab": {
          "base_uri": "https://localhost:8080/"
        },
        "id": "tZ2AoVK6XOfC",
        "outputId": "fab9ca60-c0cf-4e5c-fa2d-d7f1e3042e49"
      },
      "execution_count": null,
      "outputs": [
        {
          "output_type": "execute_result",
          "data": {
            "text/plain": [
              "torch.Size([37])"
            ]
          },
          "metadata": {},
          "execution_count": 22
        }
      ]
    },
    {
      "cell_type": "code",
      "source": [
        "pred = model(data.x, data.edge_index)\n",
        "pred.shape\n",
        "(pred>0.5).to(torch.int64)\n",
        "criterion = nn.BCELoss()\n",
        "criterion(pred[data.train_mask].flatten(), data.y[data.train_mask].to(torch.float))\n"
      ],
      "metadata": {
        "colab": {
          "base_uri": "https://localhost:8080/"
        },
        "id": "ZAsHIlHsDsrR",
        "outputId": "939fec87-96ff-4720-fcdf-30fe5cbd9e69"
      },
      "execution_count": null,
      "outputs": [
        {
          "output_type": "execute_result",
          "data": {
            "text/plain": [
              "tensor(0.6933, grad_fn=<BinaryCrossEntropyBackward0>)"
            ]
          },
          "metadata": {},
          "execution_count": 23
        }
      ]
    },
    {
      "cell_type": "code",
      "source": [
        "from torch.nn.modules.loss import BCELoss\n",
        "from sklearn.metrics import accuracy_score\n",
        "model = GNN()\n",
        "# model.apply(init_weights)\n",
        "optimizer = torch.optim.Adam(model.parameters(), lr=0.01)\n",
        "scheduler = torch.optim.lr_scheduler.ReduceLROnPlateau(optimizer, mode='min', factor=0.9, patience=100, verbose=True)\n",
        "\n",
        "criterion = nn.BCELoss()\n",
        "def train():\n",
        "  model.train()\n",
        "  optimizer.zero_grad()\n",
        "  pred = model(data.x, data.edge_index)\n",
        "  loss = criterion(pred[data.train_mask].flatten(), data.y[data.train_mask].to(torch.float))\n",
        "  loss.backward()\n",
        "  optimizer.step()\n",
        "  # scheduler.step(loss)\n",
        "  train_correct = (pred[data.train_mask]>0.5).to(int).flatten() == data.y[data.train_mask]\n",
        "  train_acc = int(train_correct.sum()) / int(data.train_mask.sum())\n",
        "  return loss.item(), train_acc\n",
        "\n",
        "def test():\n",
        "  model.eval()\n",
        "  pred = model(data.x, data.edge_index)\n",
        "  test_correct = (pred[data.test_mask]>0.5).to(int).flatten() == data.y[data.test_mask]\n",
        "  test_acc = int(test_correct.sum()) / int(data.test_mask.sum())\n",
        "\n",
        "  # test_acc = accuracy_score(data.y[data.test_mask].numpy(), pred.argmax(dim=1)[data.test_mask].numpy())\n",
        "  return test_acc"
      ],
      "metadata": {
        "id": "SvZ6ofQw5Cg-"
      },
      "execution_count": null,
      "outputs": []
    },
    {
      "cell_type": "code",
      "source": [
        "for epoch in range(1, 5000):\n",
        "  output, acc = train()\n",
        "  if epoch % 100 == 0:\n",
        "    print(f\"epoch: {epoch:3d}, train_loss: {output:.4f}, train acc: {acc:.2f}, test_acc: {test():.2f}\")"
      ],
      "metadata": {
        "colab": {
          "base_uri": "https://localhost:8080/"
        },
        "id": "wfXdo0nD9dMT",
        "outputId": "d04074f8-03a2-4830-abed-2416f63333fa"
      },
      "execution_count": null,
      "outputs": [
        {
          "output_type": "stream",
          "name": "stdout",
          "text": [
            "epoch: 100, train_loss: 0.6583, train acc: 0.57, test_acc: 0.58\n",
            "epoch: 200, train_loss: 0.1118, train acc: 0.97, test_acc: 0.99\n",
            "epoch: 300, train_loss: 0.1064, train acc: 0.97, test_acc: 1.00\n",
            "epoch: 400, train_loss: 0.1059, train acc: 0.97, test_acc: 1.00\n",
            "epoch: 500, train_loss: 0.7146, train acc: 0.78, test_acc: 0.99\n",
            "epoch: 600, train_loss: 0.0086, train acc: 1.00, test_acc: 0.99\n",
            "epoch: 700, train_loss: 0.0058, train acc: 1.00, test_acc: 0.99\n",
            "epoch: 800, train_loss: 0.0042, train acc: 1.00, test_acc: 0.99\n",
            "epoch: 900, train_loss: 0.0032, train acc: 1.00, test_acc: 0.99\n",
            "epoch: 1000, train_loss: 0.0025, train acc: 1.00, test_acc: 0.99\n",
            "epoch: 1100, train_loss: 0.0020, train acc: 1.00, test_acc: 0.99\n",
            "epoch: 1200, train_loss: 0.0017, train acc: 1.00, test_acc: 0.99\n",
            "epoch: 1300, train_loss: 0.0014, train acc: 1.00, test_acc: 0.99\n",
            "epoch: 1400, train_loss: 0.0012, train acc: 1.00, test_acc: 0.99\n",
            "epoch: 1500, train_loss: 0.0010, train acc: 1.00, test_acc: 0.99\n",
            "epoch: 1600, train_loss: 0.0008, train acc: 1.00, test_acc: 0.99\n",
            "epoch: 1700, train_loss: 0.0007, train acc: 1.00, test_acc: 0.99\n",
            "epoch: 1800, train_loss: 0.0006, train acc: 1.00, test_acc: 0.99\n",
            "epoch: 1900, train_loss: 0.0006, train acc: 1.00, test_acc: 0.99\n",
            "epoch: 2000, train_loss: 0.0005, train acc: 1.00, test_acc: 0.99\n",
            "epoch: 2100, train_loss: 0.0004, train acc: 1.00, test_acc: 0.99\n",
            "epoch: 2200, train_loss: 0.0004, train acc: 1.00, test_acc: 0.99\n",
            "epoch: 2300, train_loss: 0.0004, train acc: 1.00, test_acc: 0.99\n",
            "epoch: 2400, train_loss: 0.0003, train acc: 1.00, test_acc: 0.99\n",
            "epoch: 2500, train_loss: 0.0003, train acc: 1.00, test_acc: 0.99\n",
            "epoch: 2600, train_loss: 0.0003, train acc: 1.00, test_acc: 0.99\n",
            "epoch: 2700, train_loss: 0.0002, train acc: 1.00, test_acc: 0.99\n",
            "epoch: 2800, train_loss: 0.0002, train acc: 1.00, test_acc: 0.99\n",
            "epoch: 2900, train_loss: 0.0002, train acc: 1.00, test_acc: 0.99\n",
            "epoch: 3000, train_loss: 0.0002, train acc: 1.00, test_acc: 0.99\n",
            "epoch: 3100, train_loss: 0.0002, train acc: 1.00, test_acc: 0.99\n",
            "epoch: 3200, train_loss: 0.0001, train acc: 1.00, test_acc: 0.99\n",
            "epoch: 3300, train_loss: 0.0001, train acc: 1.00, test_acc: 0.99\n",
            "epoch: 3400, train_loss: 0.0001, train acc: 1.00, test_acc: 0.99\n",
            "epoch: 3500, train_loss: 0.0001, train acc: 1.00, test_acc: 0.99\n",
            "epoch: 3600, train_loss: 0.0001, train acc: 1.00, test_acc: 0.99\n",
            "epoch: 3700, train_loss: 0.0001, train acc: 1.00, test_acc: 0.99\n",
            "epoch: 3800, train_loss: 0.0001, train acc: 1.00, test_acc: 0.99\n",
            "epoch: 3900, train_loss: 0.0001, train acc: 1.00, test_acc: 0.99\n",
            "epoch: 4000, train_loss: 0.0001, train acc: 1.00, test_acc: 0.99\n",
            "epoch: 4100, train_loss: 0.0001, train acc: 1.00, test_acc: 0.99\n",
            "epoch: 4200, train_loss: 0.0001, train acc: 1.00, test_acc: 0.99\n",
            "epoch: 4300, train_loss: 0.0001, train acc: 1.00, test_acc: 0.99\n",
            "epoch: 4400, train_loss: 0.0001, train acc: 1.00, test_acc: 0.99\n",
            "epoch: 4500, train_loss: 0.0001, train acc: 1.00, test_acc: 0.99\n",
            "epoch: 4600, train_loss: 0.0001, train acc: 1.00, test_acc: 0.99\n",
            "epoch: 4700, train_loss: 0.0000, train acc: 1.00, test_acc: 0.99\n",
            "epoch: 4800, train_loss: 0.0000, train acc: 1.00, test_acc: 0.99\n",
            "epoch: 4900, train_loss: 0.0000, train acc: 1.00, test_acc: 0.99\n"
          ]
        }
      ]
    },
    {
      "cell_type": "code",
      "source": [
        "data_correct = (model(data.x, data.edge_index)>0.5).to(int).flatten() == data.y\n",
        "int(data_correct.sum()) / len(data.y)"
      ],
      "metadata": {
        "id": "5KcCc4cWdFsD",
        "colab": {
          "base_uri": "https://localhost:8080/"
        },
        "outputId": "5a3cf2c7-7237-4b8e-cae0-b3d716ca3e7e"
      },
      "execution_count": null,
      "outputs": [
        {
          "output_type": "execute_result",
          "data": {
            "text/plain": [
              "0.9950738916256158"
            ]
          },
          "metadata": {},
          "execution_count": 26
        }
      ]
    },
    {
      "cell_type": "code",
      "source": [
        ""
      ],
      "metadata": {
        "id": "kMCmmHujdFp9"
      },
      "execution_count": null,
      "outputs": []
    },
    {
      "cell_type": "code",
      "source": [
        ""
      ],
      "metadata": {
        "id": "MfdJESp4cgyl"
      },
      "execution_count": null,
      "outputs": []
    },
    {
      "cell_type": "code",
      "source": [
        ""
      ],
      "metadata": {
        "id": "j1ylZ1EAcgwp"
      },
      "execution_count": null,
      "outputs": []
    },
    {
      "cell_type": "code",
      "source": [
        ""
      ],
      "metadata": {
        "id": "S1oK6-G3cgu0"
      },
      "execution_count": null,
      "outputs": []
    },
    {
      "cell_type": "code",
      "source": [
        "from torch_geometric.data import Data\n",
        "from torch_geometric.nn import GATConv\n",
        "from torch_geometric.datasets import Planetoid\n",
        "import torch_geometric.transforms as T\n",
        "\n",
        "import matplotlib.pyplot as plt\n",
        "\n",
        "name_data = 'Cora'\n",
        "dataset = Planetoid(root= '/tmp/' + name_data, name = name_data)\n",
        "dataset.transform = T.NormalizeFeatures()\n",
        "\n",
        "print(f\"Number of Classes in {name_data}:\", dataset.num_classes)\n",
        "print(f\"Number of Node Features in {name_data}:\", dataset.num_node_features)"
      ],
      "metadata": {
        "colab": {
          "base_uri": "https://localhost:8080/"
        },
        "id": "huI9IrTiV-x7",
        "outputId": "5f7b22fd-6b2a-4dbc-d11e-ab58f37f27b2"
      },
      "execution_count": null,
      "outputs": [
        {
          "output_type": "stream",
          "name": "stderr",
          "text": [
            "Downloading https://github.com/kimiyoung/planetoid/raw/master/data/ind.cora.x\n",
            "Downloading https://github.com/kimiyoung/planetoid/raw/master/data/ind.cora.tx\n",
            "Downloading https://github.com/kimiyoung/planetoid/raw/master/data/ind.cora.allx\n",
            "Downloading https://github.com/kimiyoung/planetoid/raw/master/data/ind.cora.y\n",
            "Downloading https://github.com/kimiyoung/planetoid/raw/master/data/ind.cora.ty\n",
            "Downloading https://github.com/kimiyoung/planetoid/raw/master/data/ind.cora.ally\n",
            "Downloading https://github.com/kimiyoung/planetoid/raw/master/data/ind.cora.graph\n",
            "Downloading https://github.com/kimiyoung/planetoid/raw/master/data/ind.cora.test.index\n"
          ]
        },
        {
          "output_type": "stream",
          "name": "stdout",
          "text": [
            "Number of Classes in Cora: 7\n",
            "Number of Node Features in Cora: 1433\n"
          ]
        },
        {
          "output_type": "stream",
          "name": "stderr",
          "text": [
            "Processing...\n",
            "Done!\n"
          ]
        }
      ]
    },
    {
      "cell_type": "code",
      "source": [
        "from torch_geometric.nn import GATConv\n",
        "class GAT(torch.nn.Module):\n",
        "    def __init__(self):\n",
        "        super(GAT, self).__init__()\n",
        "        self.hid = 8\n",
        "        self.in_head = 8\n",
        "        self.out_head = 1\n",
        "        \n",
        "        \n",
        "        self.conv1 = GATConv(dataset.num_features, self.hid, heads=self.in_head, dropout=0.6)\n",
        "        self.conv2 = GATConv(self.hid*self.in_head, dataset.num_classes, concat=False,\n",
        "                             heads=self.out_head, dropout=0.6)\n",
        "\n",
        "    def forward(self, data):\n",
        "        x, edge_index = data.x, data.edge_index\n",
        "                \n",
        "        x = F.dropout(x, p=0.6, training=self.training)\n",
        "        x = self.conv1(x, edge_index)\n",
        "        x = F.elu(x)\n",
        "        x = F.dropout(x, p=0.6, training=self.training)\n",
        "        x = self.conv2(x, edge_index)\n",
        "        \n",
        "        return F.log_softmax(x, dim=1)\n",
        "\n",
        "device = \"cpu\"\n",
        "\n",
        "model = GAT().to(device)\n",
        "data = dataset[0].to(device)\n",
        "\n",
        "optimizer = torch.optim.Adam(model.parameters(), lr=0.005, weight_decay=5e-4)\n",
        "\n",
        "model.train()\n",
        "for epoch in range(1000):\n",
        "    model.train()\n",
        "    optimizer.zero_grad()\n",
        "    out = model(data)\n",
        "    loss = F.nll_loss(out[data.train_mask], data.y[data.train_mask])\n",
        "    \n",
        "    if epoch%200 == 0:\n",
        "        print(loss)\n",
        "    \n",
        "    loss.backward()\n",
        "    optimizer.step()"
      ],
      "metadata": {
        "colab": {
          "base_uri": "https://localhost:8080/"
        },
        "id": "THXrVG5P9fj2",
        "outputId": "f47e4ea5-aa2e-4fec-ad1c-b6e0b4712ab9"
      },
      "execution_count": null,
      "outputs": [
        {
          "output_type": "stream",
          "name": "stdout",
          "text": [
            "tensor(1.9452, grad_fn=<NllLossBackward0>)\n",
            "tensor(0.6871, grad_fn=<NllLossBackward0>)\n",
            "tensor(0.6525, grad_fn=<NllLossBackward0>)\n",
            "tensor(0.6417, grad_fn=<NllLossBackward0>)\n",
            "tensor(0.5493, grad_fn=<NllLossBackward0>)\n"
          ]
        }
      ]
    },
    {
      "cell_type": "code",
      "source": [
        "torch.exp(model(data)).argmax(dim=1)"
      ],
      "metadata": {
        "colab": {
          "base_uri": "https://localhost:8080/"
        },
        "id": "1O70aggsanI7",
        "outputId": "bdfffd94-b5c2-4dae-9252-8e7468c48766"
      },
      "execution_count": null,
      "outputs": [
        {
          "output_type": "execute_result",
          "data": {
            "text/plain": [
              "tensor([3, 4, 3,  ..., 6, 3, 3])"
            ]
          },
          "metadata": {},
          "execution_count": 276
        }
      ]
    },
    {
      "cell_type": "code",
      "source": [
        "model.eval()\n",
        "_, pred = model(data).max(dim=1)\n",
        "correct = float(pred[data.test_mask].eq(data.y[data.test_mask]).sum().item())\n",
        "acc = correct / data.test_mask.sum().item()\n",
        "print('Accuracy: {:.4f}'.format(acc))"
      ],
      "metadata": {
        "colab": {
          "base_uri": "https://localhost:8080/"
        },
        "id": "rcwsTwaKbM3U",
        "outputId": "b324533e-582d-4ca6-aee3-c29dd9d0ec5d"
      },
      "execution_count": null,
      "outputs": [
        {
          "output_type": "stream",
          "name": "stdout",
          "text": [
            "Accuracy: 0.8150\n"
          ]
        }
      ]
    },
    {
      "cell_type": "code",
      "source": [
        ""
      ],
      "metadata": {
        "id": "Fzawo2olbMxt"
      },
      "execution_count": null,
      "outputs": []
    },
    {
      "cell_type": "code",
      "source": [
        "data.y.dtype, dataset[0].y.dtype"
      ],
      "metadata": {
        "colab": {
          "base_uri": "https://localhost:8080/"
        },
        "id": "8IRkgTCPaLae",
        "outputId": "0ebfce6e-9d98-4cfa-9eac-2bbd602389e0"
      },
      "execution_count": null,
      "outputs": [
        {
          "output_type": "execute_result",
          "data": {
            "text/plain": [
              "(torch.float32, torch.int64)"
            ]
          },
          "metadata": {},
          "execution_count": 314
        }
      ]
    },
    {
      "cell_type": "code",
      "source": [
        ""
      ],
      "metadata": {
        "id": "rrSPglLwaOZz"
      },
      "execution_count": null,
      "outputs": []
    }
  ]
}