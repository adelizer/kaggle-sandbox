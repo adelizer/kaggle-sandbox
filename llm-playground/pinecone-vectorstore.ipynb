{
 "cells": [
  {
   "cell_type": "markdown",
   "id": "c380c617-62f9-449e-ad72-b02c1adc5141",
   "metadata": {},
   "source": [
    "# Pinecone Vector Store"
   ]
  },
  {
   "cell_type": "code",
   "execution_count": 6,
   "id": "c2d17c8c-2de6-4540-ad7e-a3cf68f2f1b4",
   "metadata": {},
   "outputs": [],
   "source": [
    "import os\n",
    "from pinecone import Pinecone, ServerlessSpec, PodSpec\n",
    "\n",
    "pc = Pinecone(\n",
    "    api_key=os.environ.get(\"PINECONE_API_KEY\")\n",
    ")"
   ]
  },
  {
   "cell_type": "code",
   "execution_count": 7,
   "id": "27307435-43ef-4370-97fe-62b6acf1f829",
   "metadata": {},
   "outputs": [
    {
     "data": {
      "text/plain": [
       "{'indexes': []}"
      ]
     },
     "execution_count": 7,
     "metadata": {},
     "output_type": "execute_result"
    }
   ],
   "source": [
    "pc.list_indexes()"
   ]
  },
  {
   "cell_type": "code",
   "execution_count": 11,
   "id": "a0a66dea-f5a5-478c-aeb2-76e6055f27ad",
   "metadata": {},
   "outputs": [],
   "source": [
    "if \"quickstart-index\" not in pc.list_indexes().names():\n",
    "    pc.create_index(\n",
    "        name='quickstart-index', \n",
    "        dimension=1536, \n",
    "        metric='euclidean',\n",
    "        spec=ServerlessSpec(\n",
    "            cloud='aws',\n",
    "            region='us-east-1'\n",
    "        )\n",
    "    )"
   ]
  },
  {
   "cell_type": "code",
   "execution_count": 12,
   "id": "382cb272-55ff-4ce1-a05f-9ccb3e11ef07",
   "metadata": {},
   "outputs": [
    {
     "data": {
      "text/plain": [
       "{'indexes': [{'dimension': 1536,\n",
       "              'host': 'quickstart-index-es1tgmv.svc.aped-4627-b74a.pinecone.io',\n",
       "              'metric': 'euclidean',\n",
       "              'name': 'quickstart-index',\n",
       "              'spec': {'serverless': {'cloud': 'aws', 'region': 'us-east-1'}},\n",
       "              'status': {'ready': True, 'state': 'Ready'}}]}"
      ]
     },
     "execution_count": 12,
     "metadata": {},
     "output_type": "execute_result"
    }
   ],
   "source": [
    "pc.list_indexes()"
   ]
  },
  {
   "cell_type": "code",
   "execution_count": 14,
   "id": "5bb956f3-507e-43ce-930f-7ad71bd16805",
   "metadata": {},
   "outputs": [],
   "source": [
    "pinecone_index = pc.Index(\"quickstart-index\")"
   ]
  },
  {
   "cell_type": "code",
   "execution_count": 18,
   "id": "f987e503-c23d-4489-a538-c5d4a9e65537",
   "metadata": {},
   "outputs": [],
   "source": [
    "# pinecone_index.delete(delete_all=True)"
   ]
  },
  {
   "cell_type": "markdown",
   "id": "d44aba47-3245-48c4-b718-a76a944354c5",
   "metadata": {},
   "source": [
    "### Creating dummy data"
   ]
  },
  {
   "cell_type": "code",
   "execution_count": 19,
   "id": "7a75ae6e-ca8f-4162-bfc8-9b9a3e7a562f",
   "metadata": {},
   "outputs": [],
   "source": [
    "books = [\n",
    "    {\n",
    "        \"title\": \"To Kill a Mockingbird\",\n",
    "        \"author\": \"Harper Lee\",\n",
    "        \"content\": (\n",
    "            \"To Kill a Mockingbird is a novel by Harper Lee published in\"\n",
    "            \" 1960...\"\n",
    "        ),\n",
    "        \"year\": 1960,\n",
    "    },\n",
    "    {\n",
    "        \"title\": \"1984\",\n",
    "        \"author\": \"George Orwell\",\n",
    "        \"content\": (\n",
    "            \"1984 is a dystopian novel by George Orwell published in 1949...\"\n",
    "        ),\n",
    "        \"year\": 1949,\n",
    "    },\n",
    "    {\n",
    "        \"title\": \"The Great Gatsby\",\n",
    "        \"author\": \"F. Scott Fitzgerald\",\n",
    "        \"content\": (\n",
    "            \"The Great Gatsby is a novel by F. Scott Fitzgerald published in\"\n",
    "            \" 1925...\"\n",
    "        ),\n",
    "        \"year\": 1925,\n",
    "    },\n",
    "    {\n",
    "        \"title\": \"Pride and Prejudice\",\n",
    "        \"author\": \"Jane Austen\",\n",
    "        \"content\": (\n",
    "            \"Pride and Prejudice is a novel by Jane Austen published in\"\n",
    "            \" 1813...\"\n",
    "        ),\n",
    "        \"year\": 1813,\n",
    "    },\n",
    "]"
   ]
  },
  {
   "cell_type": "code",
   "execution_count": 20,
   "id": "d97a0f8a-c6bb-4056-b7dc-2d5f41798b67",
   "metadata": {},
   "outputs": [],
   "source": [
    "import uuid\n",
    "from llama_index.embeddings.openai import OpenAIEmbedding\n",
    "\n",
    "embed_model = OpenAIEmbedding()"
   ]
  },
  {
   "cell_type": "code",
   "execution_count": 21,
   "id": "0b5e6ffb-3ab0-42b9-9e39-7f1a1da77a78",
   "metadata": {},
   "outputs": [
    {
     "data": {
      "text/plain": [
       "{'upserted_count': 4}"
      ]
     },
     "execution_count": 21,
     "metadata": {},
     "output_type": "execute_result"
    }
   ],
   "source": [
    "entries = []\n",
    "for book in books:\n",
    "    vector = embed_model.get_text_embedding(book[\"content\"])\n",
    "    entries.append(\n",
    "        {\"id\": str(uuid.uuid4()), \"values\": vector, \"metadata\": book}\n",
    "    )\n",
    "pinecone_index.upsert(entries)"
   ]
  },
  {
   "cell_type": "markdown",
   "id": "c5bda519-7234-463e-898c-8ef61d151b28",
   "metadata": {},
   "source": [
    "### query existing store"
   ]
  },
  {
   "cell_type": "code",
   "execution_count": 22,
   "id": "2c7d86c6-8e4c-4e23-b3a7-e66d6ee57af6",
   "metadata": {},
   "outputs": [],
   "source": [
    "from llama_index.vector_stores.pinecone import PineconeVectorStore\n",
    "from llama_index.core import VectorStoreIndex\n",
    "from llama_index.core.response.pprint_utils import pprint_source_node"
   ]
  },
  {
   "cell_type": "code",
   "execution_count": 23,
   "id": "920711ae-988a-4289-8a51-f66d7ffbf9b0",
   "metadata": {},
   "outputs": [],
   "source": [
    "vector_store = PineconeVectorStore(\n",
    "    pinecone_index=pinecone_index, text_key=\"content\"\n",
    ")\n",
    "retriever = VectorStoreIndex.from_vector_store(vector_store).as_retriever(\n",
    "    similarity_top_k=1\n",
    ")"
   ]
  },
  {
   "cell_type": "code",
   "execution_count": 24,
   "id": "ca967e86-fa7c-4ee9-8f02-cf2b99a8be1c",
   "metadata": {},
   "outputs": [],
   "source": [
    "nodes = retriever.retrieve(\"What is that book about a bird again?\")"
   ]
  },
  {
   "cell_type": "code",
   "execution_count": 25,
   "id": "c1cf4a91-ad34-4356-8acf-7be7b3dc5ffb",
   "metadata": {},
   "outputs": [
    {
     "name": "stdout",
     "output_type": "stream",
     "text": [
      "Node ID: dd3ed042-07b4-4d24-b230-76dbaa6aaf44\n",
      "Similarity: 0.407682419\n",
      "Text: To Kill a Mockingbird is a novel by Harper Lee published in\n",
      "1960...\n"
     ]
    }
   ],
   "source": [
    "pprint_source_node(nodes[0])"
   ]
  },
  {
   "cell_type": "code",
   "execution_count": 26,
   "id": "37beed16-b1af-4816-9ec1-03edc7952dd5",
   "metadata": {},
   "outputs": [
    {
     "data": {
      "text/plain": [
       "{'author': 'Harper Lee', 'title': 'To Kill a Mockingbird', 'year': 1960.0}"
      ]
     },
     "execution_count": 26,
     "metadata": {},
     "output_type": "execute_result"
    }
   ],
   "source": [
    "nodes[0].node.metadata"
   ]
  },
  {
   "cell_type": "markdown",
   "id": "395790d8-50f4-482c-9bc0-72bdbf234f2b",
   "metadata": {},
   "source": [
    "### delete all data"
   ]
  },
  {
   "cell_type": "code",
   "execution_count": 27,
   "id": "8decc4ea-2f66-4259-963e-ce4e28ac480d",
   "metadata": {},
   "outputs": [
    {
     "data": {
      "text/plain": [
       "{}"
      ]
     },
     "execution_count": 27,
     "metadata": {},
     "output_type": "execute_result"
    }
   ],
   "source": [
    "pinecone_index.delete(delete_all=True)"
   ]
  }
 ],
 "metadata": {
  "kernelspec": {
   "display_name": "Python 3 (ipykernel)",
   "language": "python",
   "name": "python3"
  },
  "language_info": {
   "codemirror_mode": {
    "name": "ipython",
    "version": 3
   },
   "file_extension": ".py",
   "mimetype": "text/x-python",
   "name": "python",
   "nbconvert_exporter": "python",
   "pygments_lexer": "ipython3",
   "version": "3.9.6"
  }
 },
 "nbformat": 4,
 "nbformat_minor": 5
}
