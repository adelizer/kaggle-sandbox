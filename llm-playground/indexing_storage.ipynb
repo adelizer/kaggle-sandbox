{
 "cells": [
  {
   "cell_type": "markdown",
   "id": "1d7f6214-26be-4c11-83bd-de472fb38a4e",
   "metadata": {},
   "source": [
    "# Indexing & Storage"
   ]
  },
  {
   "cell_type": "code",
   "execution_count": 43,
   "id": "1f05a103-14de-45f2-a53b-ba5a5b480823",
   "metadata": {},
   "outputs": [
    {
     "name": "stderr",
     "output_type": "stream",
     "text": [
      "Loading files: 100%|████████████████████████████████████████████████████████████████████████████████████████████████████████████████████████████████| 1/1 [00:00<00:00, 391.84file/s]\n"
     ]
    },
    {
     "data": {
      "text/plain": [
       "1"
      ]
     },
     "execution_count": 43,
     "metadata": {},
     "output_type": "execute_result"
    }
   ],
   "source": [
    "# let's try to index documents\n",
    "from llama_index.readers.web import SimpleWebPageReader\n",
    "from llama_index.core import SimpleDirectoryReader\n",
    "from llama_index.core import Document\n",
    "from llama_index.llms.openai import OpenAI\n",
    "from llama_index.core import VectorStoreIndex\n",
    "\n",
    "documents = SimpleDirectoryReader(\"./data\").load_data(show_progress=True)\n",
    "len(documents)"
   ]
  },
  {
   "cell_type": "code",
   "execution_count": 31,
   "id": "2119b406-5de5-44df-ab8e-9ac619cadefc",
   "metadata": {},
   "outputs": [
    {
     "name": "stderr",
     "output_type": "stream",
     "text": [
      "Parsing nodes: 100%|███████████████████████████████████████████████████████████████████████████████████████████████████████████████████████████████████| 1/1 [00:00<00:00, 15.23it/s]\n",
      "Generating embeddings: 100%|█████████████████████████████████████████████████████████████████████████████████████████████████████████████████████████| 22/22 [00:00<00:00, 22.86it/s]\n"
     ]
    }
   ],
   "source": [
    "# At this point the nodes are created and embedded!! \n",
    "index = VectorStoreIndex.from_documents(documents, show_progress=True)"
   ]
  },
  {
   "cell_type": "code",
   "execution_count": 32,
   "id": "86179c54-23ac-415b-b238-f0a4053e553b",
   "metadata": {},
   "outputs": [
    {
     "data": {
      "text/plain": [
       "22"
      ]
     },
     "execution_count": 32,
     "metadata": {},
     "output_type": "execute_result"
    }
   ],
   "source": [
    "len(index.index_struct.nodes_dict)"
   ]
  },
  {
   "cell_type": "code",
   "execution_count": 23,
   "id": "71f4c940-9392-4289-b82c-766f661127b8",
   "metadata": {},
   "outputs": [
    {
     "data": {
      "text/plain": [
       "{'83da34ea-8c9c-43d2-9b5a-6e8ba175d167': RefDocInfo(node_ids=['a3a5a449-a298-4211-b5e6-ed8ad398f3b2', '8d5716d6-10ae-464b-b262-9e4f722244df', 'cb9d2071-1e8c-418d-9157-793f78398cc1', '563bff8b-b393-46b0-a21c-01ff42152a7a', 'bacf4a82-63ee-45df-adf9-9107d92ca743', '1624e574-33fa-466e-a7cc-5cfb89c165c4', 'f5c407df-6499-47c8-a5ea-02045ceab011', 'c74e9b4d-27d9-431f-9fb4-120715af8704', '83c39b5e-2287-4f34-b227-86c75311471f', '750c0ab3-abb4-40fd-b37f-ad3273793881', '8f65a55b-4d0a-4a27-ad3f-fdaa2d38b8f4', 'e3695cf9-45fa-44dc-a94e-7c5f78d6eb99', '96e62a20-b121-4429-9450-a83406ae50a4', '87a0e8b4-5e64-4248-910f-110b65008bcb', '6ecdbfaa-337a-4867-ab39-14e354e467bc', '42433f9c-4872-4e4c-bddf-578f825beb7b', 'bc4e69db-196f-40ff-8412-60602fe41cb1', '34d95582-fa42-44f1-8d75-2deeb225b7ba', '9025c393-c285-4b1a-9280-02aeab0d1a6c', '9cc00d2b-4765-45ff-8c9e-ad800319b970', 'e86a40c3-6fdd-4eda-9190-816fb7ad8fea', 'eca5fe5f-4335-4cd7-9758-48013092ac8d'], metadata={'file_path': '/Users/mohamedadelabdelhady/workspace/kaggle-sandbox/llm-playground/data/paul_graham_essay.txt', 'file_name': 'paul_graham_essay.txt', 'file_type': 'text/plain', 'file_size': 75041, 'creation_date': '2024-05-03', 'last_modified_date': '2024-05-02'})}"
      ]
     },
     "execution_count": 23,
     "metadata": {},
     "output_type": "execute_result"
    }
   ],
   "source": [
    "# we get a dict mapping of ingested documents and their nodes+metadata.\n",
    "index.ref_doc_info"
   ]
  },
  {
   "cell_type": "code",
   "execution_count": 25,
   "id": "b1d89030-f1c2-4e7c-8d62-7b697c685d59",
   "metadata": {},
   "outputs": [
    {
     "data": {
      "text/plain": [
       "'83da34ea-8c9c-43d2-9b5a-6e8ba175d167'"
      ]
     },
     "execution_count": 25,
     "metadata": {},
     "output_type": "execute_result"
    }
   ],
   "source": [
    "documents[0].id_"
   ]
  },
  {
   "cell_type": "code",
   "execution_count": 26,
   "id": "7ba7e6f0-e1d1-4867-9d7d-8d9217e71bef",
   "metadata": {},
   "outputs": [
    {
     "data": {
      "text/plain": [
       "TextNode(id_='a3a5a449-a298-4211-b5e6-ed8ad398f3b2', embedding=None, metadata={'file_path': '/Users/mohamedadelabdelhady/workspace/kaggle-sandbox/llm-playground/data/paul_graham_essay.txt', 'file_name': 'paul_graham_essay.txt', 'file_type': 'text/plain', 'file_size': 75041, 'creation_date': '2024-05-03', 'last_modified_date': '2024-05-02'}, excluded_embed_metadata_keys=['file_name', 'file_type', 'file_size', 'creation_date', 'last_modified_date', 'last_accessed_date'], excluded_llm_metadata_keys=['file_name', 'file_type', 'file_size', 'creation_date', 'last_modified_date', 'last_accessed_date'], relationships={<NodeRelationship.SOURCE: '1'>: RelatedNodeInfo(node_id='83da34ea-8c9c-43d2-9b5a-6e8ba175d167', node_type=<ObjectType.DOCUMENT: '4'>, metadata={'file_path': '/Users/mohamedadelabdelhady/workspace/kaggle-sandbox/llm-playground/data/paul_graham_essay.txt', 'file_name': 'paul_graham_essay.txt', 'file_type': 'text/plain', 'file_size': 75041, 'creation_date': '2024-05-03', 'last_modified_date': '2024-05-02'}, hash='782954b05a4b0c47727c7b4ea6cb70a46ebbc9682c409dcb0ff0ae335d94bed7'), <NodeRelationship.NEXT: '3'>: RelatedNodeInfo(node_id='8d5716d6-10ae-464b-b262-9e4f722244df', node_type=<ObjectType.TEXT: '1'>, metadata={}, hash='385569b09072ef6417168a265570a74d83f193a1e01c168e2038ad68f0ba5275')}, text='What I Worked On\\n\\nFebruary 2021\\n\\nBefore college the two main things I worked on, outside of school, were writing and programming. I didn\\'t write essays. I wrote what beginning writers were supposed to write then, and probably still are: short stories. My stories were awful. They had hardly any plot, just characters with strong feelings, which I imagined made them deep.\\n\\nThe first programs I tried writing were on the IBM 1401 that our school district used for what was then called \"data processing.\" This was in 9th grade, so I was 13 or 14. The school district\\'s 1401 happened to be in the basement of our junior high school, and my friend Rich Draves and I got permission to use it. It was like a mini Bond villain\\'s lair down there, with all these alien-looking machines — CPU, disk drives, printer, card reader — sitting up on a raised floor under bright fluorescent lights.\\n\\nThe language we used was an early version of Fortran. You had to type programs on punch cards, then stack them in the card reader and press a button to load the program into memory and run it. The result would ordinarily be to print something on the spectacularly loud printer.\\n\\nI was puzzled by the 1401. I couldn\\'t figure out what to do with it. And in retrospect there\\'s not much I could have done with it. The only form of input to programs was data stored on punched cards, and I didn\\'t have any data stored on punched cards. The only other option was to do things that didn\\'t rely on any input, like calculate approximations of pi, but I didn\\'t know enough math to do anything interesting of that type. So I\\'m not surprised I can\\'t remember any programs I wrote, because they can\\'t have done much. My clearest memory is of the moment I learned it was possible for programs not to terminate, when one of mine didn\\'t. On a machine without time-sharing, this was a social as well as a technical error, as the data center manager\\'s expression made clear.\\n\\nWith microcomputers, everything changed. Now you could have a computer sitting right in front of you, on a desk, that could respond to your keystrokes as it was running instead of just churning through a stack of punch cards and then stopping. [1]\\n\\nThe first of my friends to get a microcomputer built it himself. It was sold as a kit by Heathkit. I remember vividly how impressed and envious I felt watching him sitting in front of it, typing programs right into the computer.\\n\\nComputers were expensive in those days and it took me years of nagging before I convinced my father to buy one, a TRS-80, in about 1980. The gold standard then was the Apple II, but a TRS-80 was good enough. This was when I really started programming. I wrote simple games, a program to predict how high my model rockets would fly, and a word processor that my father used to write at least one book. There was only room in memory for about 2 pages of text, so he\\'d write 2 pages at a time and then print them out, but it was a lot better than a typewriter.\\n\\nThough I liked programming, I didn\\'t plan to study it in college. In college I was going to study philosophy, which sounded much more powerful. It seemed, to my naive high school self, to be the study of the ultimate truths, compared to which the things studied in other fields would be mere domain knowledge. What I discovered when I got to college was that the other fields took up so much of the space of ideas that there wasn\\'t much left for these supposed ultimate truths. All that seemed left for philosophy were edge cases that people in other fields felt could safely be ignored.\\n\\nI couldn\\'t have put this into words when I was 18. All I knew at the time was that I kept taking philosophy courses and they kept being boring. So I decided to switch to AI.\\n\\nAI was in the air in the mid 1980s, but there were two things especially that made me want to work on it: a novel by Heinlein called The Moon is a Harsh Mistress, which featured an intelligent computer called Mike, and a PBS documentary that showed Terry Winograd using SHRDLU. I haven\\'t tried rereading The Moon is a Harsh Mistress, so I don\\'t know how well it has aged, but when I read it I was drawn entirely into its world.', start_char_idx=2, end_char_idx=4172, text_template='{metadata_str}\\n\\n{content}', metadata_template='{key}: {value}', metadata_seperator='\\n')"
      ]
     },
     "execution_count": 26,
     "metadata": {},
     "output_type": "execute_result"
    }
   ],
   "source": [
    "index.docstore.get_node(\"a3a5a449-a298-4211-b5e6-ed8ad398f3b2\")"
   ]
  },
  {
   "cell_type": "code",
   "execution_count": null,
   "id": "7beb61b8-96f6-40d2-a7ef-37d21683e021",
   "metadata": {},
   "outputs": [],
   "source": []
  },
  {
   "cell_type": "markdown",
   "id": "98bedd78-f494-4812-bbda-5e27c1f94974",
   "metadata": {},
   "source": [
    "### Persisting the index to disk"
   ]
  },
  {
   "cell_type": "code",
   "execution_count": 40,
   "id": "bcf017a8-82b8-41a3-a9a0-1249f52d87ce",
   "metadata": {},
   "outputs": [],
   "source": [
    "# this will overwrite all the json files in storage\n",
    "index.storage_context.persist(persist_dir=\"./storage\")"
   ]
  },
  {
   "cell_type": "markdown",
   "id": "0a115290-cb63-4cb3-addc-0f21927ff41d",
   "metadata": {},
   "source": [
    "### Loading from disk"
   ]
  },
  {
   "cell_type": "code",
   "execution_count": 46,
   "id": "784cc3d7-c91e-4e07-9c57-9d1c9e6cc980",
   "metadata": {},
   "outputs": [],
   "source": [
    "from llama_index.core import StorageContext, load_index_from_storage\n",
    "\n",
    "storage_context = StorageContext.from_defaults(persist_dir=\"./storage\")\n",
    "index = load_index_from_storage(storage_context)"
   ]
  },
  {
   "cell_type": "code",
   "execution_count": 47,
   "id": "0b3a0235-479f-48b5-b8bf-b94cb6c03ca0",
   "metadata": {},
   "outputs": [
    {
     "data": {
      "text/plain": [
       "{'f9b3bf49-8018-41ac-9313-6cfc18491216': RefDocInfo(node_ids=['642e947c-4c86-48c6-956a-15fa83b7ac35', '10c9a4d3-2a1b-4fae-bc55-b31082c70aa6', 'b4721a92-cd08-44fc-8e3a-f137d037676d', 'd03763d2-7b94-4032-9321-11a8283cfe25', '7aea43e9-d7db-4d46-898c-c233b3954ce4', 'b994bc38-0b36-4ad5-b1d4-92690462a19b', '9735c4ac-0c08-4d7f-9d2d-32d26892290c', 'c15d950d-0527-4c10-a314-258ec3412740', '4e44d91c-d20b-4caf-8e06-2d28c647fa1d', '98e89a5e-219e-4020-a823-d848dafc5084', '1eb28048-bcab-45fd-8b44-bf75d6beb190', '5ce487d1-f359-4ad6-9884-5a8f908e88b3', '9b49fc59-1679-44d7-b76f-ee6490ef2ff7', '5e07f79e-1d90-445a-9234-34ec5740e1e0', '8498d5fb-093d-436c-ad2b-b6a47d86240a', 'c7f8260f-2d0a-42dd-8b3b-ea365c0ac647', '3e9d169f-e301-486e-8fa1-ce30ccd12d95', '928b1455-9f8d-4a1f-925d-19faa903685c', '1bea3f2d-5011-4f6a-8b8e-71bd2ed805d8', '29526681-8568-4743-b56c-6266f96bc337', '252bbb52-1328-46b1-ad74-b62968484fd1', '43528ae4-90f2-442f-a5f3-37a81c604c3b'], metadata={'file_path': '/Users/mohamedadelabdelhady/workspace/kaggle-sandbox/llm-playground/data/paul_graham_essay.txt', 'file_name': 'paul_graham_essay.txt', 'file_type': 'text/plain', 'file_size': 75041, 'creation_date': '2024-05-03', 'last_modified_date': '2024-05-02'})}"
      ]
     },
     "execution_count": 47,
     "metadata": {},
     "output_type": "execute_result"
    }
   ],
   "source": [
    "index.ref_doc_info"
   ]
  },
  {
   "cell_type": "code",
   "execution_count": 48,
   "id": "f89a6983-4c1d-4e0e-aa15-aefebf92d3af",
   "metadata": {},
   "outputs": [
    {
     "data": {
      "text/plain": [
       "'file_path: /Users/mohamedadelabdelhady/workspace/kaggle-sandbox/llm-playground/data/paul_graham_essay.txt\\nfile_name: paul_graham_essay.txt\\nfile_type: text/plain\\nfile_size: 75041\\ncreation_date: 2024-05-03\\nlast_modified_date: 2024-05-02\\n\\nWhat I Worked On\\n\\nFebruary 2021\\n\\nBefore college the two main things I worked on, outside of school, were writing and programming. I didn\\'t write essays. I wrote what beginning writers were supposed to write then, and probably still are: short stories. My stories were awful. They had hardly any plot, just characters with strong feelings, which I imagined made them deep.\\n\\nThe first programs I tried writing were on the IBM 1401 that our school district used for what was then called \"data processing.\" This was in 9th grade, so I was 13 or 14. The school district\\'s 1401 happened to be in the basement of our junior high school, and my friend Rich Draves and I got permission to use it. It was like a mini Bond villain\\'s lair down there, with all these alien-looking machines — CPU, disk drives, printer, card reader — sitting up on a raised floor under bright fluorescent lights.\\n\\nThe language we used was an early version of Fortran. You had to type programs on punch cards, then stack them in the card reader and press a button to load the program into memory and run it. The result would ordinarily be to print something on the spectacularly loud printer.\\n\\nI was puzzled by the 1401. I couldn\\'t figure out what to do with it. And in retrospect there\\'s not much I could have done with it. The only form of input to programs was data stored on punched cards, and I didn\\'t have any data stored on punched cards. The only other option was to do things that didn\\'t rely on any input, like calculate approximations of pi, but I didn\\'t know enough math to do anything interesting of that type. So I\\'m not surprised I can\\'t remember any programs I wrote, because they can\\'t have done much. My clearest memory is of the moment I learned it was possible for programs not to terminate, when one of mine didn\\'t. On a machine without time-sharing, this was a social as well as a technical error, as the data center manager\\'s expression made clear.\\n\\nWith microcomputers, everything changed. Now you could have a computer sitting right in front of you, on a desk, that could respond to your keystrokes as it was running instead of just churning through a stack of punch cards and then stopping. [1]\\n\\nThe first of my friends to get a microcomputer built it himself. It was sold as a kit by Heathkit. I remember vividly how impressed and envious I felt watching him sitting in front of it, typing programs right into the computer.\\n\\nComputers were expensive in those days and it took me years of nagging before I convinced my father to buy one, a TRS-80, in about 1980. The gold standard then was the Apple II, but a TRS-80 was good enough. This was when I really started programming. I wrote simple games, a program to predict how high my model rockets would fly, and a word processor that my father used to write at least one book. There was only room in memory for about 2 pages of text, so he\\'d write 2 pages at a time and then print them out, but it was a lot better than a typewriter.\\n\\nThough I liked programming, I didn\\'t plan to study it in college. In college I was going to study philosophy, which sounded much more powerful. It seemed, to my naive high school self, to be the study of the ultimate truths, compared to which the things studied in other fields would be mere domain knowledge. What I discovered when I got to college was that the other fields took up so much of the space of ideas that there wasn\\'t much left for these supposed ultimate truths. All that seemed left for philosophy were edge cases that people in other fields felt could safely be ignored.\\n\\nI couldn\\'t have put this into words when I was 18. All I knew at the time was that I kept taking philosophy courses and they kept being boring. So I decided to switch to AI.\\n\\nAI was in the air in the mid 1980s, but there were two things especially that made me want to work on it: a novel by Heinlein called The Moon is a Harsh Mistress, which featured an intelligent computer called Mike, and a PBS documentary that showed Terry Winograd using SHRDLU. I haven\\'t tried rereading The Moon is a Harsh Mistress, so I don\\'t know how well it has aged, but when I read it I was drawn entirely into its world.'"
      ]
     },
     "execution_count": 48,
     "metadata": {},
     "output_type": "execute_result"
    }
   ],
   "source": [
    "index.docstore.get_node(\"642e947c-4c86-48c6-956a-15fa83b7ac35\").get_content(metadata_mode=\"all\")"
   ]
  },
  {
   "cell_type": "code",
   "execution_count": null,
   "id": "4c20db51-0ff5-46a8-a6bd-45a9e014f9c0",
   "metadata": {},
   "outputs": [],
   "source": []
  },
  {
   "cell_type": "code",
   "execution_count": null,
   "id": "908dfef4-5f9e-491c-bcbc-2b77094155fe",
   "metadata": {},
   "outputs": [],
   "source": []
  },
  {
   "cell_type": "markdown",
   "id": "64e401db-f205-4ffd-9248-3acaf967d9ca",
   "metadata": {},
   "source": [
    "### Excluding certain metadata fields from Document"
   ]
  },
  {
   "cell_type": "code",
   "execution_count": 54,
   "id": "d486558e-cf7b-49a7-a174-281a76799dd8",
   "metadata": {},
   "outputs": [
    {
     "data": {
      "text/plain": [
       "'file_name: paul_graham_essay.txt\\nfile_type: text/plain\\nfile_size: 75041\\ncreation_date: 2024-05-03\\nlast_modified_date: 2024-05-02\\n\\nWhat I Worked On\\n\\nFebruary 2021\\n\\nBefore college the two main things I worked on, outside of school, were writing and programming. I didn\\'t write essays. I wrote what beginning writers were supposed to write then, and probably still are: short stories. My stories were awful. They had hardly any plot, just characters with strong feelings, which I imagined made them deep.\\n\\nThe first programs I tried writing were on the IBM 1401 that our school district used for what was then called \"data processing.\" This was in 9th grade, so I was 13 or 14. The school district\\'s 1401 happened to be in the basement of our junior high school, and my friend Rich Draves and I got permission to use it. It was like a mini Bond villain\\'s lair down there, with all these alien-looking machines — CPU, disk drives, printer, card reader — sitting up on a raised floor under bright fluorescent lights.\\n\\nThe language we used was an early version of Fortran. You had to type programs on punch cards, then stack them in the card reader and press a button to load the program into memory and run it. The result would ordinarily be to print something on the spectacularly loud printer.\\n\\nI was puzzled by the 1401. I couldn\\'t figure out what to do with it. And in retrospect there\\'s not much I could have done with it. The only form of input to programs was data stored on punched cards, and I didn\\'t have any data stored on punched cards. The only other option was to do things that didn\\'t rely on any input, like calculate approximations of pi, but I didn\\'t know enough math to do anything interesting of that type. So I\\'m not surprised I can\\'t remember any programs I wrote, because they can\\'t have done much. My clearest memory is of the moment I learned it was possible for programs not to terminate, when one of mine didn\\'t. On a machine without time-sharing, this was a social as well as a technical error, as the data center manager\\'s expression made clear.\\n\\nWith microcomputers, everything changed. Now you could have a computer sitting right in front of you, on a desk, that could respond to your keystrokes as it was running instead of just churning through a stack of punch cards and then stopping. [1]\\n\\nThe first of my friends to get a microcomputer built it himself. It was sold as a kit by Heathkit. I remember vividly how impressed and envious I felt watching him sitting in front of it, typing programs right into the computer.\\n\\nComputers were expensive in those days and it took me years of nagging before I convinced my father to buy one, a TRS-80, in about 1980. The gold standard then was the Apple II, but a TRS-80 was good enough. This was when I really started programming. I wrote simple games, a program to predict how high my model rockets would fly, and a word processor that my father used to write at least one book. There was only room in memory for about 2 pages of text, so he\\'d write 2 pages at a time and then print them out, but it was a lot better than a typewriter.\\n\\nThough I liked programming, I didn\\'t plan to study it in college. In college I was going to study philosophy, which sounded much more powerful. It seemed, to my naive high school self, to be the study of the ultimate truths, compared to which the things studied in other fields would be mere domain knowledge. What I discovered when I got to college was that the other fields took up so much of the space of ideas that there wasn\\'t much left for these supposed ultimate truths. All that seemed left for philosophy were edge cases that people in other fields felt could safely be ignored.\\n\\nI couldn\\'t have put this into words when I was 18. All I knew at the time was that I kept taking philosophy courses and they kept being boring. So I decided to switch to AI.\\n\\nAI was in the air in the mid 1980s, but there were two things especially that made me want to work on it: a novel by Heinlein called The Moon is a Harsh Mistress, which featured an intelligent computer called Mike, and a PBS documentary that showed Terry Winograd using SHRDLU. I haven\\'t tried rereading The Moon is a Harsh Mistress, so I don\\'t know how well it has aged, but when I read it I was drawn entirely into its world.'"
      ]
     },
     "execution_count": 54,
     "metadata": {},
     "output_type": "execute_result"
    }
   ],
   "source": [
    "from llama_index.core.node_parser import SimpleNodeParser\n",
    "\n",
    "documents = SimpleDirectoryReader(\"./data\").load_data()\n",
    "# uncomment this to see the excluded filepath\n",
    "for document in documents:\n",
    "    document.excluded_embed_metadata_keys = [\"file_path\"]\n",
    "\n",
    "node_parser = SimpleNodeParser.from_defaults()\n",
    "nodes = node_parser.get_nodes_from_documents(documents)\n",
    "nodes[0].get_content(metadata_mode=\"embed\")"
   ]
  },
  {
   "cell_type": "code",
   "execution_count": null,
   "id": "480e8154-d7b6-4112-a6c5-86cd8529e245",
   "metadata": {},
   "outputs": [],
   "source": []
  }
 ],
 "metadata": {
  "kernelspec": {
   "display_name": "Python 3 (ipykernel)",
   "language": "python",
   "name": "python3"
  },
  "language_info": {
   "codemirror_mode": {
    "name": "ipython",
    "version": 3
   },
   "file_extension": ".py",
   "mimetype": "text/x-python",
   "name": "python",
   "nbconvert_exporter": "python",
   "pygments_lexer": "ipython3",
   "version": "3.9.6"
  }
 },
 "nbformat": 4,
 "nbformat_minor": 5
}
