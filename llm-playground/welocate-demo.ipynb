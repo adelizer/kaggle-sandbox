{
 "cells": [
  {
   "cell_type": "markdown",
   "id": "3a7972fb-369f-4256-8dc6-b65d44aacd94",
   "metadata": {},
   "source": [
    "# Welocate demo"
   ]
  },
  {
   "cell_type": "markdown",
   "id": "6596fa6f-3339-4e72-93f2-8c4a94d5950c",
   "metadata": {},
   "source": [
    "#"
   ]
  },
  {
   "cell_type": "code",
   "execution_count": 23,
   "id": "92377036-5882-407e-871f-731ef7918678",
   "metadata": {},
   "outputs": [
    {
     "name": "stderr",
     "output_type": "stream",
     "text": [
      "Ignoring wrong pointing object 34 0 (offset 0)\n"
     ]
    }
   ],
   "source": [
    "# Ingest documents from multiple sources \n",
    "import uuid\n",
    "from llama_index.core import Document, SimpleDirectoryReader\n",
    "from llama_index.readers.web import SimpleWebPageReader\n",
    "\n",
    "documents = SimpleDirectoryReader(\"./welocate-data\").load_data()\n",
    "# documents += [Document(text=\"The simplest way to store your indexed data is to use the built-in .persist() method of every Index, which writes all the data to disk at the location specified. This works for any type of index.\",\n",
    "#                       doc_id=str(uuid.uuid4()),\n",
    "#                       metadata={\"foo\": \"bar\", \"category\": \"documentation\"}, # metadata will propagate to the nodes\n",
    "#                       excluded_llm_metadata_keys=[\"foo\"] # some keys could be excluded from the text_content()\n",
    "#                       )]\n",
    "\n",
    "welocate_urls = [\n",
    "    \"https://welocate.com/\",\n",
    "    \"https://welocate.com/buying_a_house_in_the_netherlands.aspx\",\n",
    "    \"https://welocate.com/selling_your_house_in_the_netherlands.aspx\",\n",
    "    \"https://welocate.com/renting_out_a_property_in_the_netherlands.aspx\",\n",
    "    \"https://welocate.com/renting_a_property_in_the_netherlands.aspx\",\n",
    "    \"https://welocate.com/properties_for_rent.aspx\",\n",
    "    \"https://welocate.com/relocating_to_the_netherlands.aspx\",\n",
    "    \"https://welocate.com/about_welocate.aspx\",\n",
    "]\n",
    "documents += SimpleWebPageReader(html_to_text=True).load_data(urls=welocate_urls)"
   ]
  },
  {
   "cell_type": "code",
   "execution_count": 24,
   "id": "d94701d4-cd57-4a35-b095-f4b5ff91336d",
   "metadata": {},
   "outputs": [
    {
     "data": {
      "text/plain": [
       "12"
      ]
     },
     "execution_count": 24,
     "metadata": {},
     "output_type": "execute_result"
    }
   ],
   "source": [
    "len(documents)"
   ]
  },
  {
   "cell_type": "code",
   "execution_count": 27,
   "id": "333f45f2-beb2-4a21-b7c9-416aaba82509",
   "metadata": {},
   "outputs": [
    {
     "name": "stdout",
     "output_type": "stream",
     "text": [
      "file:  WelocateHomeBuyersPlan_ABN.pdf\n",
      "file:  WelocateHomeBuyersPlan_ABN.pdf\n",
      "file:  WelocateHomeSellersPlan.pdf\n",
      "file:  WelocateHomeSellersPlan.pdf\n",
      "link:  https://welocate.com/\n",
      "link:  https://welocate.com/buying_a_house_in_the_netherlands.aspx\n",
      "link:  https://welocate.com/selling_your_house_in_the_netherlands.aspx\n",
      "link:  https://welocate.com/renting_out_a_property_in_the_netherlands.aspx\n",
      "link:  https://welocate.com/renting_a_property_in_the_netherlands.aspx\n",
      "link:  https://welocate.com/properties_for_rent.aspx\n",
      "link:  https://welocate.com/relocating_to_the_netherlands.aspx\n",
      "link:  https://welocate.com/about_welocate.aspx\n"
     ]
    }
   ],
   "source": [
    "for doc in documents:\n",
    "    if doc.id_.startswith(\"https://welocate.com/\"):\n",
    "        print(\"link: \", doc.id_)\n",
    "        doc.metadata[\"access_link\"] = doc.id_\n",
    "    else:\n",
    "        print(\"file: \", doc.metadata[\"file_name\"])\n",
    "        doc.metadata[\"access_link\"] = doc.metadata[\"file_name\"]"
   ]
  },
  {
   "cell_type": "code",
   "execution_count": 28,
   "id": "d4d0ec95-af25-4d1f-b0b1-b6d2b65b4ce5",
   "metadata": {},
   "outputs": [
    {
     "name": "stdout",
     "output_type": "stream",
     "text": [
      "WelocateHomeBuyersPlan_ABN.pdf\n",
      "WelocateHomeBuyersPlan_ABN.pdf\n",
      "WelocateHomeSellersPlan.pdf\n",
      "WelocateHomeSellersPlan.pdf\n",
      "https://welocate.com/\n",
      "https://welocate.com/buying_a_house_in_the_netherlands.aspx\n",
      "https://welocate.com/selling_your_house_in_the_netherlands.aspx\n",
      "https://welocate.com/renting_out_a_property_in_the_netherlands.aspx\n",
      "https://welocate.com/renting_a_property_in_the_netherlands.aspx\n",
      "https://welocate.com/properties_for_rent.aspx\n",
      "https://welocate.com/relocating_to_the_netherlands.aspx\n",
      "https://welocate.com/about_welocate.aspx\n"
     ]
    }
   ],
   "source": [
    "for doc in documents: \n",
    "    print(doc.metadata[\"access_link\"])"
   ]
  },
  {
   "cell_type": "markdown",
   "id": "83c2b171-903f-4078-9df5-4902f3ac274e",
   "metadata": {},
   "source": [
    "### Transformation"
   ]
  },
  {
   "cell_type": "code",
   "execution_count": 29,
   "id": "bf25072e-82f8-452f-8803-7d098a557645",
   "metadata": {},
   "outputs": [
    {
     "name": "stdout",
     "output_type": "stream",
     "text": [
      "39\n"
     ]
    }
   ],
   "source": [
    "# Creating nodes/chunks \n",
    "from llama_index.core.node_parser import SimpleNodeParser, SentenceSplitter, TokenTextSplitter, TextSplitter\n",
    "from llama_index.core.ingestion import IngestionPipeline\n",
    "\n",
    "# creating text nodes\n",
    "parser = SimpleNodeParser.from_defaults()\n",
    "nodes = parser.get_nodes_from_documents(documents)\n",
    "print(len(nodes))"
   ]
  },
  {
   "cell_type": "code",
   "execution_count": 30,
   "id": "3b8c3876-3d7f-47aa-937b-f95b2ed7e617",
   "metadata": {},
   "outputs": [
    {
     "name": "stdout",
     "output_type": "stream",
     "text": [
      "39\n"
     ]
    }
   ],
   "source": [
    "# using a different splitter -> this will create different number of nodes\n",
    "text_splitter = SentenceSplitter(chunk_size=1024, chunk_overlap=20)\n",
    "pipeline = IngestionPipeline(transformations=[text_splitter])\n",
    "nodes = pipeline.run(documents=documents)\n",
    "print(len(nodes))"
   ]
  },
  {
   "cell_type": "code",
   "execution_count": 17,
   "id": "f56a59e5-4b63-4ea9-8f83-3cfc55ab3620",
   "metadata": {},
   "outputs": [],
   "source": [
    "# [n.metadata.keys() for n in nodes]"
   ]
  },
  {
   "cell_type": "code",
   "execution_count": 31,
   "id": "d5855376-6b0b-4be1-a3d6-22b69b53a23c",
   "metadata": {},
   "outputs": [
    {
     "name": "stderr",
     "output_type": "stream",
     "text": [
      "100%|█████████████████████████████████████████████████████████████████████████████████████████████████████████████████████████████████████████████████████████████████████████████████████████████████████████████████████████████████████████████████████████████████████████████████████| 2/2 [00:01<00:00,  1.77it/s]\n",
      "100%|█████████████████████████████████████████████████████████████████████████████████████████████████████████████████████████████████████████████████████████████████████████████████████████████████████████████████████████████████████████████████████████████████████████████████████| 1/1 [00:01<00:00,  1.04s/it]\n",
      "100%|█████████████████████████████████████████████████████████████████████████████████████████████████████████████████████████████████████████████████████████████████████████████████████████████████████████████████████████████████████████████████████████████████████████████████████| 1/1 [00:00<00:00,  1.09it/s]\n",
      "100%|█████████████████████████████████████████████████████████████████████████████████████████████████████████████████████████████████████████████████████████████████████████████████████████████████████████████████████████████████████████████████████████████████████████████████████| 1/1 [00:01<00:00,  1.02s/it]\n",
      "100%|█████████████████████████████████████████████████████████████████████████████████████████████████████████████████████████████████████████████████████████████████████████████████████████████████████████████████████████████████████████████████████████████████████████████████████| 1/1 [00:00<00:00,  1.28it/s]\n",
      "100%|█████████████████████████████████████████████████████████████████████████████████████████████████████████████████████████████████████████████████████████████████████████████████████████████████████████████████████████████████████████████████████████████████████████████████████| 3/3 [00:01<00:00,  2.90it/s]\n",
      "100%|█████████████████████████████████████████████████████████████████████████████████████████████████████████████████████████████████████████████████████████████████████████████████████████████████████████████████████████████████████████████████████████████████████████████████████| 2/2 [00:00<00:00,  2.39it/s]\n",
      "100%|█████████████████████████████████████████████████████████████████████████████████████████████████████████████████████████████████████████████████████████████████████████████████████████████████████████████████████████████████████████████████████████████████████████████████████| 3/3 [00:00<00:00,  3.18it/s]\n",
      "100%|█████████████████████████████████████████████████████████████████████████████████████████████████████████████████████████████████████████████████████████████████████████████████████████████████████████████████████████████████████████████████████████████████████████████████████| 3/3 [00:01<00:00,  2.58it/s]\n",
      "100%|█████████████████████████████████████████████████████████████████████████████████████████████████████████████████████████████████████████████████████████████████████████████████████████████████████████████████████████████████████████████████████████████████████████████████████| 5/5 [00:01<00:00,  4.49it/s]\n",
      "100%|█████████████████████████████████████████████████████████████████████████████████████████████████████████████████████████████████████████████████████████████████████████████████████████████████████████████████████████████████████████████████████████████████████████████████████| 2/2 [00:00<00:00,  2.43it/s]\n",
      "100%|█████████████████████████████████████████████████████████████████████████████████████████████████████████████████████████████████████████████████████████████████████████████████████████████████████████████████████████████████████████████████████████████████████████████████████| 1/1 [00:00<00:00,  1.55it/s]\n",
      "100%|███████████████████████████████████████████████████████████████████████████████████████████████████████████████████████████████████████████████████████████████████████████████████████████████████████████████████████████████████████████████████████████████████████████████████| 39/39 [00:08<00:00,  4.57it/s]\n"
     ]
    }
   ],
   "source": [
    "# creating nodes with automatic metadata extraction\n",
    "# here we need to start making API requests to an LLM\n",
    "# you NEED to set the OPENAI_API_KEY env variable \n",
    "import nest_asyncio\n",
    "\n",
    "nest_asyncio.apply()\n",
    "\n",
    "from llama_index.core.extractors import TitleExtractor, KeywordExtractor\n",
    "from llama_index.core.schema import MetadataMode\n",
    "from llama_index.llms.openai import OpenAI\n",
    "llm = OpenAI(model=\"gpt-3.5-turbo\", temperature=0.1)\n",
    "\n",
    "enrich_metadata_pipeline = IngestionPipeline(transformations=[SentenceSplitter(chunk_size=1024, chunk_overlap=20),\n",
    "                                                              TitleExtractor(llm=llm, metadata_mode=MetadataMode.EMBED),\n",
    "                                                              KeywordExtractor(llm=llm, metadata_mode=MetadataMode.EMBED),\n",
    "                                                             ])\n",
    "nodes = enrich_metadata_pipeline.run(documents=documents)"
   ]
  },
  {
   "cell_type": "code",
   "execution_count": 32,
   "id": "8ed67888-2e38-4e5c-9013-6ac97861f9e9",
   "metadata": {},
   "outputs": [
    {
     "data": {
      "text/plain": [
       "[dict_keys(['page_label', 'file_name', 'file_path', 'file_type', 'file_size', 'creation_date', 'last_modified_date', 'access_link', 'document_title', 'excerpt_keywords']),\n",
       " dict_keys(['page_label', 'file_name', 'file_path', 'file_type', 'file_size', 'creation_date', 'last_modified_date', 'access_link', 'document_title', 'excerpt_keywords']),\n",
       " dict_keys(['page_label', 'file_name', 'file_path', 'file_type', 'file_size', 'creation_date', 'last_modified_date', 'access_link', 'document_title', 'excerpt_keywords']),\n",
       " dict_keys(['page_label', 'file_name', 'file_path', 'file_type', 'file_size', 'creation_date', 'last_modified_date', 'access_link', 'document_title', 'excerpt_keywords']),\n",
       " dict_keys(['page_label', 'file_name', 'file_path', 'file_type', 'file_size', 'creation_date', 'last_modified_date', 'access_link', 'document_title', 'excerpt_keywords']),\n",
       " dict_keys(['access_link', 'document_title', 'excerpt_keywords']),\n",
       " dict_keys(['access_link', 'document_title', 'excerpt_keywords']),\n",
       " dict_keys(['access_link', 'document_title', 'excerpt_keywords']),\n",
       " dict_keys(['access_link', 'document_title', 'excerpt_keywords']),\n",
       " dict_keys(['access_link', 'document_title', 'excerpt_keywords']),\n",
       " dict_keys(['access_link', 'document_title', 'excerpt_keywords']),\n",
       " dict_keys(['access_link', 'document_title', 'excerpt_keywords']),\n",
       " dict_keys(['access_link', 'document_title', 'excerpt_keywords']),\n",
       " dict_keys(['access_link', 'document_title', 'excerpt_keywords']),\n",
       " dict_keys(['access_link', 'document_title', 'excerpt_keywords']),\n",
       " dict_keys(['access_link', 'document_title', 'excerpt_keywords']),\n",
       " dict_keys(['access_link', 'document_title', 'excerpt_keywords']),\n",
       " dict_keys(['access_link', 'document_title', 'excerpt_keywords']),\n",
       " dict_keys(['access_link', 'document_title', 'excerpt_keywords']),\n",
       " dict_keys(['access_link', 'document_title', 'excerpt_keywords']),\n",
       " dict_keys(['access_link', 'document_title', 'excerpt_keywords']),\n",
       " dict_keys(['access_link', 'document_title', 'excerpt_keywords']),\n",
       " dict_keys(['access_link', 'document_title', 'excerpt_keywords']),\n",
       " dict_keys(['access_link', 'document_title', 'excerpt_keywords']),\n",
       " dict_keys(['access_link', 'document_title', 'excerpt_keywords']),\n",
       " dict_keys(['access_link', 'document_title', 'excerpt_keywords']),\n",
       " dict_keys(['access_link', 'document_title', 'excerpt_keywords']),\n",
       " dict_keys(['access_link', 'document_title', 'excerpt_keywords']),\n",
       " dict_keys(['access_link', 'document_title', 'excerpt_keywords']),\n",
       " dict_keys(['access_link', 'document_title', 'excerpt_keywords']),\n",
       " dict_keys(['access_link', 'document_title', 'excerpt_keywords']),\n",
       " dict_keys(['access_link', 'document_title', 'excerpt_keywords']),\n",
       " dict_keys(['access_link', 'document_title', 'excerpt_keywords']),\n",
       " dict_keys(['access_link', 'document_title', 'excerpt_keywords']),\n",
       " dict_keys(['access_link', 'document_title', 'excerpt_keywords']),\n",
       " dict_keys(['access_link', 'document_title', 'excerpt_keywords']),\n",
       " dict_keys(['access_link', 'document_title', 'excerpt_keywords']),\n",
       " dict_keys(['access_link', 'document_title', 'excerpt_keywords']),\n",
       " dict_keys(['access_link', 'document_title', 'excerpt_keywords'])]"
      ]
     },
     "execution_count": 32,
     "metadata": {},
     "output_type": "execute_result"
    }
   ],
   "source": [
    "[n.metadata.keys() for n in nodes]"
   ]
  },
  {
   "cell_type": "code",
   "execution_count": 33,
   "id": "990a274e-fcc0-45f9-831c-28b73635ee46",
   "metadata": {},
   "outputs": [
    {
     "data": {
      "text/plain": [
       "['Home Buyers Plan, Purchase contract, Construction check, Appraisal, Notary',\n",
       " 'Home Buying, Planning, Negotiations, Real Estate, Property Ownership',\n",
       " 'Real-estate agent, Construction report, Appraisal report, Notarial deeds, Home Buyers Plan',\n",
       " 'Home Sellers Plan, Real Estate Agent, Selling Process, Presentation, Negotiations',\n",
       " 'selling plan, expert support, hassle-free process, home sellers, presentation',\n",
       " 'Real Estate Services, Netherlands, Buying, Selling, Renting',\n",
       " 'Home Buying Services, Netherlands, Expats, Complete Package, Real Estate Agent',\n",
       " 'appraisal report, notary, real-estate agent, construction report, home buying services',\n",
       " 'Home buying services, Netherlands, Comprehensive package, Real estate agent, Notary',\n",
       " 'Welocate, Home Sellers Plan, Netherlands, Real-estate agent, Selling house',\n",
       " 'Netherlands, Selling, House, Welocate, Home Sellers Plan',\n",
       " 'Welocate, Landlord Rental Plan, renting out, Netherlands, property',\n",
       " 'Landlord Rental Plan, Property advertising, Tenant screening, Contract preparation, Technical management',\n",
       " 'Welocate, Landlord Rental Plan, Optional Extra Services, NEN2580 Measurement Report, Energy Label',\n",
       " 'Renting, Property search, Netherlands, Home Renters Plan, Welocate BV',\n",
       " 'Renting, Property Search, Home Renters Plan, Welocate BV, Netherlands',\n",
       " 'Renting, Property, Netherlands, Welocate BV, Home Renters Plan',\n",
       " 'Real Estate Services, Netherlands, Buying, Selling, Renting, Relocating, Property Listings, Rental Properties, Cities, Amsterdam, Furnished',\n",
       " 'Real Estate Services, Netherlands, Rental Properties, Property Listings, Cities',\n",
       " 'Real Estate Services, Netherlands, Rental Properties, Property Listings, Relocating',\n",
       " 'Real Estate Services, Netherlands, Property Listings, Rental Properties, Cities',\n",
       " 'Real Estate Services, Netherlands, Rental Properties, Property Listings, Cities',\n",
       " 'Real Estate Services, Netherlands, Property Listings, Rental Properties, Cities',\n",
       " 'Real Estate Services, Netherlands, Rental Properties, Hoofddorp, Oegstgeest',\n",
       " 'Real Estate Services, Netherlands, Property Listings, Rental Properties, Cities',\n",
       " 'Real Estate Services, Netherlands, Rental Properties, Property Listings, Cities',\n",
       " 'Real Estate Services, Netherlands, Rental Properties, Property Listings, Cities',\n",
       " 'Real Estate Services, Netherlands, Rental Properties, Amsterdam, Breda',\n",
       " 'Real Estate Services, Netherlands, Rental Properties, Cities, Property Listings',\n",
       " 'Real Estate Services, Netherlands, Rental Properties, Property Listings, Amsterdam',\n",
       " 'Real Estate Services, Netherlands, Rental Properties, Amsterdam, Utrecht',\n",
       " 'Real Estate Services, Netherlands, Rental Properties, Amsterdam, Property Listings',\n",
       " 'Real Estate Services, Netherlands, Rental Properties, Amsterdam, Noordwijk',\n",
       " 'Real Estate Services, Netherlands, Rental Properties, Amsterdam, Property Listings',\n",
       " 'Real Estate Services, Netherlands, Buying, Selling, Renting, Property Listings',\n",
       " 'Real Estate Services, Netherlands, Rental Properties, Amsterdam, Welocate BV',\n",
       " 'relocating, Netherlands, Welocate, stress-free move, integration',\n",
       " 'Bank account, Tax, Integration, Netherlands, Welocate',\n",
       " 'Welocate, Expat Services, Netherlands, Relocating, Customer Satisfaction']"
      ]
     },
     "execution_count": 33,
     "metadata": {},
     "output_type": "execute_result"
    }
   ],
   "source": [
    "[n.metadata[\"excerpt_keywords\"] for n in nodes]"
   ]
  },
  {
   "cell_type": "markdown",
   "id": "aa5ad392-9bba-496e-8d8a-9c1e982c3964",
   "metadata": {},
   "source": [
    "### Indexing"
   ]
  },
  {
   "cell_type": "code",
   "execution_count": 34,
   "id": "884487b1-ee60-4f84-b54c-f108304828c3",
   "metadata": {},
   "outputs": [
    {
     "name": "stderr",
     "output_type": "stream",
     "text": [
      "/Users/mohamedadelabdelhady/workspace/kaggle-sandbox/venv/lib/python3.9/site-packages/tqdm/auto.py:21: TqdmWarning: IProgress not found. Please update jupyter and ipywidgets. See https://ipywidgets.readthedocs.io/en/stable/user_install.html\n",
      "  from .autonotebook import tqdm as notebook_tqdm\n",
      "Generating embeddings: 100%|████████████████████████████████████████████████████████████████████████████████████████████████████████████████████████████████████████████████████████████████████████████████████████████████████████████████████████████████████████████████████████████| 39/39 [00:01<00:00, 29.49it/s]\n"
     ]
    }
   ],
   "source": [
    "from llama_index.core import VectorStoreIndex\n",
    "# On a high-level, index can be created from documents directly, this will use a default node parser\n",
    "# index = VectorStoreIndex.from_documents(documents, show_progress=True)\n",
    "\n",
    "index = VectorStoreIndex(nodes, show_progress=True)"
   ]
  },
  {
   "cell_type": "code",
   "execution_count": 35,
   "id": "859e1835-6832-45b8-b071-8ee085ef3b1d",
   "metadata": {},
   "outputs": [
    {
     "data": {
      "text/plain": [
       "39"
      ]
     },
     "execution_count": 35,
     "metadata": {},
     "output_type": "execute_result"
    }
   ],
   "source": [
    "len(index.index_struct.nodes_dict)"
   ]
  },
  {
   "cell_type": "code",
   "execution_count": 36,
   "id": "7d92db9c-d7ab-4267-8611-02c974bff309",
   "metadata": {},
   "outputs": [
    {
     "data": {
      "text/plain": [
       "{'d6342288-6973-4cd9-ae85-d8ee1f8e48c9': RefDocInfo(node_ids=['a339df3d-a353-4e4c-aaaf-ceb649f42790', 'a7198243-e487-4587-a52e-7388f17b4bd5'], metadata={'page_label': '1', 'file_name': 'WelocateHomeBuyersPlan_ABN.pdf', 'file_path': '/Users/mohamedadelabdelhady/workspace/kaggle-sandbox/llm-playground/welocate-data/WelocateHomeBuyersPlan_ABN.pdf', 'file_type': 'application/pdf', 'file_size': 181451, 'creation_date': '2024-07-25', 'last_modified_date': '2024-07-25', 'access_link': 'WelocateHomeBuyersPlan_ABN.pdf', 'document_title': 'The Ultimate Guide to Home Buying: From Planning to Negotiations', 'excerpt_keywords': 'Home Buyers Plan, Purchase contract, Construction check, Appraisal, Notary'}),\n",
       " 'e46dfe73-a887-4c00-babd-1e247214e4f4': RefDocInfo(node_ids=['6513e78f-96c5-410b-af5f-74702d8657b9'], metadata={'page_label': '2', 'file_name': 'WelocateHomeBuyersPlan_ABN.pdf', 'file_path': '/Users/mohamedadelabdelhady/workspace/kaggle-sandbox/llm-playground/welocate-data/WelocateHomeBuyersPlan_ABN.pdf', 'file_type': 'application/pdf', 'file_size': 181451, 'creation_date': '2024-07-25', 'last_modified_date': '2024-07-25', 'access_link': 'WelocateHomeBuyersPlan_ABN.pdf', 'document_title': 'The Ultimate Guide to the Home Buyers Plan: Complete Guidance for Purchasing Your New Home', 'excerpt_keywords': 'Real-estate agent, Construction report, Appraisal report, Notarial deeds, Home Buyers Plan'}),\n",
       " '15a0f2bf-04f9-4c72-8c9e-1b93c8f07ed8': RefDocInfo(node_ids=['bdd17585-b5ff-4f63-94e6-91142e3628e4'], metadata={'page_label': '1', 'file_name': 'WelocateHomeSellersPlan.pdf', 'file_path': '/Users/mohamedadelabdelhady/workspace/kaggle-sandbox/llm-playground/welocate-data/WelocateHomeSellersPlan.pdf', 'file_type': 'application/pdf', 'file_size': 179209, 'creation_date': '2024-07-25', 'last_modified_date': '2024-07-25', 'access_link': 'WelocateHomeSellersPlan.pdf', 'document_title': 'Home Sellers Plan: Streamlining the Selling Process', 'excerpt_keywords': 'Home Sellers Plan, Real Estate Agent, Selling Process, Presentation, Negotiations'}),\n",
       " '122f7e4d-69df-4b25-9dc5-c8080e6438f5': RefDocInfo(node_ids=['ab6d6513-3406-41fe-8c97-f6c6810e00e9'], metadata={'page_label': '2', 'file_name': 'WelocateHomeSellersPlan.pdf', 'file_path': '/Users/mohamedadelabdelhady/workspace/kaggle-sandbox/llm-playground/welocate-data/WelocateHomeSellersPlan.pdf', 'file_type': 'application/pdf', 'file_size': 179209, 'creation_date': '2024-07-25', 'last_modified_date': '2024-07-25', 'access_link': 'WelocateHomeSellersPlan.pdf', 'document_title': 'The Ultimate Guide to Selling Your Home: Hassle-Free Process with Expert Support', 'excerpt_keywords': 'selling plan, expert support, hassle-free process, home sellers, presentation'}),\n",
       " 'https://welocate.com/': RefDocInfo(node_ids=['4fc8681f-8081-41a5-8750-3c84b37fa8f5'], metadata={'access_link': 'https://welocate.com/', 'document_title': \"Real Estate Services in the Netherlands: Welocate BV's Comprehensive Guide\", 'excerpt_keywords': 'Real Estate Services, Netherlands, Buying, Selling, Renting'}),\n",
       " 'https://welocate.com/buying_a_house_in_the_netherlands.aspx': RefDocInfo(node_ids=['3e23dbed-dc2a-4c57-a151-7a52709f8bb9', '7aed5817-7e25-40cb-afe0-1c58bd50d4ad', 'dfb8c8a0-fa03-4e0c-85b0-8b513fa7894e'], metadata={'access_link': 'https://welocate.com/buying_a_house_in_the_netherlands.aspx', 'document_title': 'Comprehensive Home Buying Services in the Netherlands: The Complete Package for Buying a House', 'excerpt_keywords': 'Home Buying Services, Netherlands, Expats, Complete Package, Real Estate Agent'}),\n",
       " 'https://welocate.com/selling_your_house_in_the_netherlands.aspx': RefDocInfo(node_ids=['ac51e614-d3f1-482d-85c3-e8068634d96d', '444084f0-8586-46aa-a924-7b955e6688c1'], metadata={'access_link': 'https://welocate.com/selling_your_house_in_the_netherlands.aspx', 'document_title': \"Selling Your House Made Easy with Welocate's Home Sellers Plan in the Netherlands\", 'excerpt_keywords': 'Welocate, Home Sellers Plan, Netherlands, Real-estate agent, Selling house'}),\n",
       " 'https://welocate.com/renting_out_a_property_in_the_netherlands.aspx': RefDocInfo(node_ids=['84271804-8271-41f7-b72d-5dadc92bb871', '8de0f11e-85ae-4124-bdbe-c7004fb0a6f3', '65194716-2390-4397-9699-56fb8c8759b0'], metadata={'access_link': 'https://welocate.com/renting_out_a_property_in_the_netherlands.aspx', 'document_title': \"Welocate's Comprehensive Landlord Rental Plan Services and Pricing, Including Optional Extra Services\", 'excerpt_keywords': 'Welocate, Landlord Rental Plan, renting out, Netherlands, property'}),\n",
       " 'https://welocate.com/renting_a_property_in_the_netherlands.aspx': RefDocInfo(node_ids=['dd9b82dd-aa42-4733-98f9-b22d7eeaf33f', 'd47acf41-58e4-4f61-a765-2b6e417ed007', '8d6902b3-583c-4d8e-bb20-939eae17f5f2'], metadata={'access_link': 'https://welocate.com/renting_a_property_in_the_netherlands.aspx', 'document_title': 'Renting a Property in the Netherlands: A Guide to the Home Renters Plan and Property Search Services Offered by Welocate BV', 'excerpt_keywords': 'Renting, Property search, Netherlands, Home Renters Plan, Welocate BV'}),\n",
       " 'https://welocate.com/properties_for_rent.aspx': RefDocInfo(node_ids=['0dd69771-2918-49fb-99f0-cc0b98be71b3', 'b723e8e8-5b17-4de8-bbad-05b66f16cf48', '64052c09-f05b-4a1b-ab3c-ff05d7583639', '97631baf-018b-4fc1-8eb4-b0dff27175f6', 'cf1bdfc4-077a-4ffd-947d-77339a9ce357', '676e7b70-bf12-4695-89ca-b7e5c39423c0', '962290da-b9d3-40e7-b45c-da5bab58fd3d', '7943f539-9765-4879-85d1-4e1142fd27cb', '6b9fea69-ef1c-4fa8-853e-ec923bb9eaff', 'c263cbba-ffca-4827-8c86-e01443eb97d5', '48b8626c-02e6-4129-bd99-5d7291a15137', '8e222fbd-ef9f-4f8b-adba-1f00c25012fe', 'd5a8a8c2-170e-4687-a5b2-63ba2a8b454d', 'f1714e15-bd71-4d1b-82e9-69fed12bfeec', '66f3352c-01eb-4ce5-a45d-17ed306e8051', '53122e66-5531-4b02-b7ba-444fca81abca', '9fef1238-fc27-409e-8b92-1692f7aef67a', '3b4c6ad2-045d-42cc-bebe-9398b2dc0e7e', '89bf9a64-213b-4c82-82c8-c1c611ac0ad7'], metadata={'access_link': 'https://welocate.com/properties_for_rent.aspx', 'document_title': 'Real Estate Services in the Netherlands: Buying, Selling, Renting, Relocating, and Property Listings for Rental Properties in Various Cities', 'excerpt_keywords': 'Real Estate Services, Netherlands, Buying, Selling, Renting, Relocating, Property Listings, Rental Properties, Cities, Amsterdam, Furnished'}),\n",
       " 'https://welocate.com/relocating_to_the_netherlands.aspx': RefDocInfo(node_ids=['40abe08d-362f-454c-8f2b-f65d41f0ab04', '5e0545e9-4ffe-44fe-8a22-ae1c5102412b'], metadata={'access_link': 'https://welocate.com/relocating_to_the_netherlands.aspx', 'document_title': 'Navigating Life in the Netherlands with Welocate: A Stress-Free Move, Banking, Taxes, and Integration', 'excerpt_keywords': 'relocating, Netherlands, Welocate, stress-free move, integration'}),\n",
       " 'https://welocate.com/about_welocate.aspx': RefDocInfo(node_ids=['f46be3c8-7e6d-4f07-9f9a-d90b56455381'], metadata={'access_link': 'https://welocate.com/about_welocate.aspx', 'document_title': 'Welocate: Expat Services in the Netherlands - Comprehensive Guide', 'excerpt_keywords': 'Welocate, Expat Services, Netherlands, Relocating, Customer Satisfaction'})}"
      ]
     },
     "execution_count": 36,
     "metadata": {},
     "output_type": "execute_result"
    }
   ],
   "source": [
    "# no direct way to show the actual vector embeddings :/\n",
    "index.ref_doc_info"
   ]
  },
  {
   "cell_type": "markdown",
   "id": "33869137-e86d-4417-863f-f08f627ddfa0",
   "metadata": {},
   "source": [
    "### Storage"
   ]
  },
  {
   "cell_type": "code",
   "execution_count": 37,
   "id": "81e47ca5-4675-48e3-8ac9-ce6752c0835a",
   "metadata": {},
   "outputs": [],
   "source": [
    "# this will overwrite all the json files in storage\n",
    "index.storage_context.persist(persist_dir=\"./welocate-storage\")"
   ]
  },
  {
   "cell_type": "markdown",
   "id": "7f8dd9ce-d804-43d3-9468-9b20f9a0081c",
   "metadata": {},
   "source": [
    "### Loading"
   ]
  },
  {
   "cell_type": "code",
   "execution_count": 38,
   "id": "06ee32d7-e7de-4617-b501-2db6bd0ef719",
   "metadata": {},
   "outputs": [],
   "source": [
    "from llama_index.core import StorageContext, load_index_from_storage\n",
    "\n",
    "storage_context = StorageContext.from_defaults(persist_dir=\"./welocate-storage\")\n",
    "index = load_index_from_storage(storage_context)"
   ]
  },
  {
   "cell_type": "code",
   "execution_count": 40,
   "id": "da6d603f-5832-4cd8-87c2-63e2ed902312",
   "metadata": {},
   "outputs": [
    {
     "data": {
      "text/plain": [
       "39"
      ]
     },
     "execution_count": 40,
     "metadata": {},
     "output_type": "execute_result"
    }
   ],
   "source": [
    "len(index.index_struct.nodes_dict)"
   ]
  },
  {
   "cell_type": "markdown",
   "id": "980fb10f-3c19-4019-80a3-336cbd0dfd86",
   "metadata": {},
   "source": [
    "### Querying"
   ]
  },
  {
   "cell_type": "code",
   "execution_count": 47,
   "id": "cff93ef1-19ab-4de7-9184-8ddd4685ec2c",
   "metadata": {},
   "outputs": [],
   "source": [
    "from llama_index.core import VectorStoreIndex, get_response_synthesizer, StorageContext, load_index_from_storage\n",
    "from llama_index.core.retrievers import VectorIndexRetriever\n",
    "from llama_index.core.query_engine import RetrieverQueryEngine\n",
    "from llama_index.core.postprocessor import SimilarityPostprocessor, KeywordNodePostprocessor\n",
    "from llama_index.core.response_synthesizers import ResponseMode\n",
    "from llama_index.core.response.pprint_utils import pprint_source_node\n",
    "\n",
    "storage_context = StorageContext.from_defaults(persist_dir=\"./welocate-storage\")\n",
    "index = load_index_from_storage(storage_context)\n",
    "\n",
    "retriever = VectorIndexRetriever(index=index, similarity_top_k=3)\n",
    "response_synthesizer = get_response_synthesizer(response_mode=ResponseMode.COMPACT)\n",
    "\n",
    "# assemble the query engine\n",
    "query_engine = RetrieverQueryEngine(retriever=retriever, response_synthesizer=response_synthesizer, node_postprocessors=[SimilarityPostprocessor(similarity_cutoff=0.4)])"
   ]
  },
  {
   "cell_type": "code",
   "execution_count": 48,
   "id": "fbff6de9-28a3-46bb-b3d7-20b45d9deeeb",
   "metadata": {},
   "outputs": [
    {
     "name": "stdout",
     "output_type": "stream",
     "text": [
      "1.1% of the selling price (excluding 21% VAT)\n"
     ]
    }
   ],
   "source": [
    "response = query_engine.query(\"How much does the home seller plan cost?\")\n",
    "print(response)"
   ]
  },
  {
   "cell_type": "code",
   "execution_count": 49,
   "id": "414a1966-89fc-40e1-b256-402da5af2bbf",
   "metadata": {},
   "outputs": [
    {
     "data": {
      "text/plain": [
       "[NodeWithScore(node=TextNode(id_='ab6d6513-3406-41fe-8c97-f6c6810e00e9', embedding=None, metadata={'page_label': '2', 'file_name': 'WelocateHomeSellersPlan.pdf', 'file_path': '/Users/mohamedadelabdelhady/workspace/kaggle-sandbox/llm-playground/welocate-data/WelocateHomeSellersPlan.pdf', 'file_type': 'application/pdf', 'file_size': 179209, 'creation_date': '2024-07-25', 'last_modified_date': '2024-07-25', 'access_link': 'WelocateHomeSellersPlan.pdf', 'document_title': 'The Ultimate Guide to Selling Your Home: Hassle-Free Process with Expert Support', 'excerpt_keywords': 'selling plan, expert support, hassle-free process, home sellers, presentation'}, excluded_embed_metadata_keys=['file_name', 'file_type', 'file_size', 'creation_date', 'last_modified_date', 'last_accessed_date'], excluded_llm_metadata_keys=['file_name', 'file_type', 'file_size', 'creation_date', 'last_modified_date', 'last_accessed_date'], relationships={<NodeRelationship.SOURCE: '1'>: RelatedNodeInfo(node_id='122f7e4d-69df-4b25-9dc5-c8080e6438f5', node_type=<ObjectType.DOCUMENT: '4'>, metadata={'page_label': '2', 'file_name': 'WelocateHomeSellersPlan.pdf', 'file_path': '/Users/mohamedadelabdelhady/workspace/kaggle-sandbox/llm-playground/welocate-data/WelocateHomeSellersPlan.pdf', 'file_type': 'application/pdf', 'file_size': 179209, 'creation_date': '2024-07-25', 'last_modified_date': '2024-07-25', 'access_link': 'WelocateHomeSellersPlan.pdf'}, hash='fee2cc016fdafe459960f43373a2da59bda6e41acba9dfe0add67d0feb919844'), <NodeRelationship.PREVIOUS: '2'>: RelatedNodeInfo(node_id='bdd17585-b5ff-4f63-94e6-91142e3628e4', node_type=<ObjectType.TEXT: '1'>, metadata={'page_label': '1', 'file_name': 'WelocateHomeSellersPlan.pdf', 'file_path': '/Users/mohamedadelabdelhady/workspace/kaggle-sandbox/llm-playground/welocate-data/WelocateHomeSellersPlan.pdf', 'file_type': 'application/pdf', 'file_size': 179209, 'creation_date': '2024-07-25', 'last_modified_date': '2024-07-25', 'access_link': 'WelocateHomeSellersPlan.pdf'}, hash='6deec1195ff8161228748155e97b7552478c32564ff8b3c6fa0cc946d5b181cc'), <NodeRelationship.NEXT: '3'>: RelatedNodeInfo(node_id='4fc8681f-8081-41a5-8750-3c84b37fa8f5', node_type=<ObjectType.TEXT: '1'>, metadata={}, hash='584976da155266c7f8fcad829475c708143b64e6be29e1a6878ae30db220dfd9')}, text='A complete selling planwelocate\\nyour move, our commitmentCarefree sale\\nWith the Home Sellers Plan, you can sell your home without any worries. Whether it comes to the presentation of your home or th e price negoti -\\nations with a buyer, we take care of everything for you. We know exactly what you will have to deal with, think of things you might not have \\nconsidered yet, and have a team of specialists ready to answer any questions. Together with our local agent, we take over tasks from you and \\nlook after your interests. This way, you are assured of expert help at times when you need it. Planning to sell? We are ready for you.\\nWe arrange this for you\\nRequests and more information\\nInterested? Please contact your advisor or Welocate B.V. We’ll answer all of your questions and our staff are fluent in English and specialised \\nin dealing with international clients.The Orientation package will help you choose a local agent. We also provide an appraisal and a \\ncomprehensive plan of approach. \\nf Registration funda.nl\\nf Registration agent’s website\\nf Registration agents’ exchange system\\nf Professional photos\\nIf you have agreed on a selling price with the buyer, the agent draws up a purchase agreement. He \\ndiscusses the contents with you and guides you through the transfer of ownership at the notary.Orientation\\nPresentation\\nTransfer\\nWhat it costs\\nPlan of approach\\nPresentation\\nTransferHome Sellers Plan Orientation package Complete packageThe Home Sellers Plan can be provided as a complete package. For this, you only pay 1.1% of the selling price (excluding 21% VAT). We do not \\ncharge any fees for the Orientation package. The table below shows what services are included for each package.\\nTotal1.1% of the selling price\\n(excluding 21% VAT)Included\\nIncluded\\nIncluded\\nFree-\\n-f Creating professional brochures\\nf Inclusion in agents window advertisement\\nf Placement of ‘for sale’ sign\\nf Additional resources\\nWhen your home is up for sale, the agent arranges appointments with potential buyers, guides them \\naround, and performs the negotiations on your behalf.Sale\\nSale Included -Appraisal Included Included\\nIncluded\\ninfo@welocate.com\\n+31(0) 20 760 8282\\nwww.welocate.com', start_char_idx=0, end_char_idx=2182, text_template='[Excerpt from document]\\n{metadata_str}\\nExcerpt:\\n-----\\n{content}\\n-----\\n', metadata_template='{key}: {value}', metadata_seperator='\\n'), score=0.8615401001627582),\n",
       " NodeWithScore(node=TextNode(id_='6513e78f-96c5-410b-af5f-74702d8657b9', embedding=None, metadata={'page_label': '2', 'file_name': 'WelocateHomeBuyersPlan_ABN.pdf', 'file_path': '/Users/mohamedadelabdelhady/workspace/kaggle-sandbox/llm-playground/welocate-data/WelocateHomeBuyersPlan_ABN.pdf', 'file_type': 'application/pdf', 'file_size': 181451, 'creation_date': '2024-07-25', 'last_modified_date': '2024-07-25', 'access_link': 'WelocateHomeBuyersPlan_ABN.pdf', 'document_title': 'The Ultimate Guide to the Home Buyers Plan: Complete Guidance for Purchasing Your New Home', 'excerpt_keywords': 'Real-estate agent, Construction report, Appraisal report, Notarial deeds, Home Buyers Plan'}, excluded_embed_metadata_keys=['file_name', 'file_type', 'file_size', 'creation_date', 'last_modified_date', 'last_accessed_date'], excluded_llm_metadata_keys=['file_name', 'file_type', 'file_size', 'creation_date', 'last_modified_date', 'last_accessed_date'], relationships={<NodeRelationship.SOURCE: '1'>: RelatedNodeInfo(node_id='e46dfe73-a887-4c00-babd-1e247214e4f4', node_type=<ObjectType.DOCUMENT: '4'>, metadata={'page_label': '2', 'file_name': 'WelocateHomeBuyersPlan_ABN.pdf', 'file_path': '/Users/mohamedadelabdelhady/workspace/kaggle-sandbox/llm-playground/welocate-data/WelocateHomeBuyersPlan_ABN.pdf', 'file_type': 'application/pdf', 'file_size': 181451, 'creation_date': '2024-07-25', 'last_modified_date': '2024-07-25', 'access_link': 'WelocateHomeBuyersPlan_ABN.pdf'}, hash='be5c48306ccef9f3a584759b31280a31f3a1d11a218fdc50c2bf54df5c7f9140'), <NodeRelationship.PREVIOUS: '2'>: RelatedNodeInfo(node_id='a7198243-e487-4587-a52e-7388f17b4bd5', node_type=<ObjectType.TEXT: '1'>, metadata={'page_label': '1', 'file_name': 'WelocateHomeBuyersPlan_ABN.pdf', 'file_path': '/Users/mohamedadelabdelhady/workspace/kaggle-sandbox/llm-playground/welocate-data/WelocateHomeBuyersPlan_ABN.pdf', 'file_type': 'application/pdf', 'file_size': 181451, 'creation_date': '2024-07-25', 'last_modified_date': '2024-07-25', 'access_link': 'WelocateHomeBuyersPlan_ABN.pdf'}, hash='b67ccccd98cf854ca875c8746e4ebd06ff90f83a75ed688577273aac0667755b'), <NodeRelationship.NEXT: '3'>: RelatedNodeInfo(node_id='bdd17585-b5ff-4f63-94e6-91142e3628e4', node_type=<ObjectType.TEXT: '1'>, metadata={}, hash='9b877a78d895b434bfe963035cbccaed9b407ef7482801e937598e31db8334fc')}, text='We arrange this for you\\nWhat it costs\\nReal-estate agent\\nConstruction report\\nAppraisal report\\nNotarial deedsHome Buyers Plan Standard ExtendedThe Home  Buyers  Plan is a complete  package  offered  at a fixed  price.  For properties  up to one million,  you pay one fixed  amount  for the \\nfull guidance  for the purchase  of your new home.  The table  below  shows  the cost of the transfer, standard  and extended  packages.  \\nThe prices are including 21% VAT. \\nTotal € 3800 € 4500Guidance during the purchase\\nof a property you haveAssistance in finding your\\nhome and guidance during\\nMore information?\\nInterested?  Please  feel free to contact  us and we’ll be happy  to answer  all of your questions.  At Welocate,  all our staff are fluent  in \\nEnglish and specialised in dealing with international clients.The Home  Buyers  Plan is a package  designed  to completely  take away  all your worries.  It helps  you from the moment  you decide  to \\nbuy your home.  From  searching  and visiting  to negotiating  and ownership:  we help you with every  step of the process.  We know  exactly \\nwhat  you can expect,  we watch  out for things  you may not be aware  of and manage  the team  of specialists.  We take over tasks  from \\nyou ensuring  your best interests  are represented.  You can be sure of expert  and independent  help from the moment  it is required . \\nBuying plans? We are ready for you.\\nInclusive\\nInclusive\\nInclusiveInclusive\\nInclusive\\nInclusiveReal-estate agent\\nAn experienced  local real-estate  agent  who can help you \\nsearch  for properties,  provide  expert  advice,  negotiates  and \\nprotects your interests during the entire purchase process.A building  inspector  who visits  and checks  the condition  of \\nthe property  and delivers  an extensive  construction  report \\ndetailing short, medium and long term maintenance costs.\\nA local,  certified  appraiser  visits  the property  and creates  an \\nappraisal  report  about  the property.  This report  will be \\nrequired for your mortgage and is accepted by all banks.A complete package\\ninfo@welocate.comwelocate\\nyour move, our commitmentCarefree moving\\nBuilding report\\nAppraisal report Notary\\n+31(0) 20 760 8282\\nwww.welocate.comthe purchase found yourselfTransfer\\n€ 2495Purchase contract check\\nof a property you have\\nInclusive\\nInclusive\\nInclusivebought yourself\\nABN AMRO discount € 150 € 450 € 801\\n1. This cannot be used in in combination with other discounts.A local notary  draws  up the transfer  and mortgage  deeds and you \\nsign them  together  with all parties.  Finally,  the notary  registers \\nownership at the government and hands over the keys to you.', start_char_idx=0, end_char_idx=2638, text_template='[Excerpt from document]\\n{metadata_str}\\nExcerpt:\\n-----\\n{content}\\n-----\\n', metadata_template='{key}: {value}', metadata_seperator='\\n'), score=0.8607118338519639),\n",
       " NodeWithScore(node=TextNode(id_='bdd17585-b5ff-4f63-94e6-91142e3628e4', embedding=None, metadata={'page_label': '1', 'file_name': 'WelocateHomeSellersPlan.pdf', 'file_path': '/Users/mohamedadelabdelhady/workspace/kaggle-sandbox/llm-playground/welocate-data/WelocateHomeSellersPlan.pdf', 'file_type': 'application/pdf', 'file_size': 179209, 'creation_date': '2024-07-25', 'last_modified_date': '2024-07-25', 'access_link': 'WelocateHomeSellersPlan.pdf', 'document_title': 'Home Sellers Plan: Streamlining the Selling Process', 'excerpt_keywords': 'Home Sellers Plan, Real Estate Agent, Selling Process, Presentation, Negotiations'}, excluded_embed_metadata_keys=['file_name', 'file_type', 'file_size', 'creation_date', 'last_modified_date', 'last_accessed_date'], excluded_llm_metadata_keys=['file_name', 'file_type', 'file_size', 'creation_date', 'last_modified_date', 'last_accessed_date'], relationships={<NodeRelationship.SOURCE: '1'>: RelatedNodeInfo(node_id='15a0f2bf-04f9-4c72-8c9e-1b93c8f07ed8', node_type=<ObjectType.DOCUMENT: '4'>, metadata={'page_label': '1', 'file_name': 'WelocateHomeSellersPlan.pdf', 'file_path': '/Users/mohamedadelabdelhady/workspace/kaggle-sandbox/llm-playground/welocate-data/WelocateHomeSellersPlan.pdf', 'file_type': 'application/pdf', 'file_size': 179209, 'creation_date': '2024-07-25', 'last_modified_date': '2024-07-25', 'access_link': 'WelocateHomeSellersPlan.pdf'}, hash='906635ac876e0ecb851e6b20a7fd5ac790225362f21a72e1911a75e43df14645'), <NodeRelationship.PREVIOUS: '2'>: RelatedNodeInfo(node_id='6513e78f-96c5-410b-af5f-74702d8657b9', node_type=<ObjectType.TEXT: '1'>, metadata={'page_label': '2', 'file_name': 'WelocateHomeBuyersPlan_ABN.pdf', 'file_path': '/Users/mohamedadelabdelhady/workspace/kaggle-sandbox/llm-playground/welocate-data/WelocateHomeBuyersPlan_ABN.pdf', 'file_type': 'application/pdf', 'file_size': 181451, 'creation_date': '2024-07-25', 'last_modified_date': '2024-07-25', 'access_link': 'WelocateHomeBuyersPlan_ABN.pdf'}, hash='be5c48306ccef9f3a584759b31280a31f3a1d11a218fdc50c2bf54df5c7f9140'), <NodeRelationship.NEXT: '3'>: RelatedNodeInfo(node_id='ab6d6513-3406-41fe-8c97-f6c6810e00e9', node_type=<ObjectType.TEXT: '1'>, metadata={}, hash='38ae1a389dfd64c38d3ef2bea36c6e65e1938ab4a78a66a0523ef54eb68a6b5f')}, text='Home Sellers Plan\\nWhat is the Home Sellers Plan?welocate\\nyour move, our commitment\\nSelling your home can be a complex process: it’s time consuming and sometimes causes considerable stress. There is a lot to take care of and all \\nsorts of things to take into account. A selling agent knows exactly what to look for, will think with you, and relieves you of many tasks. With the \\nHome Sellers Plan, we help you find a real estate agent that suits you. We select an experienced agent, give free advice and, if desired, provide the \\ncomplete package to sell your house. Whether you choose the Orientation package or the Complete package, you can count on our extensive \\nknowledge and years of experience.\\nSelling your home\\nWe only work with experienced real estate agents who distinguish \\nthemselves through an extensive knowledge of the local market, \\ngood results, a large network, and a proactive mentality. With the free \\nOrientation package, we introduce you to an agent and help you take \\nthe first few steps in the selling process. If you choose to continue \\nworking with the proposed agent, you can continue with the \\nComplete package. Everything you need to sell your house is included \\nin this package.\\nStep 1: Orientation\\nIf you have decided to put your home up for sale, our agent will visit \\nyou without any obligations. During this free visit, you will become \\nacquainted and the agent will view your home and discuss your \\nspecific requirements. \\nPlan of approach\\nBased on the visit to your home, our agent creates a plan of approach. \\nIn this document, he proposes a selling strategy and explains which \\nmedia he suggests to advertise your home. The agent also provides a \\nfree appraisal and advises you on a recommended selling price.\\nYour choice\\nAre you satisfied with the plan the agent has suggested? Then you \\nwill receive an order confirmation. This is a comprehensive document \\nthat details the agreements you have made together with the agent. \\nThis ensures that everything will go smoothly during the process of \\nselling your home.\\nStep 2: Presentation\\nOne of the most important aspects of successfully selling your home \\nis to ensure that you present it in the most attractive way. After all, \\nyou only have one chance to give potential buyers a good first impres -\\nsion. The real estate agent evaluates your property in detail and \\ndiscusses with you which promotional tools are most appropriate for \\nadvertising your home to potential buyers. The most commonly used \\ntools include:\\nf funda.nl \\nf the agent’s website\\nf the agents’ exchange system\\nf professional photos \\nf an advertisement in the agent’s window\\nf a professional brochure\\nf the ‘for sale’ sign\\nf additional promotional toolsStep 3: For sale\\nFrom the moment your home is advertised, interested buyers can \\ncontact your agent for additional information or a viewing.\\nViewings\\nYour agent arranges all viewings. He also gives potential buyers a tour \\npersonally. After each viewing, he will contact you to inform you about \\nthe visit. \\nNegotiations\\nThen, the most important and most difficult part of the sale begins: \\nthe negotiations. Of course, you want to sell your home with the most \\nfavourable terms, but without scaring off potential buyers. The agent \\nadvises you on these matters and handles the negotiations on your \\nbehalf.\\nStep 4: Transfer\\nHave you found a buyer and agreed on a price, the date of transfer, \\nand any conditions? Congratulations, your home is (almost) sold! Your \\nagent creates the purchase contract and discusses its content with \\nyou in detail.\\nFinal inspection\\nOn the date of transfer of ownership, the buyer is allowed to inspect \\nyour home one more time before you go to the notary.\\nTransfer\\nTime for the final step: transferring your property to its new owner. \\nThe buyer chooses a notary whom will draw up the deed of transfer. \\nYou sign this document on the day of the transfer. Once again, the \\nagent is there to help you. Once this step is finished, the sale is \\ncompleted and your home is officially sold.', start_char_idx=0, end_char_idx=4029, text_template='[Excerpt from document]\\n{metadata_str}\\nExcerpt:\\n-----\\n{content}\\n-----\\n', metadata_template='{key}: {value}', metadata_seperator='\\n'), score=0.8505374061543873)]"
      ]
     },
     "execution_count": 49,
     "metadata": {},
     "output_type": "execute_result"
    }
   ],
   "source": [
    "response.source_nodes"
   ]
  },
  {
   "cell_type": "code",
   "execution_count": 12,
   "id": "e57a9596-26c1-47d7-aa53-9d38bf86f114",
   "metadata": {},
   "outputs": [
    {
     "name": "stdout",
     "output_type": "stream",
     "text": [
      "B\n"
     ]
    }
   ],
   "source": [
    "if response.source_nodes:\n",
    "    print(\"A\")\n",
    "else:\n",
    "    print(\"B\")"
   ]
  },
  {
   "cell_type": "code",
   "execution_count": 13,
   "id": "98ca1175-45d1-4bc7-881a-481c517ed1a3",
   "metadata": {},
   "outputs": [
    {
     "name": "stdout",
     "output_type": "stream",
     "text": [
      "Mohamed A. Abdelhady is an individual with expertise in various programming languages such as Python, SQL, and Bash, as well as tools and frameworks like TensorFlow, Keras, Pytorch, Git, PySpark, Pandas, Flask, and Docker. He has worked on projects related to reinforcement learning, TensorFlow model monitoring, image classification, pedestrian detection, Kaggle competitions, robotics algorithms, and more. Additionally, he has authored publications related to SLAM frameworks and recurrent neural networks for state estimation. In his extra-curricular activities, he has been involved in team strategy development, robotics competitions, makerspace development, teaching assistance, workshops, and talent development programs.\n"
     ]
    }
   ],
   "source": [
    "response = query_engine.query(\"who is Mohamed A. Abdelhady\")\n",
    "print(response)"
   ]
  },
  {
   "cell_type": "code",
   "execution_count": 15,
   "id": "3be3198c-ebbd-41c8-9c2a-9ac2e3f40748",
   "metadata": {},
   "outputs": [],
   "source": [
    "s = \"\"\n",
    "s += response.response"
   ]
  },
  {
   "cell_type": "code",
   "execution_count": 21,
   "id": "6472e93f-7855-4e09-a562-49edd422d601",
   "metadata": {},
   "outputs": [
    {
     "name": "stdout",
     "output_type": "stream",
     "text": [
      "Node ID: b4ffeb56-7a47-42c9-b045-1cc9aac0da0a\n",
      "Similarity: 0.8014585457430086\n",
      "Text: SKILLS Languages Python, SQL, Bash Tools & Frameworks\n",
      "TensorFlow, Keras, Pytorch, Git, PySpark, Pandas, Flask, Docker\n",
      "PROJECTS Reinforcement learning approach for traﬃc lights optimization\n",
      "(2nd place in C4F2 Hackathon) /external_link Monitoring of Tensorﬂow\n",
      "models using Prometheus, metricbeat, and Kibana/Grafana\n",
      "Reproducibility of ﬁne-grained-im...\n"
     ]
    }
   ],
   "source": [
    "for node in response.source_nodes:\n",
    "    pprint_source_node(node)"
   ]
  },
  {
   "cell_type": "code",
   "execution_count": 24,
   "id": "25fbcc66-76e4-4f31-ba82-b711be3b10d5",
   "metadata": {},
   "outputs": [],
   "source": [
    "metadata = node.to_dict()[\"node\"]['metadata']"
   ]
  },
  {
   "cell_type": "code",
   "execution_count": 26,
   "id": "798eab7c-dbd4-4ea1-ba2d-c9c7a1d176c2",
   "metadata": {},
   "outputs": [
    {
     "data": {
      "text/plain": [
       "{'page_label': '2',\n",
       " 'file_name': 'CV-M-Abdelhady.pdf',\n",
       " 'file_path': '/Users/mohamedadelabdelhady/workspace/kaggle-sandbox/llm-playground/data/CV-M-Abdelhady.pdf',\n",
       " 'file_type': 'application/pdf',\n",
       " 'file_size': 108188,\n",
       " 'creation_date': '2024-06-11',\n",
       " 'last_modified_date': '2024-06-11'}"
      ]
     },
     "execution_count": 26,
     "metadata": {},
     "output_type": "execute_result"
    }
   ],
   "source": [
    "metadata"
   ]
  },
  {
   "cell_type": "code",
   "execution_count": 28,
   "id": "36c41d80-f8e2-496f-a7c8-9f114f55b8ae",
   "metadata": {},
   "outputs": [
    {
     "data": {
      "text/plain": [
       "'CV-M-Abdelhady.pdf | 2024-06-11 | 2024-06-11 | /Users/mohamedadelabdelhady/workspace/kaggle-sandbox/llm-playground/data/CV-M-Abdelhady.pdf | 0.8 | SKILLS\\nLanguages Python, SQL, Bash\\nTools & Frameworks TensorFlow, Keras, Pytorch, Git, PySpark, Pand|\\n'"
      ]
     },
     "execution_count": 28,
     "metadata": {},
     "output_type": "execute_result"
    }
   ],
   "source": [
    "f\"{metadata['file_name']} | {metadata['creation_date']} | {metadata['last_modified_date']} | {metadata['file_path']} | {round(node.score, 2)} | {node.text[:100]}|\\n\""
   ]
  },
  {
   "cell_type": "code",
   "execution_count": 6,
   "id": "79390935-3605-41e6-8341-b9d4246129e2",
   "metadata": {},
   "outputs": [
    {
     "data": {
      "text/plain": [
       "{'node': {'id_': 'b4ffeb56-7a47-42c9-b045-1cc9aac0da0a',\n",
       "  'embedding': None,\n",
       "  'metadata': {'page_label': '2',\n",
       "   'file_name': 'CV-M-Abdelhady.pdf',\n",
       "   'file_path': '/Users/mohamedadelabdelhady/workspace/kaggle-sandbox/llm-playground/data/CV-M-Abdelhady.pdf',\n",
       "   'file_type': 'application/pdf',\n",
       "   'file_size': 108188,\n",
       "   'creation_date': '2024-06-11',\n",
       "   'last_modified_date': '2024-06-11'},\n",
       "  'excluded_embed_metadata_keys': ['file_name',\n",
       "   'file_type',\n",
       "   'file_size',\n",
       "   'creation_date',\n",
       "   'last_modified_date',\n",
       "   'last_accessed_date'],\n",
       "  'excluded_llm_metadata_keys': ['file_name',\n",
       "   'file_type',\n",
       "   'file_size',\n",
       "   'creation_date',\n",
       "   'last_modified_date',\n",
       "   'last_accessed_date'],\n",
       "  'relationships': {<NodeRelationship.SOURCE: '1'>: {'node_id': '1cc56f45-6c99-45f6-aaab-0f8f21cf5881',\n",
       "    'node_type': <ObjectType.DOCUMENT: '4'>,\n",
       "    'metadata': {'page_label': '2',\n",
       "     'file_name': 'CV-M-Abdelhady.pdf',\n",
       "     'file_path': '/Users/mohamedadelabdelhady/workspace/kaggle-sandbox/llm-playground/data/CV-M-Abdelhady.pdf',\n",
       "     'file_type': 'application/pdf',\n",
       "     'file_size': 108188,\n",
       "     'creation_date': '2024-06-11',\n",
       "     'last_modified_date': '2024-06-11'},\n",
       "    'hash': 'e13aa18c3d826df187d4c6ca1ca701d10c4ea909483df48a16a3b071b3159dbc',\n",
       "    'class_name': 'RelatedNodeInfo'},\n",
       "   <NodeRelationship.PREVIOUS: '2'>: {'node_id': '30af085a-e158-4309-9bbf-604a863fb88d',\n",
       "    'node_type': <ObjectType.TEXT: '1'>,\n",
       "    'metadata': {'page_label': '1',\n",
       "     'file_name': 'CV-M-Abdelhady.pdf',\n",
       "     'file_path': '/Users/mohamedadelabdelhady/workspace/kaggle-sandbox/llm-playground/data/CV-M-Abdelhady.pdf',\n",
       "     'file_type': 'application/pdf',\n",
       "     'file_size': 108188,\n",
       "     'creation_date': '2024-06-11',\n",
       "     'last_modified_date': '2024-06-11'},\n",
       "    'hash': 'b1930cf8d7c479c1ec675082bceabc1994618df95fed89c00ebf57a7adf58dde',\n",
       "    'class_name': 'RelatedNodeInfo'},\n",
       "   <NodeRelationship.NEXT: '3'>: {'node_id': 'aa2a104c-71ce-4d7a-b337-f4981dfcdddf',\n",
       "    'node_type': <ObjectType.TEXT: '1'>,\n",
       "    'metadata': {},\n",
       "    'hash': '969bc5f75922ca846a474910c2d9eec3368c83f46ca6459b3f4cd9487d082cc6',\n",
       "    'class_name': 'RelatedNodeInfo'}},\n",
       "  'text': 'SKILLS\\nLanguages Python, SQL, Bash\\nTools & Frameworks TensorFlow, Keras, Pytorch, Git, PySpark, Pandas, Flask, Docker\\nPROJECTS\\nReinforcement learning approach for traﬃc lights optimization (2nd place in C4F2 Hackathon) /external_link\\nMonitoring of Tensorﬂow models using Prometheus, metricbeat, and Kibana/Grafana\\nReproducibility of ﬁne-grained-image-classiﬁcation attention approaches (deprecated) /external_link\\nPedestrian detection and tracking using FCNs (deprecated) /external_link\\nKaggle terrain classiﬁcation using IMU - Top 6% /external_link\\nPython packages for robotics algorithms and autonomous navigation (contributor) /external_link\\nVisual navigation for a mobile robot using monocular vision /external_link\\nBond graph modeling of a gimbaled-thrust rocket /external_link\\nLocalization framework for a rail-guided robot /external_link\\nPUBLICATIONS\\nReuse-oriented SLAM Framework using Software Product Lines /external_link 2020\\nIEEE International Conference on Robotic Computing (IRC)\\nAuthors: Mohamed A. Abdelhady , Douwe D. Dresscher, Jan F. Broenink\\nLearning A Recurrent Neural Network for State Estimation using Filter Data /external_link 2019\\nIntelligent Vehicles Symposium (IV)\\nAuthors: Ahmed M. Hammam, Mohamed A. Abdelhady , Omar Shehata\\nDemo Design: The VIRO Agile Eye /external_link 2018\\nDSPE Mikroniek magazine, Volume 58, Issue 1\\nAuthors: Louis Stijn, Mohamed A. Abdelhady , Samer Abdelmoeti\\nMulti-robot Task Allocation for Search and Rescue Missions /external_link 2014\\nEuropean Workshop on Advanced Control and Diagnosis\\nAuthors: A. Hussein, Mohamed A. Abdelhady , M. Bakr, Omar Shehata, Alaa Khamis\\nEXTRA-CURRICULAR\\nTeam strategy developer at ASML’s robocup team using behavior trees.\\nJudge at the minesweeper robotics competition for humanitarian de-mining.\\nMakerspace developer at the University of Twente.\\nPart-time junior teaching assistant for CAD labs.\\nACM workshops participant\\nAIESEC Munich talent developer.',\n",
       "  'start_char_idx': 0,\n",
       "  'end_char_idx': 1940,\n",
       "  'text_template': '{metadata_str}\\n\\n{content}',\n",
       "  'metadata_template': '{key}: {value}',\n",
       "  'metadata_seperator': '\\n',\n",
       "  'class_name': 'TextNode'},\n",
       " 'score': 0.8014670513361547,\n",
       " 'class_name': 'NodeWithScore'}"
      ]
     },
     "execution_count": 6,
     "metadata": {},
     "output_type": "execute_result"
    }
   ],
   "source": [
    "\"\"\"\n",
    "score\n",
    "metadata.page_label\n",
    "metadata.file_name\n",
    "metadata.page_label\n",
    "metadata.creation_date\n",
    "metadata.last_modified_date\n",
    "metadata.file_path\n",
    "text\n",
    "\"\"\"\n",
    "node.to_dict()"
   ]
  },
  {
   "cell_type": "code",
   "execution_count": 117,
   "id": "019df92d-0705-48ef-817d-42b1200dba25",
   "metadata": {},
   "outputs": [
    {
     "name": "stdout",
     "output_type": "stream",
     "text": [
      "The simplest way to store indexed data is to use the built-in .persist() method of every Index, which writes all the data to disk at the location specified.\n"
     ]
    }
   ],
   "source": [
    "response = query_engine.query(\"what is the simplest way to store indexed data?\")\n",
    "print(response)"
   ]
  },
  {
   "cell_type": "code",
   "execution_count": 118,
   "id": "e521bbae-9d51-4411-99a2-86df0fde146e",
   "metadata": {},
   "outputs": [
    {
     "name": "stdout",
     "output_type": "stream",
     "text": [
      "Node ID: c3a89c37-809d-4f8b-b077-b6baad787e14\n",
      "Similarity: 0.8419226761880413\n",
      "Text: The simplest way to store your indexed data is to use the built-\n",
      "in .persist() method of every Index, which writes all the data to disk\n",
      "at the location specified. This works for any type of index.\n"
     ]
    }
   ],
   "source": [
    "for node in response.source_nodes:\n",
    "    pprint_source_node(node)"
   ]
  },
  {
   "cell_type": "code",
   "execution_count": 119,
   "id": "d8e3d624-0e22-434b-8d9e-5d47ab27319e",
   "metadata": {},
   "outputs": [
    {
     "name": "stdout",
     "output_type": "stream",
     "text": [
      "The Pinecone Documentation and Resources provide a comprehensive guide for users, offering practical guides, detailed information about the Pinecone API, SDKs, and architecture, hands-on examples and sample apps, details on third-party integrations, Pinecone utilities and reference architectures, troubleshooting guides, and news about features and changes in Pinecone and related tools.\n",
      "Node ID: a0754d56-b619-4267-aea0-ab1b3c6be53a\n",
      "Similarity: 0.89678371872626\n",
      "Text: [Pinecone Docs home page![light logo](https://mintlify.s3-us-\n",
      "west-1.amazonaws.com/pinecone-2/logo/light.png)![dark\n",
      "logo](https://mintlify.s3-us-\n",
      "west-1.amazonaws.com/pinecone-2/logo/dark.png)](/)  Latest  Search or\n",
      "ask...    * [Sign up\n",
      "free](https://app.pinecone.io/?sessionType=signup)   *\n",
      "[Status](https://status.pinecone.io)   * [Support](http...\n"
     ]
    }
   ],
   "source": [
    "response = query_engine.query(\"Pinecone Documentation and Resources: A Comprehensive Guide\")\n",
    "print(response)\n",
    "for node in response.source_nodes:\n",
    "    pprint_source_node(node)"
   ]
  },
  {
   "cell_type": "code",
   "execution_count": 123,
   "id": "e35dc151-263b-40ee-ad95-22d2608e99c5",
   "metadata": {},
   "outputs": [
    {
     "name": "stdout",
     "output_type": "stream",
     "text": [
      "Empty Response\n"
     ]
    }
   ],
   "source": [
    "response = query_engine.query(\"Who is Mohamed A. Abdelhady ?\")\n",
    "print(response)\n",
    "for node in response.source_nodes:\n",
    "    pprint_source_node(node)"
   ]
  }
 ],
 "metadata": {
  "kernelspec": {
   "display_name": "Python 3 (ipykernel)",
   "language": "python",
   "name": "python3"
  },
  "language_info": {
   "codemirror_mode": {
    "name": "ipython",
    "version": 3
   },
   "file_extension": ".py",
   "mimetype": "text/x-python",
   "name": "python",
   "nbconvert_exporter": "python",
   "pygments_lexer": "ipython3",
   "version": "3.9.6"
  }
 },
 "nbformat": 4,
 "nbformat_minor": 5
}
