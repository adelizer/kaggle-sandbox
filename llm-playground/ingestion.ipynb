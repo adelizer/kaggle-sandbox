{
 "cells": [
  {
   "cell_type": "markdown",
   "id": "32defe66-57c9-4050-88f5-1f3fa494f268",
   "metadata": {},
   "source": [
    "# Loading data (Ingestion)"
   ]
  },
  {
   "cell_type": "markdown",
   "id": "a0dace87-ce56-4b05-b1d3-9e4ddb9bf36b",
   "metadata": {},
   "source": [
    "### Simple directory reader"
   ]
  },
  {
   "cell_type": "code",
   "execution_count": 4,
   "id": "6f8369e2-5a5a-4142-8a44-dcf37866777e",
   "metadata": {},
   "outputs": [
    {
     "name": "stderr",
     "output_type": "stream",
     "text": [
      "Ignoring wrong pointing object 35 0 (offset 0)\n",
      "Ignoring wrong pointing object 117 0 (offset 0)\n"
     ]
    }
   ],
   "source": [
    "# we can use llama index Reader objects to load data from multiple sources into Documents\n",
    "# Document contains text and metadata\n",
    "# ['id_', 'embedding', 'metadata', 'excluded_embed_metadata_keys', 'excluded_llm_metadata_keys', 'relationships', 'text', 'start_char_idx', 'end_char_idx', 'text_template', 'metadata_template', 'metadata_seperator', 'class_name']\n",
    "from llama_index.core import SimpleDirectoryReader\n",
    "\n",
    "documents = SimpleDirectoryReader(\"./data\").load_data()"
   ]
  },
  {
   "cell_type": "markdown",
   "id": "b70cbb5d-758a-4fee-9cf4-a60e76343d52",
   "metadata": {},
   "source": [
    "### Web reader"
   ]
  },
  {
   "cell_type": "code",
   "execution_count": null,
   "id": "246f2e75-b100-47e4-a8a2-d6d50ee3a379",
   "metadata": {},
   "outputs": [],
   "source": [
    "from llama_index.readers.web import SimpleWebPageReader\n",
    "\n",
    "documents = SimpleWebPageReader(html_to_text=True).load_data(urls=[\n",
    "    \"https://docs.llamaindex.ai/en/stable/understanding/loading/loading/#creating-and-passing-nodes-directly\"\n",
    "])\n",
    "print(len(documents))"
   ]
  },
  {
   "cell_type": "markdown",
   "id": "87ebc6c6-3420-4a92-a48e-8f0c59497782",
   "metadata": {},
   "source": [
    "### Transformation"
   ]
  },
  {
   "cell_type": "code",
   "execution_count": 32,
   "id": "c45a5ba1-7055-449e-8c8e-cb5128aa1101",
   "metadata": {},
   "outputs": [],
   "source": [
    "from llama_index.core.node_parser import SentenceSplitter, TokenTextSplitter, TextSplitter\n",
    "from llama_index.core.ingestion import IngestionPipeline\n",
    "\n",
    "text_splitter = SentenceSplitter(chunk_size=1024, chunk_overlap=10)\n",
    "\n",
    "pipeline = IngestionPipeline(transformations=[text_splitter])\n",
    "\n",
    "nodes = pipeline.run(documents=documents)"
   ]
  },
  {
   "cell_type": "code",
   "execution_count": 33,
   "id": "8d37453e-6ea6-4cf2-8fb8-b42e39d30b38",
   "metadata": {},
   "outputs": [
    {
     "data": {
      "text/plain": [
       "(1, 30)"
      ]
     },
     "execution_count": 33,
     "metadata": {},
     "output_type": "execute_result"
    }
   ],
   "source": [
    "len(documents), len(nodes)"
   ]
  },
  {
   "cell_type": "code",
   "execution_count": 36,
   "id": "f892dcc1-a24f-46d0-9cdf-305741bbe050",
   "metadata": {},
   "outputs": [],
   "source": [
    "# metadata can be added to the documents and could be anything\n",
    "# it will be passed on to the nodes \n",
    "# it will be injected into the text for embedding and llm calls \n",
    "\n",
    "documents[0].metadata = {\"category\": \"AI\"}"
   ]
  },
  {
   "cell_type": "code",
   "execution_count": 37,
   "id": "7d8ad048-4c68-43fa-b2f8-33f1b38505ef",
   "metadata": {},
   "outputs": [],
   "source": [
    "nodes = pipeline.run(documents=documents)"
   ]
  },
  {
   "cell_type": "code",
   "execution_count": 39,
   "id": "43b5b446-7896-4a74-9d01-506098ba8e49",
   "metadata": {},
   "outputs": [
    {
     "data": {
      "text/plain": [
       "{'category': 'AI'}"
      ]
     },
     "execution_count": 39,
     "metadata": {},
     "output_type": "execute_result"
    }
   ],
   "source": [
    "nodes[0].metadata"
   ]
  },
  {
   "cell_type": "code",
   "execution_count": 43,
   "id": "3a40d213-a918-4c95-a4c6-66d6783b2530",
   "metadata": {},
   "outputs": [],
   "source": [
    "# instead of using the ingestion pipeline API we can use the node parsers directly\n",
    "parser = SentenceSplitter()\n",
    "\n",
    "nodes = parser.get_nodes_from_documents(documents)"
   ]
  },
  {
   "cell_type": "code",
   "execution_count": 44,
   "id": "df8bdd23-cd60-4ccf-8188-cda95963172e",
   "metadata": {},
   "outputs": [
    {
     "data": {
      "text/plain": [
       "{'category': 'AI'}"
      ]
     },
     "execution_count": 44,
     "metadata": {},
     "output_type": "execute_result"
    }
   ],
   "source": [
    "nodes[0].metadata"
   ]
  },
  {
   "cell_type": "code",
   "execution_count": 50,
   "id": "64ae600b-bd55-4b66-aec3-a1df344d7aa1",
   "metadata": {},
   "outputs": [
    {
     "data": {
      "text/plain": [
       "'category: AI\\n\\nSkip to content\\n'"
      ]
     },
     "execution_count": 50,
     "metadata": {},
     "output_type": "execute_result"
    }
   ],
   "source": [
    "from llama_index.core.schema import MetadataMode\n",
    "n = nodes[0]\n",
    "n.get_content(MetadataMode.LLM)[:30]"
   ]
  },
  {
   "cell_type": "code",
   "execution_count": null,
   "id": "4fc1788f-8aa2-4786-880a-3839f13466ee",
   "metadata": {},
   "outputs": [],
   "source": []
  },
  {
   "cell_type": "code",
   "execution_count": null,
   "id": "40b56d67-c59a-4994-9efa-78c9ea7caed7",
   "metadata": {},
   "outputs": [],
   "source": []
  },
  {
   "cell_type": "markdown",
   "id": "08de3bc9-8bc5-4e6a-b425-01d96a0f11b1",
   "metadata": {},
   "source": [
    "### Developing a pipeline to add metadata to nodes"
   ]
  },
  {
   "cell_type": "code",
   "execution_count": 53,
   "id": "0c74bc3f-fbbb-4a25-b2b8-794290100171",
   "metadata": {},
   "outputs": [],
   "source": [
    "from llama_index.core import SimpleDirectoryReader\n",
    "from llama_index.core import Document\n",
    "from llama_index.core.node_parser import SentenceSplitter, TokenTextSplitter, TextSplitter\n",
    "from llama_index.core.ingestion import IngestionPipeline\n",
    "from llama_index.core.extractors import SummaryExtractor, TitleExtractor, KeywordExtractor\n",
    "from llama_index.core.schema import MetadataMode\n",
    "from llama_index.llms.openai import OpenAI\n",
    "\n",
    "llm = OpenAI(temperature=0.1, model=\"gpt-3.5-turbo\", max_tokens=512)"
   ]
  },
  {
   "cell_type": "code",
   "execution_count": 59,
   "id": "123b7097-8d89-4791-9a0f-0ba68af36916",
   "metadata": {},
   "outputs": [],
   "source": [
    "documents = [\n",
    "    Document(text=\"The number of physically distinct goods and unique types of services that consumers can purchase is in the millions. On the business or production side of the economy, there are even more commodities that are actively traded. This is because firms not only produce commodities for final consumption, but they also produce exports and intermediate commodities that are demanded by other producers. Firms collectively also use millions of imported goods and services, thousands of different types of labour services and hundreds of thousands of specific types of capital. If we further distinguish physical commodities by their geographic location or by the season or time of day that they are produced or consumed, then there are billions of commodities that are traded within each year in any advanced economy. For many purposes, it is necessary to summarize this vast amount of price and quantity information into a much smaller set of numbers. The question that this chapter addresses is: how exactly should the microeconomic information involving possibly millions of prices and quantities be aggregated into a smaller number of price and quantity variables? This is the basic index number problem.\"),\n",
    "    Document(text=\"Waking up at a specific time (like 3:30 a.m.) is likely due to the end of a sleep cycle and/or due to a learned habit.During REM sleep, your body is paralyzed, and upon exiting this phase, the body needs to move and reposition, which often briefly awakens you. Normally, these awakenings are so brief that you don’t remember, but some will wake you up fully.Checking the time when you wake up at night can train your brain to continue waking at that time. This is a form of learning whereby checking the clock strengthens the memory association with that specific time.\"),\n",
    "    Document(text=\"LLMs are trained on enormous bodies of data but they aren't trained on your data. Retrieval-Augmented Generation (RAG) solves this problem by adding your data to the data LLMs already have access to. You will see references to RAG frequently in this documentation.In RAG, your data is loaded and prepared for queries or indexed. User queries act on the index, which filters your data down to the most relevant context. This context and your query then go to the LLM along with a prompt, and the LLM provides a response\"),\n",
    "]"
   ]
  },
  {
   "cell_type": "code",
   "execution_count": 73,
   "id": "a77e401f-da68-4045-af3a-082a074c8dec",
   "metadata": {},
   "outputs": [
    {
     "data": {
      "text/plain": [
       "3"
      ]
     },
     "execution_count": 73,
     "metadata": {},
     "output_type": "execute_result"
    }
   ],
   "source": [
    "normal_ingestion_pipeline = IngestionPipeline(transformations=[SentenceSplitter(chunk_size=512)])\n",
    "normal_nodes = normal_ingestion_pipeline.run(documents=documents)\n",
    "len(normal_nodes)"
   ]
  },
  {
   "cell_type": "code",
   "execution_count": 75,
   "id": "59d776dd-e006-4452-b2aa-f38875454702",
   "metadata": {},
   "outputs": [
    {
     "data": {
      "text/plain": [
       "{}"
      ]
     },
     "execution_count": 75,
     "metadata": {},
     "output_type": "execute_result"
    }
   ],
   "source": [
    "normal_nodes[0].metadata"
   ]
  },
  {
   "cell_type": "code",
   "execution_count": 76,
   "id": "c5629a6c-ffb1-4c9b-82e1-25ab49f3a9c2",
   "metadata": {},
   "outputs": [
    {
     "data": {
      "text/plain": [
       "'The number of physically distinct goods and unique types of services that consumers can purchase is in the millions. On the business or production side of the economy, there are even more commodities that are actively traded. This is because firms not only produce commodities for final consumption, but they also produce exports and intermediate commodities that are demanded by other producers. Firms collectively also use millions of imported goods and services, thousands of different types of labour services and hundreds of thousands of specific types of capital. If we further distinguish physical commodities by their geographic location or by the season or time of day that they are produced or consumed, then there are billions of commodities that are traded within each year in any advanced economy. For many purposes, it is necessary to summarize this vast amount of price and quantity information into a much smaller set of numbers. The question that this chapter addresses is: how exactly should the microeconomic information involving possibly millions of prices and quantities be aggregated into a smaller number of price and quantity variables? This is the basic index number problem.'"
      ]
     },
     "execution_count": 76,
     "metadata": {},
     "output_type": "execute_result"
    }
   ],
   "source": [
    "normal_nodes[0].get_content(MetadataMode.LLM)"
   ]
  },
  {
   "cell_type": "code",
   "execution_count": 78,
   "id": "916d1561-d715-49f6-9058-6ca94cb6e4d3",
   "metadata": {},
   "outputs": [
    {
     "name": "stderr",
     "output_type": "stream",
     "text": [
      "100%|██████████████████████████████████████████████████████████████████████████████████████████████████████████████████████████████████████████████████| 1/1 [00:00<00:00,  1.12it/s]\n",
      "100%|██████████████████████████████████████████████████████████████████████████████████████████████████████████████████████████████████████████████████| 1/1 [00:00<00:00,  1.38it/s]\n",
      "100%|██████████████████████████████████████████████████████████████████████████████████████████████████████████████████████████████████████████████████| 1/1 [00:00<00:00,  1.40it/s]\n"
     ]
    }
   ],
   "source": [
    "import nest_asyncio\n",
    "\n",
    "nest_asyncio.apply()\n",
    "\n",
    "metadata_pipeline = IngestionPipeline(transformations=[SentenceSplitter(chunk_size=512), TitleExtractor(llm=llm)])\n",
    "metadata_nodes = metadata_pipeline.run(documents=documents)"
   ]
  },
  {
   "cell_type": "code",
   "execution_count": 80,
   "id": "8a14a6a3-6b7a-402a-8611-13c065a17538",
   "metadata": {},
   "outputs": [
    {
     "data": {
      "text/plain": [
       "{'document_title': 'Aggregating Microeconomic Information: The Index Number Problem in a Vast Economy'}"
      ]
     },
     "execution_count": 80,
     "metadata": {},
     "output_type": "execute_result"
    }
   ],
   "source": [
    "metadata_nodes[0].metadata"
   ]
  },
  {
   "cell_type": "code",
   "execution_count": 81,
   "id": "a0f18d44-f2a2-4682-b7eb-1652006f24ce",
   "metadata": {},
   "outputs": [
    {
     "data": {
      "text/plain": [
       "'[Excerpt from document]\\ndocument_title: Aggregating Microeconomic Information: The Index Number Problem in a Vast Economy\\nExcerpt:\\n-----\\nThe number of physically distinct goods and unique types of services that consumers can purchase is in the millions. On the business or production side of the economy, there are even more commodities that are actively traded. This is because firms not only produce commodities for final consumption, but they also produce exports and intermediate commodities that are demanded by other producers. Firms collectively also use millions of imported goods and services, thousands of different types of labour services and hundreds of thousands of specific types of capital. If we further distinguish physical commodities by their geographic location or by the season or time of day that they are produced or consumed, then there are billions of commodities that are traded within each year in any advanced economy. For many purposes, it is necessary to summarize this vast amount of price and quantity information into a much smaller set of numbers. The question that this chapter addresses is: how exactly should the microeconomic information involving possibly millions of prices and quantities be aggregated into a smaller number of price and quantity variables? This is the basic index number problem.\\n-----'"
      ]
     },
     "execution_count": 81,
     "metadata": {},
     "output_type": "execute_result"
    }
   ],
   "source": [
    "metadata_nodes[0].get_content(MetadataMode.LLM)"
   ]
  },
  {
   "cell_type": "code",
   "execution_count": null,
   "id": "224e8189-83aa-44c4-b5ba-7fcadaabb792",
   "metadata": {},
   "outputs": [],
   "source": []
  }
 ],
 "metadata": {
  "kernelspec": {
   "display_name": "Python 3 (ipykernel)",
   "language": "python",
   "name": "python3"
  },
  "language_info": {
   "codemirror_mode": {
    "name": "ipython",
    "version": 3
   },
   "file_extension": ".py",
   "mimetype": "text/x-python",
   "name": "python",
   "nbconvert_exporter": "python",
   "pygments_lexer": "ipython3",
   "version": "3.9.6"
  }
 },
 "nbformat": 4,
 "nbformat_minor": 5
}
